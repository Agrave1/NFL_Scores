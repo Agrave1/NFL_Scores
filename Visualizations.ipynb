{
  "nbformat": 4,
  "nbformat_minor": 0,
  "metadata": {
    "colab": {
      "provenance": [],
      "mount_file_id": "1wf6hU62nmbWD9qxDWnJnjOSPwKPpVvTp",
      "authorship_tag": "ABX9TyOmbryeUMDk6miY9im8Ghj+",
      "include_colab_link": true
    },
    "kernelspec": {
      "name": "python3",
      "display_name": "Python 3"
    },
    "language_info": {
      "name": "python"
    }
  },
  "cells": [
    {
      "cell_type": "markdown",
      "metadata": {
        "id": "view-in-github",
        "colab_type": "text"
      },
      "source": [
        "<a href=\"https://colab.research.google.com/github/Agrave1/NFL_Scores/blob/main/Visualizations.ipynb\" target=\"_parent\"><img src=\"https://colab.research.google.com/assets/colab-badge.svg\" alt=\"Open In Colab\"/></a>"
      ]
    },
    {
      "cell_type": "code",
      "execution_count": 13,
      "metadata": {
        "id": "5e9HBoGuvbCX"
      },
      "outputs": [],
      "source": [
        "import pandas as pd\n",
        "import numpy as np\n",
        "import matplotlib.pyplot as plt\n",
        "import seaborn as sns"
      ]
    },
    {
      "cell_type": "code",
      "source": [
        "betting_df = pd.read_csv(\"/content/drive/MyDrive/Project 2/Spread_Scores.csv\")\n",
        "betting_df.head()"
      ],
      "metadata": {
        "id": "q-7-tIkGwJp0",
        "colab": {
          "base_uri": "https://localhost:8080/",
          "height": 357
        },
        "outputId": "2e90bc83-3eda-4397-d671-1dbbdf9f24cb"
      },
      "execution_count": 14,
      "outputs": [
        {
          "output_type": "execute_result",
          "data": {
            "text/plain": [
              "  schedule_date  schedule_season schedule_week  schedule_playoff  \\\n",
              "0      9/2/1966             1966             1             False   \n",
              "1      9/3/1966             1966             1             False   \n",
              "2      9/4/1966             1966             1             False   \n",
              "3      9/9/1966             1966             2             False   \n",
              "4     9/10/1966             1966             1             False   \n",
              "\n",
              "            team_home  score_home  score_away  total_score        team_away  \\\n",
              "0      Miami Dolphins        14.0        23.0           37  Oakland Raiders   \n",
              "1      Houston Oilers        45.0         7.0           52   Denver Broncos   \n",
              "2  San Diego Chargers        27.0         7.0           34    Buffalo Bills   \n",
              "3      Miami Dolphins        14.0        19.0           33    New York Jets   \n",
              "4   Green Bay Packers        24.0         3.0           27  Baltimore Colts   \n",
              "\n",
              "  team_favorite_id  spread_favorite over_under_line         stadium  \\\n",
              "0              NaN              NaN             NaN     Orange Bowl   \n",
              "1              NaN              NaN             NaN    Rice Stadium   \n",
              "2              NaN              NaN             NaN  Balboa Stadium   \n",
              "3              NaN              NaN             NaN     Orange Bowl   \n",
              "4              NaN              NaN             NaN   Lambeau Field   \n",
              "\n",
              "   stadium_neutral  weather_temperature  weather_wind_mph  weather_humidity  \\\n",
              "0            False                 83.0               6.0              71.0   \n",
              "1            False                 81.0               7.0              70.0   \n",
              "2            False                 70.0               7.0              82.0   \n",
              "3            False                 82.0              11.0              78.0   \n",
              "4            False                 64.0               8.0              62.0   \n",
              "\n",
              "  weather_detail  \n",
              "0            NaN  \n",
              "1            NaN  \n",
              "2            NaN  \n",
              "3            NaN  \n",
              "4            NaN  "
            ],
            "text/html": [
              "\n",
              "  <div id=\"df-57b6e9d9-50dc-4b5a-947b-a729c4a6d00b\">\n",
              "    <div class=\"colab-df-container\">\n",
              "      <div>\n",
              "<style scoped>\n",
              "    .dataframe tbody tr th:only-of-type {\n",
              "        vertical-align: middle;\n",
              "    }\n",
              "\n",
              "    .dataframe tbody tr th {\n",
              "        vertical-align: top;\n",
              "    }\n",
              "\n",
              "    .dataframe thead th {\n",
              "        text-align: right;\n",
              "    }\n",
              "</style>\n",
              "<table border=\"1\" class=\"dataframe\">\n",
              "  <thead>\n",
              "    <tr style=\"text-align: right;\">\n",
              "      <th></th>\n",
              "      <th>schedule_date</th>\n",
              "      <th>schedule_season</th>\n",
              "      <th>schedule_week</th>\n",
              "      <th>schedule_playoff</th>\n",
              "      <th>team_home</th>\n",
              "      <th>score_home</th>\n",
              "      <th>score_away</th>\n",
              "      <th>total_score</th>\n",
              "      <th>team_away</th>\n",
              "      <th>team_favorite_id</th>\n",
              "      <th>spread_favorite</th>\n",
              "      <th>over_under_line</th>\n",
              "      <th>stadium</th>\n",
              "      <th>stadium_neutral</th>\n",
              "      <th>weather_temperature</th>\n",
              "      <th>weather_wind_mph</th>\n",
              "      <th>weather_humidity</th>\n",
              "      <th>weather_detail</th>\n",
              "    </tr>\n",
              "  </thead>\n",
              "  <tbody>\n",
              "    <tr>\n",
              "      <th>0</th>\n",
              "      <td>9/2/1966</td>\n",
              "      <td>1966</td>\n",
              "      <td>1</td>\n",
              "      <td>False</td>\n",
              "      <td>Miami Dolphins</td>\n",
              "      <td>14.0</td>\n",
              "      <td>23.0</td>\n",
              "      <td>37</td>\n",
              "      <td>Oakland Raiders</td>\n",
              "      <td>NaN</td>\n",
              "      <td>NaN</td>\n",
              "      <td>NaN</td>\n",
              "      <td>Orange Bowl</td>\n",
              "      <td>False</td>\n",
              "      <td>83.0</td>\n",
              "      <td>6.0</td>\n",
              "      <td>71.0</td>\n",
              "      <td>NaN</td>\n",
              "    </tr>\n",
              "    <tr>\n",
              "      <th>1</th>\n",
              "      <td>9/3/1966</td>\n",
              "      <td>1966</td>\n",
              "      <td>1</td>\n",
              "      <td>False</td>\n",
              "      <td>Houston Oilers</td>\n",
              "      <td>45.0</td>\n",
              "      <td>7.0</td>\n",
              "      <td>52</td>\n",
              "      <td>Denver Broncos</td>\n",
              "      <td>NaN</td>\n",
              "      <td>NaN</td>\n",
              "      <td>NaN</td>\n",
              "      <td>Rice Stadium</td>\n",
              "      <td>False</td>\n",
              "      <td>81.0</td>\n",
              "      <td>7.0</td>\n",
              "      <td>70.0</td>\n",
              "      <td>NaN</td>\n",
              "    </tr>\n",
              "    <tr>\n",
              "      <th>2</th>\n",
              "      <td>9/4/1966</td>\n",
              "      <td>1966</td>\n",
              "      <td>1</td>\n",
              "      <td>False</td>\n",
              "      <td>San Diego Chargers</td>\n",
              "      <td>27.0</td>\n",
              "      <td>7.0</td>\n",
              "      <td>34</td>\n",
              "      <td>Buffalo Bills</td>\n",
              "      <td>NaN</td>\n",
              "      <td>NaN</td>\n",
              "      <td>NaN</td>\n",
              "      <td>Balboa Stadium</td>\n",
              "      <td>False</td>\n",
              "      <td>70.0</td>\n",
              "      <td>7.0</td>\n",
              "      <td>82.0</td>\n",
              "      <td>NaN</td>\n",
              "    </tr>\n",
              "    <tr>\n",
              "      <th>3</th>\n",
              "      <td>9/9/1966</td>\n",
              "      <td>1966</td>\n",
              "      <td>2</td>\n",
              "      <td>False</td>\n",
              "      <td>Miami Dolphins</td>\n",
              "      <td>14.0</td>\n",
              "      <td>19.0</td>\n",
              "      <td>33</td>\n",
              "      <td>New York Jets</td>\n",
              "      <td>NaN</td>\n",
              "      <td>NaN</td>\n",
              "      <td>NaN</td>\n",
              "      <td>Orange Bowl</td>\n",
              "      <td>False</td>\n",
              "      <td>82.0</td>\n",
              "      <td>11.0</td>\n",
              "      <td>78.0</td>\n",
              "      <td>NaN</td>\n",
              "    </tr>\n",
              "    <tr>\n",
              "      <th>4</th>\n",
              "      <td>9/10/1966</td>\n",
              "      <td>1966</td>\n",
              "      <td>1</td>\n",
              "      <td>False</td>\n",
              "      <td>Green Bay Packers</td>\n",
              "      <td>24.0</td>\n",
              "      <td>3.0</td>\n",
              "      <td>27</td>\n",
              "      <td>Baltimore Colts</td>\n",
              "      <td>NaN</td>\n",
              "      <td>NaN</td>\n",
              "      <td>NaN</td>\n",
              "      <td>Lambeau Field</td>\n",
              "      <td>False</td>\n",
              "      <td>64.0</td>\n",
              "      <td>8.0</td>\n",
              "      <td>62.0</td>\n",
              "      <td>NaN</td>\n",
              "    </tr>\n",
              "  </tbody>\n",
              "</table>\n",
              "</div>\n",
              "      <button class=\"colab-df-convert\" onclick=\"convertToInteractive('df-57b6e9d9-50dc-4b5a-947b-a729c4a6d00b')\"\n",
              "              title=\"Convert this dataframe to an interactive table.\"\n",
              "              style=\"display:none;\">\n",
              "        \n",
              "  <svg xmlns=\"http://www.w3.org/2000/svg\" height=\"24px\"viewBox=\"0 0 24 24\"\n",
              "       width=\"24px\">\n",
              "    <path d=\"M0 0h24v24H0V0z\" fill=\"none\"/>\n",
              "    <path d=\"M18.56 5.44l.94 2.06.94-2.06 2.06-.94-2.06-.94-.94-2.06-.94 2.06-2.06.94zm-11 1L8.5 8.5l.94-2.06 2.06-.94-2.06-.94L8.5 2.5l-.94 2.06-2.06.94zm10 10l.94 2.06.94-2.06 2.06-.94-2.06-.94-.94-2.06-.94 2.06-2.06.94z\"/><path d=\"M17.41 7.96l-1.37-1.37c-.4-.4-.92-.59-1.43-.59-.52 0-1.04.2-1.43.59L10.3 9.45l-7.72 7.72c-.78.78-.78 2.05 0 2.83L4 21.41c.39.39.9.59 1.41.59.51 0 1.02-.2 1.41-.59l7.78-7.78 2.81-2.81c.8-.78.8-2.07 0-2.86zM5.41 20L4 18.59l7.72-7.72 1.47 1.35L5.41 20z\"/>\n",
              "  </svg>\n",
              "      </button>\n",
              "      \n",
              "  <style>\n",
              "    .colab-df-container {\n",
              "      display:flex;\n",
              "      flex-wrap:wrap;\n",
              "      gap: 12px;\n",
              "    }\n",
              "\n",
              "    .colab-df-convert {\n",
              "      background-color: #E8F0FE;\n",
              "      border: none;\n",
              "      border-radius: 50%;\n",
              "      cursor: pointer;\n",
              "      display: none;\n",
              "      fill: #1967D2;\n",
              "      height: 32px;\n",
              "      padding: 0 0 0 0;\n",
              "      width: 32px;\n",
              "    }\n",
              "\n",
              "    .colab-df-convert:hover {\n",
              "      background-color: #E2EBFA;\n",
              "      box-shadow: 0px 1px 2px rgba(60, 64, 67, 0.3), 0px 1px 3px 1px rgba(60, 64, 67, 0.15);\n",
              "      fill: #174EA6;\n",
              "    }\n",
              "\n",
              "    [theme=dark] .colab-df-convert {\n",
              "      background-color: #3B4455;\n",
              "      fill: #D2E3FC;\n",
              "    }\n",
              "\n",
              "    [theme=dark] .colab-df-convert:hover {\n",
              "      background-color: #434B5C;\n",
              "      box-shadow: 0px 1px 3px 1px rgba(0, 0, 0, 0.15);\n",
              "      filter: drop-shadow(0px 1px 2px rgba(0, 0, 0, 0.3));\n",
              "      fill: #FFFFFF;\n",
              "    }\n",
              "  </style>\n",
              "\n",
              "      <script>\n",
              "        const buttonEl =\n",
              "          document.querySelector('#df-57b6e9d9-50dc-4b5a-947b-a729c4a6d00b button.colab-df-convert');\n",
              "        buttonEl.style.display =\n",
              "          google.colab.kernel.accessAllowed ? 'block' : 'none';\n",
              "\n",
              "        async function convertToInteractive(key) {\n",
              "          const element = document.querySelector('#df-57b6e9d9-50dc-4b5a-947b-a729c4a6d00b');\n",
              "          const dataTable =\n",
              "            await google.colab.kernel.invokeFunction('convertToInteractive',\n",
              "                                                     [key], {});\n",
              "          if (!dataTable) return;\n",
              "\n",
              "          const docLinkHtml = 'Like what you see? Visit the ' +\n",
              "            '<a target=\"_blank\" href=https://colab.research.google.com/notebooks/data_table.ipynb>data table notebook</a>'\n",
              "            + ' to learn more about interactive tables.';\n",
              "          element.innerHTML = '';\n",
              "          dataTable['output_type'] = 'display_data';\n",
              "          await google.colab.output.renderOutput(dataTable, element);\n",
              "          const docLink = document.createElement('div');\n",
              "          docLink.innerHTML = docLinkHtml;\n",
              "          element.appendChild(docLink);\n",
              "        }\n",
              "      </script>\n",
              "    </div>\n",
              "  </div>\n",
              "  "
            ]
          },
          "metadata": {},
          "execution_count": 14
        }
      ]
    },
    {
      "cell_type": "markdown",
      "source": [
        "## Data Cleaning"
      ],
      "metadata": {
        "id": "1ycSKrNqyUg1"
      }
    },
    {
      "cell_type": "code",
      "source": [
        "betting_df.duplicated().sum()"
      ],
      "metadata": {
        "id": "s3QsdExhwOVQ",
        "colab": {
          "base_uri": "https://localhost:8080/"
        },
        "outputId": "6680b35f-f927-42a9-a446-709c407374c3"
      },
      "execution_count": 15,
      "outputs": [
        {
          "output_type": "execute_result",
          "data": {
            "text/plain": [
              "0"
            ]
          },
          "metadata": {},
          "execution_count": 15
        }
      ]
    },
    {
      "cell_type": "code",
      "source": [
        "betting_df.info()"
      ],
      "metadata": {
        "id": "8_4F1SLfwZel",
        "colab": {
          "base_uri": "https://localhost:8080/"
        },
        "outputId": "ccdc3efc-8a5a-4310-b1b5-63aab127247b"
      },
      "execution_count": 16,
      "outputs": [
        {
          "output_type": "stream",
          "name": "stdout",
          "text": [
            "<class 'pandas.core.frame.DataFrame'>\n",
            "RangeIndex: 13232 entries, 0 to 13231\n",
            "Data columns (total 18 columns):\n",
            " #   Column               Non-Null Count  Dtype  \n",
            "---  ------               --------------  -----  \n",
            " 0   schedule_date        13232 non-null  object \n",
            " 1   schedule_season      13232 non-null  int64  \n",
            " 2   schedule_week        13232 non-null  object \n",
            " 3   schedule_playoff     13232 non-null  bool   \n",
            " 4   team_home            13232 non-null  object \n",
            " 5   score_home           13231 non-null  float64\n",
            " 6   score_away           13231 non-null  float64\n",
            " 7   total_score          13232 non-null  int64  \n",
            " 8   team_away            13232 non-null  object \n",
            " 9   team_favorite_id     10753 non-null  object \n",
            " 10  spread_favorite      10753 non-null  float64\n",
            " 11  over_under_line      10743 non-null  object \n",
            " 12  stadium              13232 non-null  object \n",
            " 13  stadium_neutral      13232 non-null  bool   \n",
            " 14  weather_temperature  12189 non-null  float64\n",
            " 15  weather_wind_mph     12172 non-null  float64\n",
            " 16  weather_humidity     8441 non-null   float64\n",
            " 17  weather_detail       2822 non-null   object \n",
            "dtypes: bool(2), float64(6), int64(2), object(8)\n",
            "memory usage: 1.6+ MB\n"
          ]
        }
      ]
    },
    {
      "cell_type": "code",
      "source": [
        "betting_df.isna().sum()"
      ],
      "metadata": {
        "colab": {
          "base_uri": "https://localhost:8080/"
        },
        "id": "_yLdYNrnwTor",
        "outputId": "150f97a4-188f-4235-b24d-89d8721f18bc"
      },
      "execution_count": 17,
      "outputs": [
        {
          "output_type": "execute_result",
          "data": {
            "text/plain": [
              "schedule_date              0\n",
              "schedule_season            0\n",
              "schedule_week              0\n",
              "schedule_playoff           0\n",
              "team_home                  0\n",
              "score_home                 1\n",
              "score_away                 1\n",
              "total_score                0\n",
              "team_away                  0\n",
              "team_favorite_id        2479\n",
              "spread_favorite         2479\n",
              "over_under_line         2489\n",
              "stadium                    0\n",
              "stadium_neutral            0\n",
              "weather_temperature     1043\n",
              "weather_wind_mph        1060\n",
              "weather_humidity        4791\n",
              "weather_detail         10410\n",
              "dtype: int64"
            ]
          },
          "metadata": {},
          "execution_count": 17
        }
      ]
    },
    {
      "cell_type": "code",
      "source": [
        "betting_df = betting_df.drop(labels = range(0,2500), axis = 0)\n",
        "#Dropped those rows because all the missing values were at the start of the dataset\n",
        "#Didn't impute because these betting statistics can't be imputed or they would skew the results for the games with accurate betting data"
      ],
      "metadata": {
        "id": "tGoDhcsh4S99"
      },
      "execution_count": 18,
      "outputs": []
    },
    {
      "cell_type": "code",
      "source": [
        "betting_df[\"schedule_week\"].replace({\"SuperBowl\" : \"Superbowl\", \"WildCard\" : \"Wildcard\"}, inplace = True)\n",
        "betting_df[\"schedule_week\"].value_counts()"
      ],
      "metadata": {
        "id": "3kECVVK-6JVs",
        "colab": {
          "base_uri": "https://localhost:8080/"
        },
        "outputId": "130f9d83-e606-428a-d609-0aa42d2e94e0"
      },
      "execution_count": 19,
      "outputs": [
        {
          "output_type": "execute_result",
          "data": {
            "text/plain": [
              "16            649\n",
              "15            649\n",
              "1             647\n",
              "2             647\n",
              "13            645\n",
              "14            644\n",
              "12            641\n",
              "11            625\n",
              "3             598\n",
              "10            589\n",
              "9             572\n",
              "4             572\n",
              "7             569\n",
              "8             567\n",
              "5             560\n",
              "6             557\n",
              "17            509\n",
              "Division      172\n",
              "Wildcard      160\n",
              "Conference     86\n",
              "Superbowl      44\n",
              "18             30\n",
              "Name: schedule_week, dtype: int64"
            ]
          },
          "metadata": {},
          "execution_count": 19
        }
      ]
    },
    {
      "cell_type": "code",
      "source": [
        "betting_df[\"score_home\"].fillna(23, inplace = True)\n",
        "betting_df[\"score_away\"].fillna(20, inplace = True)\n",
        "#Filled in missing values for Superbowl 2021 season with correct score after google searching"
      ],
      "metadata": {
        "id": "ELpPTcquwhsg"
      },
      "execution_count": 20,
      "outputs": []
    },
    {
      "cell_type": "code",
      "source": [
        "betting_df = betting_df.drop(columns = [\"weather_detail\"])\n",
        "#Too many categorical values and too many missing values to input based on most frequent\n",
        "#Most frequent was dome and many stadiums and games would be incorrectly classified as dome if imputed"
      ],
      "metadata": {
        "id": "Y4p8597R2mKh"
      },
      "execution_count": 21,
      "outputs": []
    },
    {
      "cell_type": "code",
      "source": [
        "betting_df.isna().sum()"
      ],
      "metadata": {
        "colab": {
          "base_uri": "https://localhost:8080/"
        },
        "id": "XqMNw_Gn3ipJ",
        "outputId": "fa9edb85-c624-4213-9223-2701c92a2be5"
      },
      "execution_count": 22,
      "outputs": [
        {
          "output_type": "execute_result",
          "data": {
            "text/plain": [
              "schedule_date             0\n",
              "schedule_season           0\n",
              "schedule_week             0\n",
              "schedule_playoff          0\n",
              "team_home                 0\n",
              "score_home                0\n",
              "score_away                0\n",
              "total_score               0\n",
              "team_away                 0\n",
              "team_favorite_id          0\n",
              "spread_favorite           0\n",
              "over_under_line           0\n",
              "stadium                   0\n",
              "stadium_neutral           0\n",
              "weather_temperature     813\n",
              "weather_wind_mph        830\n",
              "weather_humidity       4400\n",
              "dtype: int64"
            ]
          },
          "metadata": {},
          "execution_count": 22
        }
      ]
    },
    {
      "cell_type": "code",
      "source": [
        "betting_df.head()"
      ],
      "metadata": {
        "colab": {
          "base_uri": "https://localhost:8080/",
          "height": 374
        },
        "id": "QqNKuiP19zmL",
        "outputId": "a08c08a6-8cb5-4341-ffce-f55820998daa"
      },
      "execution_count": 23,
      "outputs": [
        {
          "output_type": "execute_result",
          "data": {
            "text/plain": [
              "     schedule_date  schedule_season schedule_week  schedule_playoff  \\\n",
              "2500     1/21/1979             1978     Superbowl              True   \n",
              "2501      9/1/1979             1979             1             False   \n",
              "2502      9/2/1979             1979             1             False   \n",
              "2503      9/2/1979             1979             1             False   \n",
              "2504      9/2/1979             1979             1             False   \n",
              "\n",
              "                 team_home  score_home  score_away  total_score  \\\n",
              "2500        Dallas Cowboys        31.0        35.0           66   \n",
              "2501  Tampa Bay Buccaneers        31.0        16.0           47   \n",
              "2502         Buffalo Bills         7.0         9.0           16   \n",
              "2503         Chicago Bears         6.0         3.0            9   \n",
              "2504        Denver Broncos        10.0         0.0           10   \n",
              "\n",
              "                team_away team_favorite_id  spread_favorite over_under_line  \\\n",
              "2500  Pittsburgh Steelers              PIT             -3.5              37   \n",
              "2501        Detroit Lions               TB             -3.0              30   \n",
              "2502       Miami Dolphins              MIA             -5.0              39   \n",
              "2503    Green Bay Packers              CHI             -3.0              31   \n",
              "2504   Cincinnati Bengals              DEN             -3.0            31.5   \n",
              "\n",
              "                   stadium  stadium_neutral  weather_temperature  \\\n",
              "2500           Orange Bowl             True                 71.0   \n",
              "2501    Houlihan's Stadium            False                 79.0   \n",
              "2502  Ralph Wilson Stadium            False                 74.0   \n",
              "2503         Soldier Field            False                 78.0   \n",
              "2504     Mile High Stadium            False                 69.0   \n",
              "\n",
              "      weather_wind_mph  weather_humidity  \n",
              "2500              18.0              84.0  \n",
              "2501               9.0              87.0  \n",
              "2502              15.0              74.0  \n",
              "2503              11.0              68.0  \n",
              "2504               6.0              38.0  "
            ],
            "text/html": [
              "\n",
              "  <div id=\"df-00950280-ed76-491e-a25f-c3ca14f9f74b\">\n",
              "    <div class=\"colab-df-container\">\n",
              "      <div>\n",
              "<style scoped>\n",
              "    .dataframe tbody tr th:only-of-type {\n",
              "        vertical-align: middle;\n",
              "    }\n",
              "\n",
              "    .dataframe tbody tr th {\n",
              "        vertical-align: top;\n",
              "    }\n",
              "\n",
              "    .dataframe thead th {\n",
              "        text-align: right;\n",
              "    }\n",
              "</style>\n",
              "<table border=\"1\" class=\"dataframe\">\n",
              "  <thead>\n",
              "    <tr style=\"text-align: right;\">\n",
              "      <th></th>\n",
              "      <th>schedule_date</th>\n",
              "      <th>schedule_season</th>\n",
              "      <th>schedule_week</th>\n",
              "      <th>schedule_playoff</th>\n",
              "      <th>team_home</th>\n",
              "      <th>score_home</th>\n",
              "      <th>score_away</th>\n",
              "      <th>total_score</th>\n",
              "      <th>team_away</th>\n",
              "      <th>team_favorite_id</th>\n",
              "      <th>spread_favorite</th>\n",
              "      <th>over_under_line</th>\n",
              "      <th>stadium</th>\n",
              "      <th>stadium_neutral</th>\n",
              "      <th>weather_temperature</th>\n",
              "      <th>weather_wind_mph</th>\n",
              "      <th>weather_humidity</th>\n",
              "    </tr>\n",
              "  </thead>\n",
              "  <tbody>\n",
              "    <tr>\n",
              "      <th>2500</th>\n",
              "      <td>1/21/1979</td>\n",
              "      <td>1978</td>\n",
              "      <td>Superbowl</td>\n",
              "      <td>True</td>\n",
              "      <td>Dallas Cowboys</td>\n",
              "      <td>31.0</td>\n",
              "      <td>35.0</td>\n",
              "      <td>66</td>\n",
              "      <td>Pittsburgh Steelers</td>\n",
              "      <td>PIT</td>\n",
              "      <td>-3.5</td>\n",
              "      <td>37</td>\n",
              "      <td>Orange Bowl</td>\n",
              "      <td>True</td>\n",
              "      <td>71.0</td>\n",
              "      <td>18.0</td>\n",
              "      <td>84.0</td>\n",
              "    </tr>\n",
              "    <tr>\n",
              "      <th>2501</th>\n",
              "      <td>9/1/1979</td>\n",
              "      <td>1979</td>\n",
              "      <td>1</td>\n",
              "      <td>False</td>\n",
              "      <td>Tampa Bay Buccaneers</td>\n",
              "      <td>31.0</td>\n",
              "      <td>16.0</td>\n",
              "      <td>47</td>\n",
              "      <td>Detroit Lions</td>\n",
              "      <td>TB</td>\n",
              "      <td>-3.0</td>\n",
              "      <td>30</td>\n",
              "      <td>Houlihan's Stadium</td>\n",
              "      <td>False</td>\n",
              "      <td>79.0</td>\n",
              "      <td>9.0</td>\n",
              "      <td>87.0</td>\n",
              "    </tr>\n",
              "    <tr>\n",
              "      <th>2502</th>\n",
              "      <td>9/2/1979</td>\n",
              "      <td>1979</td>\n",
              "      <td>1</td>\n",
              "      <td>False</td>\n",
              "      <td>Buffalo Bills</td>\n",
              "      <td>7.0</td>\n",
              "      <td>9.0</td>\n",
              "      <td>16</td>\n",
              "      <td>Miami Dolphins</td>\n",
              "      <td>MIA</td>\n",
              "      <td>-5.0</td>\n",
              "      <td>39</td>\n",
              "      <td>Ralph Wilson Stadium</td>\n",
              "      <td>False</td>\n",
              "      <td>74.0</td>\n",
              "      <td>15.0</td>\n",
              "      <td>74.0</td>\n",
              "    </tr>\n",
              "    <tr>\n",
              "      <th>2503</th>\n",
              "      <td>9/2/1979</td>\n",
              "      <td>1979</td>\n",
              "      <td>1</td>\n",
              "      <td>False</td>\n",
              "      <td>Chicago Bears</td>\n",
              "      <td>6.0</td>\n",
              "      <td>3.0</td>\n",
              "      <td>9</td>\n",
              "      <td>Green Bay Packers</td>\n",
              "      <td>CHI</td>\n",
              "      <td>-3.0</td>\n",
              "      <td>31</td>\n",
              "      <td>Soldier Field</td>\n",
              "      <td>False</td>\n",
              "      <td>78.0</td>\n",
              "      <td>11.0</td>\n",
              "      <td>68.0</td>\n",
              "    </tr>\n",
              "    <tr>\n",
              "      <th>2504</th>\n",
              "      <td>9/2/1979</td>\n",
              "      <td>1979</td>\n",
              "      <td>1</td>\n",
              "      <td>False</td>\n",
              "      <td>Denver Broncos</td>\n",
              "      <td>10.0</td>\n",
              "      <td>0.0</td>\n",
              "      <td>10</td>\n",
              "      <td>Cincinnati Bengals</td>\n",
              "      <td>DEN</td>\n",
              "      <td>-3.0</td>\n",
              "      <td>31.5</td>\n",
              "      <td>Mile High Stadium</td>\n",
              "      <td>False</td>\n",
              "      <td>69.0</td>\n",
              "      <td>6.0</td>\n",
              "      <td>38.0</td>\n",
              "    </tr>\n",
              "  </tbody>\n",
              "</table>\n",
              "</div>\n",
              "      <button class=\"colab-df-convert\" onclick=\"convertToInteractive('df-00950280-ed76-491e-a25f-c3ca14f9f74b')\"\n",
              "              title=\"Convert this dataframe to an interactive table.\"\n",
              "              style=\"display:none;\">\n",
              "        \n",
              "  <svg xmlns=\"http://www.w3.org/2000/svg\" height=\"24px\"viewBox=\"0 0 24 24\"\n",
              "       width=\"24px\">\n",
              "    <path d=\"M0 0h24v24H0V0z\" fill=\"none\"/>\n",
              "    <path d=\"M18.56 5.44l.94 2.06.94-2.06 2.06-.94-2.06-.94-.94-2.06-.94 2.06-2.06.94zm-11 1L8.5 8.5l.94-2.06 2.06-.94-2.06-.94L8.5 2.5l-.94 2.06-2.06.94zm10 10l.94 2.06.94-2.06 2.06-.94-2.06-.94-.94-2.06-.94 2.06-2.06.94z\"/><path d=\"M17.41 7.96l-1.37-1.37c-.4-.4-.92-.59-1.43-.59-.52 0-1.04.2-1.43.59L10.3 9.45l-7.72 7.72c-.78.78-.78 2.05 0 2.83L4 21.41c.39.39.9.59 1.41.59.51 0 1.02-.2 1.41-.59l7.78-7.78 2.81-2.81c.8-.78.8-2.07 0-2.86zM5.41 20L4 18.59l7.72-7.72 1.47 1.35L5.41 20z\"/>\n",
              "  </svg>\n",
              "      </button>\n",
              "      \n",
              "  <style>\n",
              "    .colab-df-container {\n",
              "      display:flex;\n",
              "      flex-wrap:wrap;\n",
              "      gap: 12px;\n",
              "    }\n",
              "\n",
              "    .colab-df-convert {\n",
              "      background-color: #E8F0FE;\n",
              "      border: none;\n",
              "      border-radius: 50%;\n",
              "      cursor: pointer;\n",
              "      display: none;\n",
              "      fill: #1967D2;\n",
              "      height: 32px;\n",
              "      padding: 0 0 0 0;\n",
              "      width: 32px;\n",
              "    }\n",
              "\n",
              "    .colab-df-convert:hover {\n",
              "      background-color: #E2EBFA;\n",
              "      box-shadow: 0px 1px 2px rgba(60, 64, 67, 0.3), 0px 1px 3px 1px rgba(60, 64, 67, 0.15);\n",
              "      fill: #174EA6;\n",
              "    }\n",
              "\n",
              "    [theme=dark] .colab-df-convert {\n",
              "      background-color: #3B4455;\n",
              "      fill: #D2E3FC;\n",
              "    }\n",
              "\n",
              "    [theme=dark] .colab-df-convert:hover {\n",
              "      background-color: #434B5C;\n",
              "      box-shadow: 0px 1px 3px 1px rgba(0, 0, 0, 0.15);\n",
              "      filter: drop-shadow(0px 1px 2px rgba(0, 0, 0, 0.3));\n",
              "      fill: #FFFFFF;\n",
              "    }\n",
              "  </style>\n",
              "\n",
              "      <script>\n",
              "        const buttonEl =\n",
              "          document.querySelector('#df-00950280-ed76-491e-a25f-c3ca14f9f74b button.colab-df-convert');\n",
              "        buttonEl.style.display =\n",
              "          google.colab.kernel.accessAllowed ? 'block' : 'none';\n",
              "\n",
              "        async function convertToInteractive(key) {\n",
              "          const element = document.querySelector('#df-00950280-ed76-491e-a25f-c3ca14f9f74b');\n",
              "          const dataTable =\n",
              "            await google.colab.kernel.invokeFunction('convertToInteractive',\n",
              "                                                     [key], {});\n",
              "          if (!dataTable) return;\n",
              "\n",
              "          const docLinkHtml = 'Like what you see? Visit the ' +\n",
              "            '<a target=\"_blank\" href=https://colab.research.google.com/notebooks/data_table.ipynb>data table notebook</a>'\n",
              "            + ' to learn more about interactive tables.';\n",
              "          element.innerHTML = '';\n",
              "          dataTable['output_type'] = 'display_data';\n",
              "          await google.colab.output.renderOutput(dataTable, element);\n",
              "          const docLink = document.createElement('div');\n",
              "          docLink.innerHTML = docLinkHtml;\n",
              "          element.appendChild(docLink);\n",
              "        }\n",
              "      </script>\n",
              "    </div>\n",
              "  </div>\n",
              "  "
            ]
          },
          "metadata": {},
          "execution_count": 23
        }
      ]
    },
    {
      "cell_type": "code",
      "source": [
        "betting_df[\"schedule_week\"].value_counts()\n",
        "betting_df.replace({\"Wildcard\" : 19, \"Division\" : 20, \"Conference\" : 21, \"Superbowl\" : 22}, inplace = True)\n",
        "betting_df[\"schedule_week\"] = betting_df[\"schedule_week\"].astype(int)\n",
        "betting_df[\"schedule_week\"].value_counts()"
      ],
      "metadata": {
        "colab": {
          "base_uri": "https://localhost:8080/"
        },
        "id": "JqyO5H7H346y",
        "outputId": "b9ad334d-5e6b-42c1-9a42-4d8151fe6c81"
      },
      "execution_count": 34,
      "outputs": [
        {
          "output_type": "execute_result",
          "data": {
            "text/plain": [
              "16    649\n",
              "15    649\n",
              "1     647\n",
              "2     647\n",
              "13    645\n",
              "14    644\n",
              "12    641\n",
              "11    625\n",
              "3     598\n",
              "10    589\n",
              "9     572\n",
              "4     572\n",
              "7     569\n",
              "8     567\n",
              "5     560\n",
              "6     557\n",
              "17    509\n",
              "20    172\n",
              "19    160\n",
              "21     86\n",
              "22     44\n",
              "18     30\n",
              "Name: schedule_week, dtype: int64"
            ]
          },
          "metadata": {},
          "execution_count": 34
        }
      ]
    },
    {
      "cell_type": "markdown",
      "source": [
        "# Visualizations"
      ],
      "metadata": {
        "id": "4acJgnvB5sIt"
      }
    },
    {
      "cell_type": "code",
      "source": [
        "corr = betting_df.corr()\n",
        "fig, axes = plt.subplots(figsize = (10, 10))\n",
        "sns.heatmap(corr, cmap = \"Greens\", annot = True)\n",
        "plt.show()"
      ],
      "metadata": {
        "colab": {
          "base_uri": "https://localhost:8080/",
          "height": 694
        },
        "id": "06yg7ZRD5u9q",
        "outputId": "34de42c6-9e1f-4f53-fbfa-ebd5a4e94732"
      },
      "execution_count": 24,
      "outputs": [
        {
          "output_type": "display_data",
          "data": {
            "text/plain": [
              "<Figure size 720x720 with 2 Axes>"
            ],
            "image/png": "[encoded data removed]"
          },
          "metadata": {
            "needs_background": "light"
          }
        }
      ]
    },
    {
      "cell_type": "markdown",
      "source": [
        "*   There is a negative correlation between wind speed and total score. As wind speed increases there is a slight decrease in total score. The increased wind speed perhaps makes it harder to throw the football and make fieldgoals which both contribute to scoring\n",
        "*   Schedule season has a positive correlation with total score. NFL game total scores have increased over the years with away team scores contributing more to the increase than home teams\n",
        "*   There is a positive correlation between away score and spread favorite. The expected and resulting away team score influences the spread favorite more than the home team\n",
        "\n"
      ],
      "metadata": {
        "id": "T3s8f_T97G2K"
      }
    },
    {
      "cell_type": "code",
      "source": [
        "fig, axes = plt.subplots(figsize = (20, 10))\n",
        "season = betting_df.groupby([\"schedule_season\", \"schedule_playoff\"]).mean().reset_index()\n",
        "season = season.sort_values(by = \"total_score\")\n",
        "sns.barplot(data = season, x = \"schedule_season\", y = \"total_score\", hue = \"schedule_playoff\")\n",
        "plt.xticks(rotation = 90)\n",
        "plt.ylabel(\"Average Total Score per Game\", fontsize = 15)\n",
        "plt.xlabel(\"NFL Season Year\", fontsize = 15)\n",
        "plt.title(\"Average Total Score per Season Regular Season vs. Playoffs\", fontsize = 20)\n",
        "plt.show()"
      ],
      "metadata": {
        "id": "hS5ePB_u5vIZ",
        "colab": {
          "base_uri": "https://localhost:8080/",
          "height": 647
        },
        "outputId": "9152c7d3-4b15-456d-9d2d-94c8717840f8"
      },
      "execution_count": 55,
      "outputs": [
        {
          "output_type": "display_data",
          "data": {
            "text/plain": [
              "<Figure size 1440x720 with 1 Axes>"
            ],
            "image/png": "[encoded data removed]"
          },
          "metadata": {
            "needs_background": "light"
          }
        }
      ]
    },
    {
      "cell_type": "markdown",
      "source": [
        "On average scoring is higher in the playoffs than during the regular season. The postseason has signficantly fewer games allowing for outliers to affect the average score. This also shows that offense is perhaps more significant for postseason games and success than defense. From the 1979 regular season until now, scoring has risen approximately 4 points per game."
      ],
      "metadata": {
        "id": "I_vLy-8yzlzr"
      }
    },
    {
      "cell_type": "code",
      "source": [
        "fig, axes = plt.subplots(figsize = (10, 10))\n",
        "sns.scatterplot(data = betting_df, x = \"weather_wind_mph\", y = \"score_away\")\n",
        "plt.ylabel(\"Total Score Away Team\", fontsize = 15)\n",
        "plt.xlabel(\"Wind Speed Miles per Hour\", fontsize = 15)\n",
        "plt.title(\"Wind Speed Effect on Away Team Total Score\", fontsize = 20)\n",
        "plt.show()"
      ],
      "metadata": {
        "colab": {
          "base_uri": "https://localhost:8080/",
          "height": 632
        },
        "id": "UVdcq43S150e",
        "outputId": "62841713-03d7-40e2-ce4b-b5ca67058b16"
      },
      "execution_count": 68,
      "outputs": [
        {
          "output_type": "display_data",
          "data": {
            "text/plain": [
              "<Figure size 720x720 with 1 Axes>"
            ],
            "image/png": "[encoded data removed]"
          },
          "metadata": {
            "needs_background": "light"
          }
        }
      ]
    },
    {
      "cell_type": "code",
      "source": [
        "fig, axes = plt.subplots(figsize = (10, 10))\n",
        "sns.scatterplot(data = betting_df, x = \"weather_wind_mph\", y = \"score_home\")\n",
        "plt.ylabel(\"Total Score Home Team\")\n",
        "plt.xlabel(\"Wind Speed Miles per Hour\")\n",
        "plt.title(\"Wind Speed Effect on Home Team Total Score\", fontsize = 20)\n",
        "plt.show()"
      ],
      "metadata": {
        "colab": {
          "base_uri": "https://localhost:8080/",
          "height": 627
        },
        "id": "DYw5ehMT3bMP",
        "outputId": "1533d5e1-3d80-4580-dbaf-d41791d45a6e"
      },
      "execution_count": 67,
      "outputs": [
        {
          "output_type": "display_data",
          "data": {
            "text/plain": [
              "<Figure size 720x720 with 1 Axes>"
            ],
            "image/png": "[encoded data removed]"
          },
          "metadata": {
            "needs_background": "light"
          }
        }
      ]
    },
    {
      "cell_type": "markdown",
      "source": [
        "While not significant, there is a slight downward trend in overall scoring for both the home and away teams. When comparing to other weather data, wind speed is the more significant than temperature or humidity on the scoring outcome."
      ],
      "metadata": {
        "id": "SEmlpW7L2299"
      }
    },
    {
      "cell_type": "markdown",
      "source": [
        "# Preprocessing"
      ],
      "metadata": {
        "id": "SIvGq2EMyZXs"
      }
    },
    {
      "cell_type": "code",
      "source": [
        "from sklearn.model_selection import train_test_split\n",
        "from sklearn.preprocessing import StandardScaler, OneHotEncoder\n",
        "from sklearn.pipeline import make_pipeline\n",
        "from sklearn.compose import make_column_selector, make_column_transformer\n",
        "from sklearn.impute import SimpleImputer"
      ],
      "metadata": {
        "id": "Jaitfo5fySbr"
      },
      "execution_count": null,
      "outputs": []
    },
    {
      "cell_type": "code",
      "source": [
        "betting_df[\"schedule_playoff\"].value_counts()\n",
        "betting_df[\"schedule_playoff\"].replace({False : 0, True : 1}, inplace = True)\n",
        "betting_df[\"schedule_playoff\"].value_counts()"
      ],
      "metadata": {
        "colab": {
          "base_uri": "https://localhost:8080/"
        },
        "id": "Ta2FCAx40Bw0",
        "outputId": "563aebe6-419c-4b42-a679-dda03fe3f1cb"
      },
      "execution_count": null,
      "outputs": [
        {
          "output_type": "execute_result",
          "data": {
            "text/plain": [
              "0    10270\n",
              "1      462\n",
              "Name: schedule_playoff, dtype: int64"
            ]
          },
          "metadata": {},
          "execution_count": 206
        }
      ]
    },
    {
      "cell_type": "code",
      "source": [
        "betting_df[\"stadium_neutral\"].value_counts()\n",
        "betting_df[\"stadium_neutral\"].replace({False : 0, True : 1}, inplace = True)\n",
        "betting_df[\"stadium_neutral\"].value_counts()"
      ],
      "metadata": {
        "colab": {
          "base_uri": "https://localhost:8080/"
        },
        "id": "n0CGS9pQ0aqw",
        "outputId": "67f77c6c-3320-4406-aa24-462bf1d20714"
      },
      "execution_count": null,
      "outputs": [
        {
          "output_type": "execute_result",
          "data": {
            "text/plain": [
              "0    10642\n",
              "1       90\n",
              "Name: stadium_neutral, dtype: int64"
            ]
          },
          "metadata": {},
          "execution_count": 207
        }
      ]
    },
    {
      "cell_type": "code",
      "source": [
        "betting_df2 = betting_df.copy()"
      ],
      "metadata": {
        "id": "AvjgU_PRN1yq"
      },
      "execution_count": null,
      "outputs": []
    },
    {
      "cell_type": "code",
      "source": [
        "X = betting_df2.drop(columns = [\"total_score\", \"schedule_date\"])\n",
        "y = betting_df2[\"total_score\"]\n",
        "X_train, X_test, y_train, y_test = train_test_split(X, y, random_state = 42)"
      ],
      "metadata": {
        "id": "DZN6Qx332R2P"
      },
      "execution_count": null,
      "outputs": []
    },
    {
      "cell_type": "code",
      "source": [
        "betting_df2.info()"
      ],
      "metadata": {
        "id": "NSVDbEet4vbR",
        "colab": {
          "base_uri": "https://localhost:8080/"
        },
        "outputId": "1ed2ce5e-08c0-469d-d286-233bf84640ef"
      },
      "execution_count": null,
      "outputs": [
        {
          "output_type": "stream",
          "name": "stdout",
          "text": [
            "<class 'pandas.core.frame.DataFrame'>\n",
            "Int64Index: 10732 entries, 2500 to 13231\n",
            "Data columns (total 17 columns):\n",
            " #   Column               Non-Null Count  Dtype  \n",
            "---  ------               --------------  -----  \n",
            " 0   schedule_date        10732 non-null  object \n",
            " 1   schedule_season      10732 non-null  int64  \n",
            " 2   schedule_week        10732 non-null  int64  \n",
            " 3   schedule_playoff     10732 non-null  int64  \n",
            " 4   team_home            10732 non-null  object \n",
            " 5   score_home           10732 non-null  float64\n",
            " 6   score_away           10732 non-null  float64\n",
            " 7   total_score          10732 non-null  int64  \n",
            " 8   team_away            10732 non-null  object \n",
            " 9   team_favorite_id     10732 non-null  object \n",
            " 10  spread_favorite      10732 non-null  float64\n",
            " 11  over_under_line      10732 non-null  object \n",
            " 12  stadium              10732 non-null  object \n",
            " 13  stadium_neutral      10732 non-null  int64  \n",
            " 14  weather_temperature  9919 non-null   float64\n",
            " 15  weather_wind_mph     9902 non-null   float64\n",
            " 16  weather_humidity     6332 non-null   float64\n",
            "dtypes: float64(6), int64(5), object(6)\n",
            "memory usage: 1.5+ MB\n"
          ]
        }
      ]
    },
    {
      "cell_type": "code",
      "source": [
        "num_selector = make_column_selector(dtype_include = \"number\")\n",
        "cat_selector = make_column_selector(dtype_include = \"object\")"
      ],
      "metadata": {
        "id": "IbFznCBVc-7I"
      },
      "execution_count": null,
      "outputs": []
    },
    {
      "cell_type": "code",
      "source": [
        "median_imputer = SimpleImputer(strategy = \"median\")\n",
        "scaler = StandardScaler()\n",
        "ohe = OneHotEncoder(handle_unknown = \"ignore\", sparse = False)"
      ],
      "metadata": {
        "id": "P4_4ylMac-4c"
      },
      "execution_count": null,
      "outputs": []
    },
    {
      "cell_type": "code",
      "source": [
        "num_pipe = make_pipeline(median_imputer, scaler)\n",
        "cat_pipe = make_pipeline(ohe)"
      ],
      "metadata": {
        "id": "UaEnLFEpc-17"
      },
      "execution_count": null,
      "outputs": []
    },
    {
      "cell_type": "code",
      "source": [
        "num_tuple = (num_pipe, num_selector)\n",
        "cat_tuple = (cat_pipe, cat_selector)\n",
        "preprocessor = make_column_transformer(num_tuple, cat_tuple)\n",
        "preprocessor"
      ],
      "metadata": {
        "colab": {
          "base_uri": "https://localhost:8080/"
        },
        "id": "pmijHsZCc-zg",
        "outputId": "f52ca5c5-82a8-49d2-f8e0-d02476999340"
      },
      "execution_count": null,
      "outputs": [
        {
          "output_type": "execute_result",
          "data": {
            "text/plain": [
              "ColumnTransformer(transformers=[('pipeline-1',\n",
              "                                 Pipeline(steps=[('simpleimputer',\n",
              "                                                  SimpleImputer(strategy='median')),\n",
              "                                                 ('standardscaler',\n",
              "                                                  StandardScaler())]),\n",
              "                                 <sklearn.compose._column_transformer.make_column_selector object at 0x7ff991c45250>),\n",
              "                                ('pipeline-2',\n",
              "                                 Pipeline(steps=[('onehotencoder',\n",
              "                                                  OneHotEncoder(handle_unknown='ignore',\n",
              "                                                                sparse=False))]),\n",
              "                                 <sklearn.compose._column_transformer.make_column_selector object at 0x7ff991c45d90>)])"
            ]
          },
          "metadata": {},
          "execution_count": 238
        }
      ]
    },
    {
      "cell_type": "code",
      "source": [
        "preprocessor.fit(X_train)"
      ],
      "metadata": {
        "colab": {
          "base_uri": "https://localhost:8080/"
        },
        "id": "znf-N47Qc-w8",
        "outputId": "d9afd780-6861-4951-af69-cf7fd77f990f"
      },
      "execution_count": null,
      "outputs": [
        {
          "output_type": "execute_result",
          "data": {
            "text/plain": [
              "ColumnTransformer(transformers=[('pipeline-1',\n",
              "                                 Pipeline(steps=[('simpleimputer',\n",
              "                                                  SimpleImputer(strategy='median')),\n",
              "                                                 ('standardscaler',\n",
              "                                                  StandardScaler())]),\n",
              "                                 <sklearn.compose._column_transformer.make_column_selector object at 0x7ff991c45250>),\n",
              "                                ('pipeline-2',\n",
              "                                 Pipeline(steps=[('onehotencoder',\n",
              "                                                  OneHotEncoder(handle_unknown='ignore',\n",
              "                                                                sparse=False))]),\n",
              "                                 <sklearn.compose._column_transformer.make_column_selector object at 0x7ff991c45d90>)])"
            ]
          },
          "metadata": {},
          "execution_count": 239
        }
      ]
    },
    {
      "cell_type": "code",
      "source": [
        "X_train_processed = preprocessor.transform(X_train)\n",
        "X_test_processed = preprocessor.transform(X_test)\n",
        "X_train_processed"
      ],
      "metadata": {
        "colab": {
          "base_uri": "https://localhost:8080/"
        },
        "id": "6CmhXYgofJJa",
        "outputId": "3c34e318-cea5-407c-8c43-ae4195e00bcd"
      },
      "execution_count": null,
      "outputs": [
        {
          "output_type": "execute_result",
          "data": {
            "text/plain": [
              "array([[ 0.16479826, -0.66724938, -0.21225747, ...,  0.        ,\n",
              "         0.        ,  0.        ],\n",
              "       [ 0.24626621, -0.66724938, -0.21225747, ...,  0.        ,\n",
              "         0.        ,  0.        ],\n",
              "       [ 1.63122137, -1.04284839, -0.21225747, ...,  0.        ,\n",
              "         0.        ,  0.        ],\n",
              "       ...,\n",
              "       [ 0.08333031, -1.41844741, -0.21225747, ...,  0.        ,\n",
              "         0.        ,  0.        ],\n",
              "       [-1.46456075, -1.41844741, -0.21225747, ...,  0.        ,\n",
              "         0.        ,  0.        ],\n",
              "       [ 0.65360596, -1.41844741, -0.21225747, ...,  0.        ,\n",
              "         0.        ,  0.        ]])"
            ]
          },
          "metadata": {},
          "execution_count": 240
        }
      ]
    },
    {
      "cell_type": "markdown",
      "source": [
        "# Regression"
      ],
      "metadata": {
        "id": "PQchZT2_7iFu"
      }
    },
    {
      "cell_type": "code",
      "source": [
        "from sklearn.neighbors import KNeighborsClassifier\n",
        "from sklearn.metrics import accuracy_score, classification_report, plot_confusion_matrix"
      ],
      "metadata": {
        "id": "79mm6QY07kfx"
      },
      "execution_count": null,
      "outputs": []
    },
    {
      "cell_type": "code",
      "source": [
        "knn = KNeighborsClassifier(n_neighbors = 1)\n",
        "scaler = StandardScaler()\n",
        "knn_pipe = make_pipeline(scaler, knn)\n",
        "knn_pipe.fit(X_train_processed, y_train)"
      ],
      "metadata": {
        "colab": {
          "base_uri": "https://localhost:8080/"
        },
        "id": "SwS5monc7szS",
        "outputId": "8bca5af1-1c7a-4a58-8c23-d52760ea118a"
      },
      "execution_count": null,
      "outputs": [
        {
          "output_type": "execute_result",
          "data": {
            "text/plain": [
              "Pipeline(steps=[('standardscaler', StandardScaler()),\n",
              "                ('kneighborsclassifier', KNeighborsClassifier(n_neighbors=1))])"
            ]
          },
          "metadata": {},
          "execution_count": 242
        }
      ]
    },
    {
      "cell_type": "code",
      "source": [
        "acc_score_train = knn_pipe.score(X_train_processed, y_train)\n",
        "acc_score_test = knn_pipe.score(X_test_processed, y_test)\n",
        "print(f\"Training Accuracy: {acc_score_train:.3f}\")\n",
        "print(f\"Testing Accuracy: {acc_score_test:.3f}\")"
      ],
      "metadata": {
        "colab": {
          "base_uri": "https://localhost:8080/"
        },
        "id": "Vqbtf2QU8Rev",
        "outputId": "c26573cc-e527-4937-c5eb-0143f85b52f2"
      },
      "execution_count": null,
      "outputs": [
        {
          "output_type": "stream",
          "name": "stdout",
          "text": [
            "Training Accuracy: 1.000\n",
            "Testing Accuracy: 0.025\n"
          ]
        }
      ]
    },
    {
      "cell_type": "code",
      "source": [
        "krange = (1, 1000)\n",
        "test_accuracies = []\n",
        "best_accuracy = 0\n",
        "best_k = 0\n",
        "for k in krange:\n",
        "  knn_pipe2 = make_pipeline(StandardScaler(), KNeighborsClassifier(n_neighbors = k))\n",
        "  knn_pipe2.fit(X_train_processed, y_train)\n",
        "  acc_score = accuracy_score(y_test, knn_pipe2.predict(X_test_processed))\n",
        "  if acc_score > best_accuracy:\n",
        "    best_accuracy = acc_score\n",
        "    bestk = k\n",
        "  test_accuracies.append(acc_score)\n",
        "plt.plot(krange, test_accuracies, label = \"Test K Scores\")\n",
        "plt.show()\n",
        "print(f\"Best K value is {bestk} with {acc_score} accuracy on the test set\")"
      ],
      "metadata": {
        "colab": {
          "base_uri": "https://localhost:8080/",
          "height": 283
        },
        "id": "G5YCkXEWAarT",
        "outputId": "b4c4875b-e993-4b51-bd9a-cbe4151be157"
      },
      "execution_count": null,
      "outputs": [
        {
          "output_type": "display_data",
          "data": {
            "text/plain": [
              "<Figure size 432x288 with 1 Axes>"
            ],
            "image/png": "[encoded data removed]"
          },
          "metadata": {
            "needs_background": "light"
          }
        },
        {
          "output_type": "stream",
          "name": "stdout",
          "text": [
            "Best K value is 1000 with 0.03950801341781588 accuracy on the test set\n"
          ]
        }
      ]
    },
    {
      "cell_type": "markdown",
      "source": [
        "This model is perhaps overfit because the training accuracy is very high, but the testing accuracy is relatively low. The predictions are very poor on the testing data."
      ],
      "metadata": {
        "id": "Knp_O5g6CBbP"
      }
    },
    {
      "cell_type": "code",
      "source": [
        "from sklearn.tree import DecisionTreeRegressor"
      ],
      "metadata": {
        "id": "4MiYtYDCAcfn"
      },
      "execution_count": null,
      "outputs": []
    },
    {
      "cell_type": "code",
      "source": [
        "dec_tree = DecisionTreeRegressor(random_state = 42)\n",
        "dec_tree.fit(X_train_processed, y_train)"
      ],
      "metadata": {
        "colab": {
          "base_uri": "https://localhost:8080/"
        },
        "id": "ciaVEaqQAj5o",
        "outputId": "ded9c053-b499-40c3-d903-2507841473f8"
      },
      "execution_count": null,
      "outputs": [
        {
          "output_type": "execute_result",
          "data": {
            "text/plain": [
              "DecisionTreeRegressor(random_state=42)"
            ]
          },
          "metadata": {},
          "execution_count": 246
        }
      ]
    },
    {
      "cell_type": "code",
      "source": [
        "train_preds = dec_tree.predict(X_train_processed)\n",
        "test_preds = dec_tree.predict(X_test_processed)"
      ],
      "metadata": {
        "id": "M3K3N92AAqv2"
      },
      "execution_count": null,
      "outputs": []
    },
    {
      "cell_type": "code",
      "source": [
        "dec_tree_train_score = dec_tree.score(X_train_processed, y_train)\n",
        "dec_tree_test_score = dec_tree.score(X_test_processed, y_test)\n",
        "print(f\"Training Accuracy: {dec_tree_train_score:.3f}\")\n",
        "print(f\"Testing Accuracy: {dec_tree_test_score:.3f}\")"
      ],
      "metadata": {
        "colab": {
          "base_uri": "https://localhost:8080/"
        },
        "id": "9HGzWcXCAxuC",
        "outputId": "a693651c-c047-42f9-c431-b3c7bea65cda"
      },
      "execution_count": null,
      "outputs": [
        {
          "output_type": "stream",
          "name": "stdout",
          "text": [
            "Training Accuracy: 1.000\n",
            "Testing Accuracy: 0.998\n"
          ]
        }
      ]
    },
    {
      "cell_type": "code",
      "source": [
        "depths = list(range(2, 36))\n",
        "scores = pd.DataFrame(index=depths, columns=['Test Score','Train Score'])\n",
        "for depth in depths:\n",
        "    dec_tree = DecisionTreeRegressor(max_depth=depth, random_state=42)\n",
        "    dec_tree.fit(X_train_processed, y_train)\n",
        "    train_score = dec_tree.score(X_train_processed, y_train)\n",
        "    test_score = dec_tree.score(X_test_processed, y_test)\n",
        "    scores.loc[depth, 'Train Score'] = train_score\n",
        "    scores.loc[depth, 'Test Score'] = test_score"
      ],
      "metadata": {
        "id": "MOuBZ3ONBQln"
      },
      "execution_count": null,
      "outputs": []
    },
    {
      "cell_type": "code",
      "source": [
        "plt.plot(depths, scores['Test Score'])\n",
        "plt.xlabel('max_depth')\n",
        "plt.ylabel('R2')"
      ],
      "metadata": {
        "colab": {
          "base_uri": "https://localhost:8080/",
          "height": 297
        },
        "id": "fqS94CDkB0_Y",
        "outputId": "511e8649-28e9-4033-ecb7-1321bdbbf1b6"
      },
      "execution_count": null,
      "outputs": [
        {
          "output_type": "execute_result",
          "data": {
            "text/plain": [
              "Text(0, 0.5, 'R2')"
            ]
          },
          "metadata": {},
          "execution_count": 250
        },
        {
          "output_type": "display_data",
          "data": {
            "text/plain": [
              "<Figure size 432x288 with 1 Axes>"
            ],
            "image/png": "[encoded data removed]"
          },
          "metadata": {
            "needs_background": "light"
          }
        }
      ]
    },
    {
      "cell_type": "markdown",
      "source": [
        "Both the testing and training accuracy are very high for this model. This is opposite to the previous model with a low test score with the model predicting very efficiently."
      ],
      "metadata": {
        "id": "mp6al_v3DGxf"
      }
    },
    {
      "cell_type": "code",
      "source": [
        "sorted_scores = scores.sort_values(by='Test Score', ascending=False)\n",
        "sorted_scores.head()"
      ],
      "metadata": {
        "colab": {
          "base_uri": "https://localhost:8080/",
          "height": 206
        },
        "id": "Cr4SE3_YB7cf",
        "outputId": "8f12e338-8507-44d9-996e-50b2e97055be"
      },
      "execution_count": null,
      "outputs": [
        {
          "output_type": "execute_result",
          "data": {
            "text/plain": [
              "   Test Score Train Score\n",
              "14   0.998416    0.999999\n",
              "19   0.998374         1.0\n",
              "27   0.998374         1.0\n",
              "22   0.998374         1.0\n",
              "23   0.998374         1.0"
            ],
            "text/html": [
              "\n",
              "  <div id=\"df-d3ddd7de-3f3f-47b1-b863-046cd00ed950\">\n",
              "    <div class=\"colab-df-container\">\n",
              "      <div>\n",
              "<style scoped>\n",
              "    .dataframe tbody tr th:only-of-type {\n",
              "        vertical-align: middle;\n",
              "    }\n",
              "\n",
              "    .dataframe tbody tr th {\n",
              "        vertical-align: top;\n",
              "    }\n",
              "\n",
              "    .dataframe thead th {\n",
              "        text-align: right;\n",
              "    }\n",
              "</style>\n",
              "<table border=\"1\" class=\"dataframe\">\n",
              "  <thead>\n",
              "    <tr style=\"text-align: right;\">\n",
              "      <th></th>\n",
              "      <th>Test Score</th>\n",
              "      <th>Train Score</th>\n",
              "    </tr>\n",
              "  </thead>\n",
              "  <tbody>\n",
              "    <tr>\n",
              "      <th>14</th>\n",
              "      <td>0.998416</td>\n",
              "      <td>0.999999</td>\n",
              "    </tr>\n",
              "    <tr>\n",
              "      <th>19</th>\n",
              "      <td>0.998374</td>\n",
              "      <td>1.0</td>\n",
              "    </tr>\n",
              "    <tr>\n",
              "      <th>27</th>\n",
              "      <td>0.998374</td>\n",
              "      <td>1.0</td>\n",
              "    </tr>\n",
              "    <tr>\n",
              "      <th>22</th>\n",
              "      <td>0.998374</td>\n",
              "      <td>1.0</td>\n",
              "    </tr>\n",
              "    <tr>\n",
              "      <th>23</th>\n",
              "      <td>0.998374</td>\n",
              "      <td>1.0</td>\n",
              "    </tr>\n",
              "  </tbody>\n",
              "</table>\n",
              "</div>\n",
              "      <button class=\"colab-df-convert\" onclick=\"convertToInteractive('df-d3ddd7de-3f3f-47b1-b863-046cd00ed950')\"\n",
              "              title=\"Convert this dataframe to an interactive table.\"\n",
              "              style=\"display:none;\">\n",
              "        \n",
              "  <svg xmlns=\"http://www.w3.org/2000/svg\" height=\"24px\"viewBox=\"0 0 24 24\"\n",
              "       width=\"24px\">\n",
              "    <path d=\"M0 0h24v24H0V0z\" fill=\"none\"/>\n",
              "    <path d=\"M18.56 5.44l.94 2.06.94-2.06 2.06-.94-2.06-.94-.94-2.06-.94 2.06-2.06.94zm-11 1L8.5 8.5l.94-2.06 2.06-.94-2.06-.94L8.5 2.5l-.94 2.06-2.06.94zm10 10l.94 2.06.94-2.06 2.06-.94-2.06-.94-.94-2.06-.94 2.06-2.06.94z\"/><path d=\"M17.41 7.96l-1.37-1.37c-.4-.4-.92-.59-1.43-.59-.52 0-1.04.2-1.43.59L10.3 9.45l-7.72 7.72c-.78.78-.78 2.05 0 2.83L4 21.41c.39.39.9.59 1.41.59.51 0 1.02-.2 1.41-.59l7.78-7.78 2.81-2.81c.8-.78.8-2.07 0-2.86zM5.41 20L4 18.59l7.72-7.72 1.47 1.35L5.41 20z\"/>\n",
              "  </svg>\n",
              "      </button>\n",
              "      \n",
              "  <style>\n",
              "    .colab-df-container {\n",
              "      display:flex;\n",
              "      flex-wrap:wrap;\n",
              "      gap: 12px;\n",
              "    }\n",
              "\n",
              "    .colab-df-convert {\n",
              "      background-color: #E8F0FE;\n",
              "      border: none;\n",
              "      border-radius: 50%;\n",
              "      cursor: pointer;\n",
              "      display: none;\n",
              "      fill: #1967D2;\n",
              "      height: 32px;\n",
              "      padding: 0 0 0 0;\n",
              "      width: 32px;\n",
              "    }\n",
              "\n",
              "    .colab-df-convert:hover {\n",
              "      background-color: #E2EBFA;\n",
              "      box-shadow: 0px 1px 2px rgba(60, 64, 67, 0.3), 0px 1px 3px 1px rgba(60, 64, 67, 0.15);\n",
              "      fill: #174EA6;\n",
              "    }\n",
              "\n",
              "    [theme=dark] .colab-df-convert {\n",
              "      background-color: #3B4455;\n",
              "      fill: #D2E3FC;\n",
              "    }\n",
              "\n",
              "    [theme=dark] .colab-df-convert:hover {\n",
              "      background-color: #434B5C;\n",
              "      box-shadow: 0px 1px 3px 1px rgba(0, 0, 0, 0.15);\n",
              "      filter: drop-shadow(0px 1px 2px rgba(0, 0, 0, 0.3));\n",
              "      fill: #FFFFFF;\n",
              "    }\n",
              "  </style>\n",
              "\n",
              "      <script>\n",
              "        const buttonEl =\n",
              "          document.querySelector('#df-d3ddd7de-3f3f-47b1-b863-046cd00ed950 button.colab-df-convert');\n",
              "        buttonEl.style.display =\n",
              "          google.colab.kernel.accessAllowed ? 'block' : 'none';\n",
              "\n",
              "        async function convertToInteractive(key) {\n",
              "          const element = document.querySelector('#df-d3ddd7de-3f3f-47b1-b863-046cd00ed950');\n",
              "          const dataTable =\n",
              "            await google.colab.kernel.invokeFunction('convertToInteractive',\n",
              "                                                     [key], {});\n",
              "          if (!dataTable) return;\n",
              "\n",
              "          const docLinkHtml = 'Like what you see? Visit the ' +\n",
              "            '<a target=\"_blank\" href=https://colab.research.google.com/notebooks/data_table.ipynb>data table notebook</a>'\n",
              "            + ' to learn more about interactive tables.';\n",
              "          element.innerHTML = '';\n",
              "          dataTable['output_type'] = 'display_data';\n",
              "          await google.colab.output.renderOutput(dataTable, element);\n",
              "          const docLink = document.createElement('div');\n",
              "          docLink.innerHTML = docLinkHtml;\n",
              "          element.appendChild(docLink);\n",
              "        }\n",
              "      </script>\n",
              "    </div>\n",
              "  </div>\n",
              "  "
            ]
          },
          "metadata": {},
          "execution_count": 251
        }
      ]
    }
  ]
}