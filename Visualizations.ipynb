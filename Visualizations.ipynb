{
  "nbformat": 4,
  "nbformat_minor": 0,
  "metadata": {
    "colab": {
      "provenance": [],
      "mount_file_id": "1wf6hU62nmbWD9qxDWnJnjOSPwKPpVvTp",
      "authorship_tag": "ABX9TyNb2mDD1VAxZf+3qZa+Q451",
      "include_colab_link": true
    },
    "kernelspec": {
      "name": "python3",
      "display_name": "Python 3"
    },
    "language_info": {
      "name": "python"
    }
  },
  "cells": [
    {
      "cell_type": "markdown",
      "metadata": {
        "id": "view-in-github",
        "colab_type": "text"
      },
      "source": [
        "<a href=\"https://colab.research.google.com/github/Agrave1/NFL_Scores/blob/main/Visualizations.ipynb\" target=\"_parent\"><img src=\"https://colab.research.google.com/assets/colab-badge.svg\" alt=\"Open In Colab\"/></a>"
      ]
    },
    {
      "cell_type": "code",
      "execution_count": 2,
      "metadata": {
        "id": "5e9HBoGuvbCX"
      },
      "outputs": [],
      "source": [
        "import pandas as pd\n",
        "import numpy as np\n",
        "import matplotlib.pyplot as plt\n",
        "import seaborn as sns"
      ]
    },
    {
      "cell_type": "code",
      "source": [
        "betting_df = pd.read_csv(\"/content/drive/MyDrive/Project 2/Spread_Scores.csv\")\n",
        "betting_df.head()"
      ],
      "metadata": {
        "id": "q-7-tIkGwJp0",
        "colab": {
          "base_uri": "https://localhost:8080/",
          "height": 357
        },
        "outputId": "7f575522-2003-4264-f7ca-f5fd7880f09b"
      },
      "execution_count": 3,
      "outputs": [
        {
          "output_type": "execute_result",
          "data": {
            "text/plain": [
              "  schedule_date  schedule_season schedule_week  schedule_playoff  \\\n",
              "0      9/2/1966             1966             1             False   \n",
              "1      9/3/1966             1966             1             False   \n",
              "2      9/4/1966             1966             1             False   \n",
              "3      9/9/1966             1966             2             False   \n",
              "4     9/10/1966             1966             1             False   \n",
              "\n",
              "            team_home  score_home  score_away  total_score        team_away  \\\n",
              "0      Miami Dolphins        14.0        23.0           37  Oakland Raiders   \n",
              "1      Houston Oilers        45.0         7.0           52   Denver Broncos   \n",
              "2  San Diego Chargers        27.0         7.0           34    Buffalo Bills   \n",
              "3      Miami Dolphins        14.0        19.0           33    New York Jets   \n",
              "4   Green Bay Packers        24.0         3.0           27  Baltimore Colts   \n",
              "\n",
              "  team_favorite_id  spread_favorite over_under_line         stadium  \\\n",
              "0              NaN              NaN             NaN     Orange Bowl   \n",
              "1              NaN              NaN             NaN    Rice Stadium   \n",
              "2              NaN              NaN             NaN  Balboa Stadium   \n",
              "3              NaN              NaN             NaN     Orange Bowl   \n",
              "4              NaN              NaN             NaN   Lambeau Field   \n",
              "\n",
              "   stadium_neutral  weather_temperature  weather_wind_mph  weather_humidity  \\\n",
              "0            False                 83.0               6.0              71.0   \n",
              "1            False                 81.0               7.0              70.0   \n",
              "2            False                 70.0               7.0              82.0   \n",
              "3            False                 82.0              11.0              78.0   \n",
              "4            False                 64.0               8.0              62.0   \n",
              "\n",
              "  weather_detail  \n",
              "0            NaN  \n",
              "1            NaN  \n",
              "2            NaN  \n",
              "3            NaN  \n",
              "4            NaN  "
            ],
            "text/html": [
              "\n",
              "  <div id=\"df-746f5845-e63f-4cb7-aa5b-44da4eb3e778\">\n",
              "    <div class=\"colab-df-container\">\n",
              "      <div>\n",
              "<style scoped>\n",
              "    .dataframe tbody tr th:only-of-type {\n",
              "        vertical-align: middle;\n",
              "    }\n",
              "\n",
              "    .dataframe tbody tr th {\n",
              "        vertical-align: top;\n",
              "    }\n",
              "\n",
              "    .dataframe thead th {\n",
              "        text-align: right;\n",
              "    }\n",
              "</style>\n",
              "<table border=\"1\" class=\"dataframe\">\n",
              "  <thead>\n",
              "    <tr style=\"text-align: right;\">\n",
              "      <th></th>\n",
              "      <th>schedule_date</th>\n",
              "      <th>schedule_season</th>\n",
              "      <th>schedule_week</th>\n",
              "      <th>schedule_playoff</th>\n",
              "      <th>team_home</th>\n",
              "      <th>score_home</th>\n",
              "      <th>score_away</th>\n",
              "      <th>total_score</th>\n",
              "      <th>team_away</th>\n",
              "      <th>team_favorite_id</th>\n",
              "      <th>spread_favorite</th>\n",
              "      <th>over_under_line</th>\n",
              "      <th>stadium</th>\n",
              "      <th>stadium_neutral</th>\n",
              "      <th>weather_temperature</th>\n",
              "      <th>weather_wind_mph</th>\n",
              "      <th>weather_humidity</th>\n",
              "      <th>weather_detail</th>\n",
              "    </tr>\n",
              "  </thead>\n",
              "  <tbody>\n",
              "    <tr>\n",
              "      <th>0</th>\n",
              "      <td>9/2/1966</td>\n",
              "      <td>1966</td>\n",
              "      <td>1</td>\n",
              "      <td>False</td>\n",
              "      <td>Miami Dolphins</td>\n",
              "      <td>14.0</td>\n",
              "      <td>23.0</td>\n",
              "      <td>37</td>\n",
              "      <td>Oakland Raiders</td>\n",
              "      <td>NaN</td>\n",
              "      <td>NaN</td>\n",
              "      <td>NaN</td>\n",
              "      <td>Orange Bowl</td>\n",
              "      <td>False</td>\n",
              "      <td>83.0</td>\n",
              "      <td>6.0</td>\n",
              "      <td>71.0</td>\n",
              "      <td>NaN</td>\n",
              "    </tr>\n",
              "    <tr>\n",
              "      <th>1</th>\n",
              "      <td>9/3/1966</td>\n",
              "      <td>1966</td>\n",
              "      <td>1</td>\n",
              "      <td>False</td>\n",
              "      <td>Houston Oilers</td>\n",
              "      <td>45.0</td>\n",
              "      <td>7.0</td>\n",
              "      <td>52</td>\n",
              "      <td>Denver Broncos</td>\n",
              "      <td>NaN</td>\n",
              "      <td>NaN</td>\n",
              "      <td>NaN</td>\n",
              "      <td>Rice Stadium</td>\n",
              "      <td>False</td>\n",
              "      <td>81.0</td>\n",
              "      <td>7.0</td>\n",
              "      <td>70.0</td>\n",
              "      <td>NaN</td>\n",
              "    </tr>\n",
              "    <tr>\n",
              "      <th>2</th>\n",
              "      <td>9/4/1966</td>\n",
              "      <td>1966</td>\n",
              "      <td>1</td>\n",
              "      <td>False</td>\n",
              "      <td>San Diego Chargers</td>\n",
              "      <td>27.0</td>\n",
              "      <td>7.0</td>\n",
              "      <td>34</td>\n",
              "      <td>Buffalo Bills</td>\n",
              "      <td>NaN</td>\n",
              "      <td>NaN</td>\n",
              "      <td>NaN</td>\n",
              "      <td>Balboa Stadium</td>\n",
              "      <td>False</td>\n",
              "      <td>70.0</td>\n",
              "      <td>7.0</td>\n",
              "      <td>82.0</td>\n",
              "      <td>NaN</td>\n",
              "    </tr>\n",
              "    <tr>\n",
              "      <th>3</th>\n",
              "      <td>9/9/1966</td>\n",
              "      <td>1966</td>\n",
              "      <td>2</td>\n",
              "      <td>False</td>\n",
              "      <td>Miami Dolphins</td>\n",
              "      <td>14.0</td>\n",
              "      <td>19.0</td>\n",
              "      <td>33</td>\n",
              "      <td>New York Jets</td>\n",
              "      <td>NaN</td>\n",
              "      <td>NaN</td>\n",
              "      <td>NaN</td>\n",
              "      <td>Orange Bowl</td>\n",
              "      <td>False</td>\n",
              "      <td>82.0</td>\n",
              "      <td>11.0</td>\n",
              "      <td>78.0</td>\n",
              "      <td>NaN</td>\n",
              "    </tr>\n",
              "    <tr>\n",
              "      <th>4</th>\n",
              "      <td>9/10/1966</td>\n",
              "      <td>1966</td>\n",
              "      <td>1</td>\n",
              "      <td>False</td>\n",
              "      <td>Green Bay Packers</td>\n",
              "      <td>24.0</td>\n",
              "      <td>3.0</td>\n",
              "      <td>27</td>\n",
              "      <td>Baltimore Colts</td>\n",
              "      <td>NaN</td>\n",
              "      <td>NaN</td>\n",
              "      <td>NaN</td>\n",
              "      <td>Lambeau Field</td>\n",
              "      <td>False</td>\n",
              "      <td>64.0</td>\n",
              "      <td>8.0</td>\n",
              "      <td>62.0</td>\n",
              "      <td>NaN</td>\n",
              "    </tr>\n",
              "  </tbody>\n",
              "</table>\n",
              "</div>\n",
              "      <button class=\"colab-df-convert\" onclick=\"convertToInteractive('df-746f5845-e63f-4cb7-aa5b-44da4eb3e778')\"\n",
              "              title=\"Convert this dataframe to an interactive table.\"\n",
              "              style=\"display:none;\">\n",
              "        \n",
              "  <svg xmlns=\"http://www.w3.org/2000/svg\" height=\"24px\"viewBox=\"0 0 24 24\"\n",
              "       width=\"24px\">\n",
              "    <path d=\"M0 0h24v24H0V0z\" fill=\"none\"/>\n",
              "    <path d=\"M18.56 5.44l.94 2.06.94-2.06 2.06-.94-2.06-.94-.94-2.06-.94 2.06-2.06.94zm-11 1L8.5 8.5l.94-2.06 2.06-.94-2.06-.94L8.5 2.5l-.94 2.06-2.06.94zm10 10l.94 2.06.94-2.06 2.06-.94-2.06-.94-.94-2.06-.94 2.06-2.06.94z\"/><path d=\"M17.41 7.96l-1.37-1.37c-.4-.4-.92-.59-1.43-.59-.52 0-1.04.2-1.43.59L10.3 9.45l-7.72 7.72c-.78.78-.78 2.05 0 2.83L4 21.41c.39.39.9.59 1.41.59.51 0 1.02-.2 1.41-.59l7.78-7.78 2.81-2.81c.8-.78.8-2.07 0-2.86zM5.41 20L4 18.59l7.72-7.72 1.47 1.35L5.41 20z\"/>\n",
              "  </svg>\n",
              "      </button>\n",
              "      \n",
              "  <style>\n",
              "    .colab-df-container {\n",
              "      display:flex;\n",
              "      flex-wrap:wrap;\n",
              "      gap: 12px;\n",
              "    }\n",
              "\n",
              "    .colab-df-convert {\n",
              "      background-color: #E8F0FE;\n",
              "      border: none;\n",
              "      border-radius: 50%;\n",
              "      cursor: pointer;\n",
              "      display: none;\n",
              "      fill: #1967D2;\n",
              "      height: 32px;\n",
              "      padding: 0 0 0 0;\n",
              "      width: 32px;\n",
              "    }\n",
              "\n",
              "    .colab-df-convert:hover {\n",
              "      background-color: #E2EBFA;\n",
              "      box-shadow: 0px 1px 2px rgba(60, 64, 67, 0.3), 0px 1px 3px 1px rgba(60, 64, 67, 0.15);\n",
              "      fill: #174EA6;\n",
              "    }\n",
              "\n",
              "    [theme=dark] .colab-df-convert {\n",
              "      background-color: #3B4455;\n",
              "      fill: #D2E3FC;\n",
              "    }\n",
              "\n",
              "    [theme=dark] .colab-df-convert:hover {\n",
              "      background-color: #434B5C;\n",
              "      box-shadow: 0px 1px 3px 1px rgba(0, 0, 0, 0.15);\n",
              "      filter: drop-shadow(0px 1px 2px rgba(0, 0, 0, 0.3));\n",
              "      fill: #FFFFFF;\n",
              "    }\n",
              "  </style>\n",
              "\n",
              "      <script>\n",
              "        const buttonEl =\n",
              "          document.querySelector('#df-746f5845-e63f-4cb7-aa5b-44da4eb3e778 button.colab-df-convert');\n",
              "        buttonEl.style.display =\n",
              "          google.colab.kernel.accessAllowed ? 'block' : 'none';\n",
              "\n",
              "        async function convertToInteractive(key) {\n",
              "          const element = document.querySelector('#df-746f5845-e63f-4cb7-aa5b-44da4eb3e778');\n",
              "          const dataTable =\n",
              "            await google.colab.kernel.invokeFunction('convertToInteractive',\n",
              "                                                     [key], {});\n",
              "          if (!dataTable) return;\n",
              "\n",
              "          const docLinkHtml = 'Like what you see? Visit the ' +\n",
              "            '<a target=\"_blank\" href=https://colab.research.google.com/notebooks/data_table.ipynb>data table notebook</a>'\n",
              "            + ' to learn more about interactive tables.';\n",
              "          element.innerHTML = '';\n",
              "          dataTable['output_type'] = 'display_data';\n",
              "          await google.colab.output.renderOutput(dataTable, element);\n",
              "          const docLink = document.createElement('div');\n",
              "          docLink.innerHTML = docLinkHtml;\n",
              "          element.appendChild(docLink);\n",
              "        }\n",
              "      </script>\n",
              "    </div>\n",
              "  </div>\n",
              "  "
            ]
          },
          "metadata": {},
          "execution_count": 3
        }
      ]
    },
    {
      "cell_type": "code",
      "source": [
        "betting_df2 = betting_df.copy()"
      ],
      "metadata": {
        "id": "JIW2T7Ebx9LE"
      },
      "execution_count": 4,
      "outputs": []
    },
    {
      "cell_type": "markdown",
      "source": [
        "## Data Cleaning"
      ],
      "metadata": {
        "id": "1ycSKrNqyUg1"
      }
    },
    {
      "cell_type": "code",
      "source": [
        "betting_df2.duplicated().sum()"
      ],
      "metadata": {
        "id": "s3QsdExhwOVQ",
        "colab": {
          "base_uri": "https://localhost:8080/"
        },
        "outputId": "419f6d96-8d5b-4b4a-c975-138abe486b55"
      },
      "execution_count": 5,
      "outputs": [
        {
          "output_type": "execute_result",
          "data": {
            "text/plain": [
              "0"
            ]
          },
          "metadata": {},
          "execution_count": 5
        }
      ]
    },
    {
      "cell_type": "code",
      "source": [
        "betting_df2.info()"
      ],
      "metadata": {
        "id": "8_4F1SLfwZel",
        "colab": {
          "base_uri": "https://localhost:8080/"
        },
        "outputId": "df7fe8b4-6451-45ee-8d87-0813edec10e5"
      },
      "execution_count": 6,
      "outputs": [
        {
          "output_type": "stream",
          "name": "stdout",
          "text": [
            "<class 'pandas.core.frame.DataFrame'>\n",
            "RangeIndex: 13232 entries, 0 to 13231\n",
            "Data columns (total 18 columns):\n",
            " #   Column               Non-Null Count  Dtype  \n",
            "---  ------               --------------  -----  \n",
            " 0   schedule_date        13232 non-null  object \n",
            " 1   schedule_season      13232 non-null  int64  \n",
            " 2   schedule_week        13232 non-null  object \n",
            " 3   schedule_playoff     13232 non-null  bool   \n",
            " 4   team_home            13232 non-null  object \n",
            " 5   score_home           13231 non-null  float64\n",
            " 6   score_away           13231 non-null  float64\n",
            " 7   total_score          13232 non-null  int64  \n",
            " 8   team_away            13232 non-null  object \n",
            " 9   team_favorite_id     10753 non-null  object \n",
            " 10  spread_favorite      10753 non-null  float64\n",
            " 11  over_under_line      10743 non-null  object \n",
            " 12  stadium              13232 non-null  object \n",
            " 13  stadium_neutral      13232 non-null  bool   \n",
            " 14  weather_temperature  12189 non-null  float64\n",
            " 15  weather_wind_mph     12172 non-null  float64\n",
            " 16  weather_humidity     8441 non-null   float64\n",
            " 17  weather_detail       2822 non-null   object \n",
            "dtypes: bool(2), float64(6), int64(2), object(8)\n",
            "memory usage: 1.6+ MB\n"
          ]
        }
      ]
    },
    {
      "cell_type": "code",
      "source": [
        "betting_df2.isna().sum()"
      ],
      "metadata": {
        "colab": {
          "base_uri": "https://localhost:8080/"
        },
        "id": "_yLdYNrnwTor",
        "outputId": "ec6581f2-8dfd-4d1c-d174-749e5c7ca4f9"
      },
      "execution_count": 7,
      "outputs": [
        {
          "output_type": "execute_result",
          "data": {
            "text/plain": [
              "schedule_date              0\n",
              "schedule_season            0\n",
              "schedule_week              0\n",
              "schedule_playoff           0\n",
              "team_home                  0\n",
              "score_home                 1\n",
              "score_away                 1\n",
              "total_score                0\n",
              "team_away                  0\n",
              "team_favorite_id        2479\n",
              "spread_favorite         2479\n",
              "over_under_line         2489\n",
              "stadium                    0\n",
              "stadium_neutral            0\n",
              "weather_temperature     1043\n",
              "weather_wind_mph        1060\n",
              "weather_humidity        4791\n",
              "weather_detail         10410\n",
              "dtype: int64"
            ]
          },
          "metadata": {},
          "execution_count": 7
        }
      ]
    },
    {
      "cell_type": "code",
      "source": [
        "betting_df2 = betting_df2.drop(labels = range(0,2500), axis = 0)\n",
        "#Dropped those rows because all the missing values were at the start of the dataset\n",
        "#Didn't impute because these betting statistics can't be imputed or they would skew the results for the games with accurate betting data"
      ],
      "metadata": {
        "id": "tGoDhcsh4S99"
      },
      "execution_count": 8,
      "outputs": []
    },
    {
      "cell_type": "code",
      "source": [
        "betting_df2[\"schedule_week\"].replace({\"SuperBowl\" : \"Superbowl\", \"WildCard\" : \"Wildcard\"}, inplace = True)\n",
        "betting_df2[\"schedule_week\"].value_counts()"
      ],
      "metadata": {
        "id": "3kECVVK-6JVs",
        "colab": {
          "base_uri": "https://localhost:8080/"
        },
        "outputId": "12ded48a-25cb-4942-eabd-f58c8d33300f"
      },
      "execution_count": 9,
      "outputs": [
        {
          "output_type": "execute_result",
          "data": {
            "text/plain": [
              "16            649\n",
              "15            649\n",
              "1             647\n",
              "2             647\n",
              "13            645\n",
              "14            644\n",
              "12            641\n",
              "11            625\n",
              "3             598\n",
              "10            589\n",
              "9             572\n",
              "4             572\n",
              "7             569\n",
              "8             567\n",
              "5             560\n",
              "6             557\n",
              "17            509\n",
              "Division      172\n",
              "Wildcard      160\n",
              "Conference     86\n",
              "Superbowl      44\n",
              "18             30\n",
              "Name: schedule_week, dtype: int64"
            ]
          },
          "metadata": {},
          "execution_count": 9
        }
      ]
    },
    {
      "cell_type": "code",
      "source": [
        "betting_df2[\"over_under_line\"].replace(\" \", 41, inplace = True)\n",
        "#Replaced the empty space with the most common over under value because other inputs such as mean or median produced an error"
      ],
      "metadata": {
        "id": "EHZ1mCwJ7b5H"
      },
      "execution_count": 10,
      "outputs": []
    },
    {
      "cell_type": "code",
      "source": [
        "betting_df2[\"score_home\"].fillna(23, inplace = True)\n",
        "betting_df2[\"score_away\"].fillna(20, inplace = True)\n",
        "#Filled in missing values for Superbowl 2021 season with correct score after google searching"
      ],
      "metadata": {
        "id": "ELpPTcquwhsg"
      },
      "execution_count": 11,
      "outputs": []
    },
    {
      "cell_type": "code",
      "source": [
        "median_temp = betting_df2[\"weather_temperature\"].median()\n",
        "betting_df2[\"weather_temperature\"].fillna(median_temp, inplace = True)\n",
        "betting_df2[\"weather_temperature\"].describe()\n",
        "#Chose median because weather has outlier values for both warm and cold weather. Football is not often played in either\n",
        "#below zero temperatures or close to 100 degreees"
      ],
      "metadata": {
        "colab": {
          "base_uri": "https://localhost:8080/"
        },
        "id": "44Oq_LTZzdxA",
        "outputId": "e22e5e1c-2347-4b85-b211-eef2f0a47b09"
      },
      "execution_count": 12,
      "outputs": [
        {
          "output_type": "execute_result",
          "data": {
            "text/plain": [
              "count    10732.000000\n",
              "mean        60.272177\n",
              "std         14.869137\n",
              "min         -6.000000\n",
              "25%         51.000000\n",
              "50%         64.000000\n",
              "75%         72.000000\n",
              "max         97.000000\n",
              "Name: weather_temperature, dtype: float64"
            ]
          },
          "metadata": {},
          "execution_count": 12
        }
      ]
    },
    {
      "cell_type": "code",
      "source": [
        "median_wind = betting_df2[\"weather_wind_mph\"].median()\n",
        "betting_df2[\"weather_wind_mph\"].fillna(median_wind, inplace = True)\n",
        "betting_df2[\"weather_wind_mph\"].describe()\n",
        "#Chose median because even though mean would be the same value, median is a whole number while mean would have to be rounded"
      ],
      "metadata": {
        "colab": {
          "base_uri": "https://localhost:8080/"
        },
        "id": "NpQMQxKB0rC8",
        "outputId": "da7b02ae-b49f-4b89-fc45-008c65ed8254"
      },
      "execution_count": 13,
      "outputs": [
        {
          "output_type": "execute_result",
          "data": {
            "text/plain": [
              "count    10732.000000\n",
              "mean         7.184215\n",
              "std          5.526318\n",
              "min          0.000000\n",
              "25%          2.000000\n",
              "50%          7.000000\n",
              "75%         11.000000\n",
              "max         40.000000\n",
              "Name: weather_wind_mph, dtype: float64"
            ]
          },
          "metadata": {},
          "execution_count": 13
        }
      ]
    },
    {
      "cell_type": "code",
      "source": [
        "median_humidity = betting_df2[\"weather_humidity\"].median()\n",
        "betting_df2[\"weather_humidity\"].fillna(median_humidity, inplace = True)\n",
        "betting_df2[\"weather_humidity\"].describe()\n",
        "#Chose mean because outliers such a 4% percent humidity lower the mean and median provides a better central value of humidity"
      ],
      "metadata": {
        "colab": {
          "base_uri": "https://localhost:8080/"
        },
        "id": "qXhCCqGp1aIb",
        "outputId": "81b3af49-13e7-408a-f838-7bfc1eedcd83"
      },
      "execution_count": 14,
      "outputs": [
        {
          "output_type": "execute_result",
          "data": {
            "text/plain": [
              "count    10732.000000\n",
              "mean        67.152348\n",
              "std         12.357328\n",
              "min          4.000000\n",
              "25%         65.000000\n",
              "50%         68.000000\n",
              "75%         72.000000\n",
              "max        100.000000\n",
              "Name: weather_humidity, dtype: float64"
            ]
          },
          "metadata": {},
          "execution_count": 14
        }
      ]
    },
    {
      "cell_type": "code",
      "source": [
        "betting_df2 = betting_df2.drop(columns = [\"weather_detail\"])\n",
        "#Too many categorical values and too many missing values to input based on most frequent\n",
        "#Most frequent was dome and many stadiums and games would be incorrectly classified as dome if imputed"
      ],
      "metadata": {
        "id": "Y4p8597R2mKh"
      },
      "execution_count": 15,
      "outputs": []
    },
    {
      "cell_type": "code",
      "source": [
        "betting_df2.isna().sum()"
      ],
      "metadata": {
        "colab": {
          "base_uri": "https://localhost:8080/"
        },
        "id": "XqMNw_Gn3ipJ",
        "outputId": "aa8e5175-ec91-4d1c-a631-dbfaccb77e75"
      },
      "execution_count": 16,
      "outputs": [
        {
          "output_type": "execute_result",
          "data": {
            "text/plain": [
              "schedule_date          0\n",
              "schedule_season        0\n",
              "schedule_week          0\n",
              "schedule_playoff       0\n",
              "team_home              0\n",
              "score_home             0\n",
              "score_away             0\n",
              "total_score            0\n",
              "team_away              0\n",
              "team_favorite_id       0\n",
              "spread_favorite        0\n",
              "over_under_line        0\n",
              "stadium                0\n",
              "stadium_neutral        0\n",
              "weather_temperature    0\n",
              "weather_wind_mph       0\n",
              "weather_humidity       0\n",
              "dtype: int64"
            ]
          },
          "metadata": {},
          "execution_count": 16
        }
      ]
    },
    {
      "cell_type": "code",
      "source": [
        "betting_df2[\"total_score\"].hist(edgecolor = \"black\")\n",
        "plt.title(\"Total Game Score Grouping\", fontsize = 15)\n",
        "plt.xlabel(\"Total Game Score\", fontsize = 15)\n",
        "plt.ylabel(\"Count of Score Outcome\", fontsize = 15)\n",
        "plt.show()\n",
        "#Majority of total score outcomes between range of approximately 32-52"
      ],
      "metadata": {
        "id": "W2YBVUPc5JX6",
        "colab": {
          "base_uri": "https://localhost:8080/",
          "height": 302
        },
        "outputId": "562d6b89-be94-4e50-99fc-8eae90654ece"
      },
      "execution_count": 17,
      "outputs": [
        {
          "output_type": "display_data",
          "data": {
            "text/plain": [
              "<Figure size 432x288 with 1 Axes>"
            ],
            "image/png": "[encoded data removed]"
          },
          "metadata": {
            "needs_background": "light"
          }
        }
      ]
    },
    {
      "cell_type": "code",
      "source": [
        "corr = betting_df2.corr()\n",
        "plt.figure(figsize = (10, 10))\n",
        "sns.heatmap(corr, cmap = \"Greens\", annot = True)\n",
        "plt.show()"
      ],
      "metadata": {
        "colab": {
          "base_uri": "https://localhost:8080/",
          "height": 694
        },
        "id": "pByTl_NmHU5a",
        "outputId": "7fbc361a-a83c-45e0-f640-60cac88de69f"
      },
      "execution_count": 18,
      "outputs": [
        {
          "output_type": "display_data",
          "data": {
            "text/plain": [
              "<Figure size 720x720 with 2 Axes>"
            ],
            "image/png": "[encoded data removed]"
          },
          "metadata": {
            "needs_background": "light"
          }
        }
      ]
    },
    {
      "cell_type": "markdown",
      "source": [
        "# Preprocessing"
      ],
      "metadata": {
        "id": "SIvGq2EMyZXs"
      }
    },
    {
      "cell_type": "code",
      "source": [
        "from sklearn.model_selection import train_test_split\n",
        "from sklearn.preprocessing import StandardScaler, OneHotEncoder\n",
        "from sklearn.pipeline import make_pipeline\n",
        "from sklearn.compose import make_column_selector"
      ],
      "metadata": {
        "id": "Jaitfo5fySbr"
      },
      "execution_count": 19,
      "outputs": []
    },
    {
      "cell_type": "code",
      "source": [
        "betting_df2[\"schedule_week\"].value_counts()\n",
        "betting_df2.replace({\"Wildcard\" : 19, \"Division\" : 20, \"Conference\" : 21, \"Superbowl\" : 22}, inplace = True)\n",
        "betting_df2[\"schedule_week\"] = betting_df2[\"schedule_week\"].astype(int)\n",
        "betting_df2[\"schedule_week\"].value_counts()"
      ],
      "metadata": {
        "colab": {
          "base_uri": "https://localhost:8080/"
        },
        "id": "JqyO5H7H346y",
        "outputId": "e040488d-4974-4989-d4ff-93bd5f6384c7"
      },
      "execution_count": 20,
      "outputs": [
        {
          "output_type": "execute_result",
          "data": {
            "text/plain": [
              "16    649\n",
              "15    649\n",
              "1     647\n",
              "2     647\n",
              "13    645\n",
              "14    644\n",
              "12    641\n",
              "11    625\n",
              "3     598\n",
              "10    589\n",
              "9     572\n",
              "4     572\n",
              "7     569\n",
              "8     567\n",
              "5     560\n",
              "6     557\n",
              "17    509\n",
              "20    172\n",
              "19    160\n",
              "21     86\n",
              "22     44\n",
              "18     30\n",
              "Name: schedule_week, dtype: int64"
            ]
          },
          "metadata": {},
          "execution_count": 20
        }
      ]
    },
    {
      "cell_type": "code",
      "source": [
        "betting_df2[\"over_under_line\"] = betting_df2[\"over_under_line\"].astype(float)"
      ],
      "metadata": {
        "id": "NSVDbEet4vbR"
      },
      "execution_count": 21,
      "outputs": []
    },
    {
      "cell_type": "code",
      "source": [
        "betting_df2[\"schedule_playoff\"].value_counts()\n",
        "betting_df2[\"schedule_playoff\"].replace({False : 0, True : 1}, inplace = True)\n",
        "betting_df2[\"schedule_playoff\"].value_counts()"
      ],
      "metadata": {
        "colab": {
          "base_uri": "https://localhost:8080/"
        },
        "id": "Ta2FCAx40Bw0",
        "outputId": "febea174-10d4-4363-fa93-1dc775083dc4"
      },
      "execution_count": 22,
      "outputs": [
        {
          "output_type": "execute_result",
          "data": {
            "text/plain": [
              "0    10270\n",
              "1      462\n",
              "Name: schedule_playoff, dtype: int64"
            ]
          },
          "metadata": {},
          "execution_count": 22
        }
      ]
    },
    {
      "cell_type": "code",
      "source": [
        "betting_df2[\"stadium_neutral\"].value_counts()\n",
        "betting_df2[\"stadium_neutral\"].replace({False : 0, True : 1}, inplace = True)\n",
        "betting_df2[\"stadium_neutral\"].value_counts()"
      ],
      "metadata": {
        "colab": {
          "base_uri": "https://localhost:8080/"
        },
        "id": "n0CGS9pQ0aqw",
        "outputId": "b2e8fee2-3c4b-443c-df43-23e0bebbea33"
      },
      "execution_count": 23,
      "outputs": [
        {
          "output_type": "execute_result",
          "data": {
            "text/plain": [
              "0    10642\n",
              "1       90\n",
              "Name: stadium_neutral, dtype: int64"
            ]
          },
          "metadata": {},
          "execution_count": 23
        }
      ]
    },
    {
      "cell_type": "code",
      "source": [
        "X = betting_df2.drop(columns = [\"total_score\", \"schedule_date\"])\n",
        "y = betting_df2[\"total_score\"]\n",
        "X_train, X_test, y_train, y_test = train_test_split(X, y, random_state = 42)"
      ],
      "metadata": {
        "id": "DZN6Qx332R2P"
      },
      "execution_count": 24,
      "outputs": []
    },
    {
      "cell_type": "code",
      "source": [
        "cat_selector = make_column_selector(dtype_include = \"object\")\n",
        "cat_selector(X_train)"
      ],
      "metadata": {
        "colab": {
          "base_uri": "https://localhost:8080/"
        },
        "id": "Q3aksJGr2ibs",
        "outputId": "d79c8056-d47c-4820-d20b-5a5c285afdc1"
      },
      "execution_count": 25,
      "outputs": [
        {
          "output_type": "execute_result",
          "data": {
            "text/plain": [
              "['team_home', 'team_away', 'team_favorite_id', 'stadium']"
            ]
          },
          "metadata": {},
          "execution_count": 25
        }
      ]
    },
    {
      "cell_type": "code",
      "source": [
        "train_cat_data = X_train[cat_selector(X_train)]\n",
        "test_cat_data = X_test[cat_selector(X_test)]\n",
        "train_cat_data"
      ],
      "metadata": {
        "colab": {
          "base_uri": "https://localhost:8080/",
          "height": 424
        },
        "id": "Znxv3xli27PY",
        "outputId": "2e4b54f6-420f-4822-e8c8-96b5b661ce89"
      },
      "execution_count": 26,
      "outputs": [
        {
          "output_type": "execute_result",
          "data": {
            "text/plain": [
              "                  team_home             team_away team_favorite_id  \\\n",
              "8214       Cleveland Browns       Oakland Raiders              CLE   \n",
              "8487   New England Patriots      Seattle Seahawks               NE   \n",
              "12995    Cincinnati Bengals  Jacksonville Jaguars              CIN   \n",
              "8189         Denver Broncos         Detroit Lions              DEN   \n",
              "9224       Baltimore Ravens         New York Jets              BAL   \n",
              "...                     ...                   ...              ...   \n",
              "8234         Miami Dolphins  New England Patriots              MIA   \n",
              "7691      Minnesota Vikings     Green Bay Packers               GB   \n",
              "7890      Carolina Panthers         Detroit Lions              CAR   \n",
              "3360          Detroit Lions      Cleveland Browns              DET   \n",
              "9770       Tennessee Titans        Houston Texans              TEN   \n",
              "\n",
              "                                   stadium  \n",
              "8214                   FirstEnergy Stadium  \n",
              "8487                      Gillette Stadium  \n",
              "12995                   Paul Brown Stadium  \n",
              "8189   Sports Authority Field at Mile High  \n",
              "9224                      M&T Bank Stadium  \n",
              "...                                    ...  \n",
              "8234                      Sun Life Stadium  \n",
              "7691          Hubert H. Humphrey Metrodome  \n",
              "7890               Bank of America Stadium  \n",
              "3360                    Pontiac Silverdome  \n",
              "9770                        Nissan Stadium  \n",
              "\n",
              "[8049 rows x 4 columns]"
            ],
            "text/html": [
              "\n",
              "  <div id=\"df-cbddb198-d76f-4ff6-aa91-d860b26d6463\">\n",
              "    <div class=\"colab-df-container\">\n",
              "      <div>\n",
              "<style scoped>\n",
              "    .dataframe tbody tr th:only-of-type {\n",
              "        vertical-align: middle;\n",
              "    }\n",
              "\n",
              "    .dataframe tbody tr th {\n",
              "        vertical-align: top;\n",
              "    }\n",
              "\n",
              "    .dataframe thead th {\n",
              "        text-align: right;\n",
              "    }\n",
              "</style>\n",
              "<table border=\"1\" class=\"dataframe\">\n",
              "  <thead>\n",
              "    <tr style=\"text-align: right;\">\n",
              "      <th></th>\n",
              "      <th>team_home</th>\n",
              "      <th>team_away</th>\n",
              "      <th>team_favorite_id</th>\n",
              "      <th>stadium</th>\n",
              "    </tr>\n",
              "  </thead>\n",
              "  <tbody>\n",
              "    <tr>\n",
              "      <th>8214</th>\n",
              "      <td>Cleveland Browns</td>\n",
              "      <td>Oakland Raiders</td>\n",
              "      <td>CLE</td>\n",
              "      <td>FirstEnergy Stadium</td>\n",
              "    </tr>\n",
              "    <tr>\n",
              "      <th>8487</th>\n",
              "      <td>New England Patriots</td>\n",
              "      <td>Seattle Seahawks</td>\n",
              "      <td>NE</td>\n",
              "      <td>Gillette Stadium</td>\n",
              "    </tr>\n",
              "    <tr>\n",
              "      <th>12995</th>\n",
              "      <td>Cincinnati Bengals</td>\n",
              "      <td>Jacksonville Jaguars</td>\n",
              "      <td>CIN</td>\n",
              "      <td>Paul Brown Stadium</td>\n",
              "    </tr>\n",
              "    <tr>\n",
              "      <th>8189</th>\n",
              "      <td>Denver Broncos</td>\n",
              "      <td>Detroit Lions</td>\n",
              "      <td>DEN</td>\n",
              "      <td>Sports Authority Field at Mile High</td>\n",
              "    </tr>\n",
              "    <tr>\n",
              "      <th>9224</th>\n",
              "      <td>Baltimore Ravens</td>\n",
              "      <td>New York Jets</td>\n",
              "      <td>BAL</td>\n",
              "      <td>M&amp;T Bank Stadium</td>\n",
              "    </tr>\n",
              "    <tr>\n",
              "      <th>...</th>\n",
              "      <td>...</td>\n",
              "      <td>...</td>\n",
              "      <td>...</td>\n",
              "      <td>...</td>\n",
              "    </tr>\n",
              "    <tr>\n",
              "      <th>8234</th>\n",
              "      <td>Miami Dolphins</td>\n",
              "      <td>New England Patriots</td>\n",
              "      <td>MIA</td>\n",
              "      <td>Sun Life Stadium</td>\n",
              "    </tr>\n",
              "    <tr>\n",
              "      <th>7691</th>\n",
              "      <td>Minnesota Vikings</td>\n",
              "      <td>Green Bay Packers</td>\n",
              "      <td>GB</td>\n",
              "      <td>Hubert H. Humphrey Metrodome</td>\n",
              "    </tr>\n",
              "    <tr>\n",
              "      <th>7890</th>\n",
              "      <td>Carolina Panthers</td>\n",
              "      <td>Detroit Lions</td>\n",
              "      <td>CAR</td>\n",
              "      <td>Bank of America Stadium</td>\n",
              "    </tr>\n",
              "    <tr>\n",
              "      <th>3360</th>\n",
              "      <td>Detroit Lions</td>\n",
              "      <td>Cleveland Browns</td>\n",
              "      <td>DET</td>\n",
              "      <td>Pontiac Silverdome</td>\n",
              "    </tr>\n",
              "    <tr>\n",
              "      <th>9770</th>\n",
              "      <td>Tennessee Titans</td>\n",
              "      <td>Houston Texans</td>\n",
              "      <td>TEN</td>\n",
              "      <td>Nissan Stadium</td>\n",
              "    </tr>\n",
              "  </tbody>\n",
              "</table>\n",
              "<p>8049 rows × 4 columns</p>\n",
              "</div>\n",
              "      <button class=\"colab-df-convert\" onclick=\"convertToInteractive('df-cbddb198-d76f-4ff6-aa91-d860b26d6463')\"\n",
              "              title=\"Convert this dataframe to an interactive table.\"\n",
              "              style=\"display:none;\">\n",
              "        \n",
              "  <svg xmlns=\"http://www.w3.org/2000/svg\" height=\"24px\"viewBox=\"0 0 24 24\"\n",
              "       width=\"24px\">\n",
              "    <path d=\"M0 0h24v24H0V0z\" fill=\"none\"/>\n",
              "    <path d=\"M18.56 5.44l.94 2.06.94-2.06 2.06-.94-2.06-.94-.94-2.06-.94 2.06-2.06.94zm-11 1L8.5 8.5l.94-2.06 2.06-.94-2.06-.94L8.5 2.5l-.94 2.06-2.06.94zm10 10l.94 2.06.94-2.06 2.06-.94-2.06-.94-.94-2.06-.94 2.06-2.06.94z\"/><path d=\"M17.41 7.96l-1.37-1.37c-.4-.4-.92-.59-1.43-.59-.52 0-1.04.2-1.43.59L10.3 9.45l-7.72 7.72c-.78.78-.78 2.05 0 2.83L4 21.41c.39.39.9.59 1.41.59.51 0 1.02-.2 1.41-.59l7.78-7.78 2.81-2.81c.8-.78.8-2.07 0-2.86zM5.41 20L4 18.59l7.72-7.72 1.47 1.35L5.41 20z\"/>\n",
              "  </svg>\n",
              "      </button>\n",
              "      \n",
              "  <style>\n",
              "    .colab-df-container {\n",
              "      display:flex;\n",
              "      flex-wrap:wrap;\n",
              "      gap: 12px;\n",
              "    }\n",
              "\n",
              "    .colab-df-convert {\n",
              "      background-color: #E8F0FE;\n",
              "      border: none;\n",
              "      border-radius: 50%;\n",
              "      cursor: pointer;\n",
              "      display: none;\n",
              "      fill: #1967D2;\n",
              "      height: 32px;\n",
              "      padding: 0 0 0 0;\n",
              "      width: 32px;\n",
              "    }\n",
              "\n",
              "    .colab-df-convert:hover {\n",
              "      background-color: #E2EBFA;\n",
              "      box-shadow: 0px 1px 2px rgba(60, 64, 67, 0.3), 0px 1px 3px 1px rgba(60, 64, 67, 0.15);\n",
              "      fill: #174EA6;\n",
              "    }\n",
              "\n",
              "    [theme=dark] .colab-df-convert {\n",
              "      background-color: #3B4455;\n",
              "      fill: #D2E3FC;\n",
              "    }\n",
              "\n",
              "    [theme=dark] .colab-df-convert:hover {\n",
              "      background-color: #434B5C;\n",
              "      box-shadow: 0px 1px 3px 1px rgba(0, 0, 0, 0.15);\n",
              "      filter: drop-shadow(0px 1px 2px rgba(0, 0, 0, 0.3));\n",
              "      fill: #FFFFFF;\n",
              "    }\n",
              "  </style>\n",
              "\n",
              "      <script>\n",
              "        const buttonEl =\n",
              "          document.querySelector('#df-cbddb198-d76f-4ff6-aa91-d860b26d6463 button.colab-df-convert');\n",
              "        buttonEl.style.display =\n",
              "          google.colab.kernel.accessAllowed ? 'block' : 'none';\n",
              "\n",
              "        async function convertToInteractive(key) {\n",
              "          const element = document.querySelector('#df-cbddb198-d76f-4ff6-aa91-d860b26d6463');\n",
              "          const dataTable =\n",
              "            await google.colab.kernel.invokeFunction('convertToInteractive',\n",
              "                                                     [key], {});\n",
              "          if (!dataTable) return;\n",
              "\n",
              "          const docLinkHtml = 'Like what you see? Visit the ' +\n",
              "            '<a target=\"_blank\" href=https://colab.research.google.com/notebooks/data_table.ipynb>data table notebook</a>'\n",
              "            + ' to learn more about interactive tables.';\n",
              "          element.innerHTML = '';\n",
              "          dataTable['output_type'] = 'display_data';\n",
              "          await google.colab.output.renderOutput(dataTable, element);\n",
              "          const docLink = document.createElement('div');\n",
              "          docLink.innerHTML = docLinkHtml;\n",
              "          element.appendChild(docLink);\n",
              "        }\n",
              "      </script>\n",
              "    </div>\n",
              "  </div>\n",
              "  "
            ]
          },
          "metadata": {},
          "execution_count": 26
        }
      ]
    },
    {
      "cell_type": "code",
      "source": [
        "ohe = OneHotEncoder(sparse = False, handle_unknown = \"ignore\")\n",
        "ohe.fit(train_cat_data)\n",
        "train_ohe = ohe.transform(train_cat_data)\n",
        "test_ohe = ohe.transform(test_cat_data)\n",
        "train_ohe"
      ],
      "metadata": {
        "colab": {
          "base_uri": "https://localhost:8080/"
        },
        "id": "ullHyO8v3Q-5",
        "outputId": "6d333082-fb11-4c24-ffc7-0036a6d666bf"
      },
      "execution_count": 27,
      "outputs": [
        {
          "output_type": "execute_result",
          "data": {
            "text/plain": [
              "array([[0., 0., 0., ..., 0., 0., 0.],\n",
              "       [0., 0., 0., ..., 0., 0., 0.],\n",
              "       [0., 0., 0., ..., 0., 0., 0.],\n",
              "       ...,\n",
              "       [0., 0., 0., ..., 0., 0., 0.],\n",
              "       [0., 0., 0., ..., 0., 0., 0.],\n",
              "       [0., 0., 0., ..., 0., 0., 0.]])"
            ]
          },
          "metadata": {},
          "execution_count": 27
        }
      ]
    },
    {
      "cell_type": "code",
      "source": [
        "ohe_column_names = ohe.get_feature_names_out(train_cat_data.columns)\n",
        "train_ohe = pd.DataFrame(train_ohe, columns = ohe_column_names)\n",
        "test_ohe = pd.DataFrame(test_ohe, columns = ohe_column_names)\n",
        "train_ohe"
      ],
      "metadata": {
        "colab": {
          "base_uri": "https://localhost:8080/",
          "height": 522
        },
        "id": "OvNgFo4731TL",
        "outputId": "8e16cb41-796f-4e1c-b682-5b6dc6e48deb"
      },
      "execution_count": 28,
      "outputs": [
        {
          "output_type": "execute_result",
          "data": {
            "text/plain": [
              "      team_home_Arizona Cardinals  team_home_Atlanta Falcons  \\\n",
              "0                             0.0                        0.0   \n",
              "1                             0.0                        0.0   \n",
              "2                             0.0                        0.0   \n",
              "3                             0.0                        0.0   \n",
              "4                             0.0                        0.0   \n",
              "...                           ...                        ...   \n",
              "8044                          0.0                        0.0   \n",
              "8045                          0.0                        0.0   \n",
              "8046                          0.0                        0.0   \n",
              "8047                          0.0                        0.0   \n",
              "8048                          0.0                        0.0   \n",
              "\n",
              "      team_home_Baltimore Colts  team_home_Baltimore Ravens  \\\n",
              "0                           0.0                         0.0   \n",
              "1                           0.0                         0.0   \n",
              "2                           0.0                         0.0   \n",
              "3                           0.0                         0.0   \n",
              "4                           0.0                         1.0   \n",
              "...                         ...                         ...   \n",
              "8044                        0.0                         0.0   \n",
              "8045                        0.0                         0.0   \n",
              "8046                        0.0                         0.0   \n",
              "8047                        0.0                         0.0   \n",
              "8048                        0.0                         0.0   \n",
              "\n",
              "      team_home_Buffalo Bills  team_home_Carolina Panthers  \\\n",
              "0                         0.0                          0.0   \n",
              "1                         0.0                          0.0   \n",
              "2                         0.0                          0.0   \n",
              "3                         0.0                          0.0   \n",
              "4                         0.0                          0.0   \n",
              "...                       ...                          ...   \n",
              "8044                      0.0                          0.0   \n",
              "8045                      0.0                          0.0   \n",
              "8046                      0.0                          1.0   \n",
              "8047                      0.0                          0.0   \n",
              "8048                      0.0                          0.0   \n",
              "\n",
              "      team_home_Chicago Bears  team_home_Cincinnati Bengals  \\\n",
              "0                         0.0                           0.0   \n",
              "1                         0.0                           0.0   \n",
              "2                         0.0                           1.0   \n",
              "3                         0.0                           0.0   \n",
              "4                         0.0                           0.0   \n",
              "...                       ...                           ...   \n",
              "8044                      0.0                           0.0   \n",
              "8045                      0.0                           0.0   \n",
              "8046                      0.0                           0.0   \n",
              "8047                      0.0                           0.0   \n",
              "8048                      0.0                           0.0   \n",
              "\n",
              "      team_home_Cleveland Browns  team_home_Dallas Cowboys  ...  \\\n",
              "0                            1.0                       0.0  ...   \n",
              "1                            0.0                       0.0  ...   \n",
              "2                            0.0                       0.0  ...   \n",
              "3                            0.0                       0.0  ...   \n",
              "4                            0.0                       0.0  ...   \n",
              "...                          ...                       ...  ...   \n",
              "8044                         0.0                       0.0  ...   \n",
              "8045                         0.0                       0.0  ...   \n",
              "8046                         0.0                       0.0  ...   \n",
              "8047                         0.0                       0.0  ...   \n",
              "8048                         0.0                       0.0  ...   \n",
              "\n",
              "      stadium_Three Rivers Stadium  stadium_Tiger Stadium (LSU)  \\\n",
              "0                              0.0                          0.0   \n",
              "1                              0.0                          0.0   \n",
              "2                              0.0                          0.0   \n",
              "3                              0.0                          0.0   \n",
              "4                              0.0                          0.0   \n",
              "...                            ...                          ...   \n",
              "8044                           0.0                          0.0   \n",
              "8045                           0.0                          0.0   \n",
              "8046                           0.0                          0.0   \n",
              "8047                           0.0                          0.0   \n",
              "8048                           0.0                          0.0   \n",
              "\n",
              "      stadium_Tottenham Hotspur Stadium  stadium_Tottenham Stadium  \\\n",
              "0                                   0.0                        0.0   \n",
              "1                                   0.0                        0.0   \n",
              "2                                   0.0                        0.0   \n",
              "3                                   0.0                        0.0   \n",
              "4                                   0.0                        0.0   \n",
              "...                                 ...                        ...   \n",
              "8044                                0.0                        0.0   \n",
              "8045                                0.0                        0.0   \n",
              "8046                                0.0                        0.0   \n",
              "8047                                0.0                        0.0   \n",
              "8048                                0.0                        0.0   \n",
              "\n",
              "      stadium_Twickenham Stadium  stadium_U.S. Bank Stadium  \\\n",
              "0                            0.0                        0.0   \n",
              "1                            0.0                        0.0   \n",
              "2                            0.0                        0.0   \n",
              "3                            0.0                        0.0   \n",
              "4                            0.0                        0.0   \n",
              "...                          ...                        ...   \n",
              "8044                         0.0                        0.0   \n",
              "8045                         0.0                        0.0   \n",
              "8046                         0.0                        0.0   \n",
              "8047                         0.0                        0.0   \n",
              "8048                         0.0                        0.0   \n",
              "\n",
              "      stadium_University of Phoenix Stadium  stadium_Vanderbilt Stadium  \\\n",
              "0                                       0.0                         0.0   \n",
              "1                                       0.0                         0.0   \n",
              "2                                       0.0                         0.0   \n",
              "3                                       0.0                         0.0   \n",
              "4                                       0.0                         0.0   \n",
              "...                                     ...                         ...   \n",
              "8044                                    0.0                         0.0   \n",
              "8045                                    0.0                         0.0   \n",
              "8046                                    0.0                         0.0   \n",
              "8047                                    0.0                         0.0   \n",
              "8048                                    0.0                         0.0   \n",
              "\n",
              "      stadium_Veterans Stadium  stadium_Wembley Stadium  \n",
              "0                          0.0                      0.0  \n",
              "1                          0.0                      0.0  \n",
              "2                          0.0                      0.0  \n",
              "3                          0.0                      0.0  \n",
              "4                          0.0                      0.0  \n",
              "...                        ...                      ...  \n",
              "8044                       0.0                      0.0  \n",
              "8045                       0.0                      0.0  \n",
              "8046                       0.0                      0.0  \n",
              "8047                       0.0                      0.0  \n",
              "8048                       0.0                      0.0  \n",
              "\n",
              "[8049 rows x 210 columns]"
            ],
            "text/html": [
              "\n",
              "  <div id=\"df-087b12a7-1ffe-4e38-8ad8-991a8a21c0ad\">\n",
              "    <div class=\"colab-df-container\">\n",
              "      <div>\n",
              "<style scoped>\n",
              "    .dataframe tbody tr th:only-of-type {\n",
              "        vertical-align: middle;\n",
              "    }\n",
              "\n",
              "    .dataframe tbody tr th {\n",
              "        vertical-align: top;\n",
              "    }\n",
              "\n",
              "    .dataframe thead th {\n",
              "        text-align: right;\n",
              "    }\n",
              "</style>\n",
              "<table border=\"1\" class=\"dataframe\">\n",
              "  <thead>\n",
              "    <tr style=\"text-align: right;\">\n",
              "      <th></th>\n",
              "      <th>team_home_Arizona Cardinals</th>\n",
              "      <th>team_home_Atlanta Falcons</th>\n",
              "      <th>team_home_Baltimore Colts</th>\n",
              "      <th>team_home_Baltimore Ravens</th>\n",
              "      <th>team_home_Buffalo Bills</th>\n",
              "      <th>team_home_Carolina Panthers</th>\n",
              "      <th>team_home_Chicago Bears</th>\n",
              "      <th>team_home_Cincinnati Bengals</th>\n",
              "      <th>team_home_Cleveland Browns</th>\n",
              "      <th>team_home_Dallas Cowboys</th>\n",
              "      <th>...</th>\n",
              "      <th>stadium_Three Rivers Stadium</th>\n",
              "      <th>stadium_Tiger Stadium (LSU)</th>\n",
              "      <th>stadium_Tottenham Hotspur Stadium</th>\n",
              "      <th>stadium_Tottenham Stadium</th>\n",
              "      <th>stadium_Twickenham Stadium</th>\n",
              "      <th>stadium_U.S. Bank Stadium</th>\n",
              "      <th>stadium_University of Phoenix Stadium</th>\n",
              "      <th>stadium_Vanderbilt Stadium</th>\n",
              "      <th>stadium_Veterans Stadium</th>\n",
              "      <th>stadium_Wembley Stadium</th>\n",
              "    </tr>\n",
              "  </thead>\n",
              "  <tbody>\n",
              "    <tr>\n",
              "      <th>0</th>\n",
              "      <td>0.0</td>\n",
              "      <td>0.0</td>\n",
              "      <td>0.0</td>\n",
              "      <td>0.0</td>\n",
              "      <td>0.0</td>\n",
              "      <td>0.0</td>\n",
              "      <td>0.0</td>\n",
              "      <td>0.0</td>\n",
              "      <td>1.0</td>\n",
              "      <td>0.0</td>\n",
              "      <td>...</td>\n",
              "      <td>0.0</td>\n",
              "      <td>0.0</td>\n",
              "      <td>0.0</td>\n",
              "      <td>0.0</td>\n",
              "      <td>0.0</td>\n",
              "      <td>0.0</td>\n",
              "      <td>0.0</td>\n",
              "      <td>0.0</td>\n",
              "      <td>0.0</td>\n",
              "      <td>0.0</td>\n",
              "    </tr>\n",
              "    <tr>\n",
              "      <th>1</th>\n",
              "      <td>0.0</td>\n",
              "      <td>0.0</td>\n",
              "      <td>0.0</td>\n",
              "      <td>0.0</td>\n",
              "      <td>0.0</td>\n",
              "      <td>0.0</td>\n",
              "      <td>0.0</td>\n",
              "      <td>0.0</td>\n",
              "      <td>0.0</td>\n",
              "      <td>0.0</td>\n",
              "      <td>...</td>\n",
              "      <td>0.0</td>\n",
              "      <td>0.0</td>\n",
              "      <td>0.0</td>\n",
              "      <td>0.0</td>\n",
              "      <td>0.0</td>\n",
              "      <td>0.0</td>\n",
              "      <td>0.0</td>\n",
              "      <td>0.0</td>\n",
              "      <td>0.0</td>\n",
              "      <td>0.0</td>\n",
              "    </tr>\n",
              "    <tr>\n",
              "      <th>2</th>\n",
              "      <td>0.0</td>\n",
              "      <td>0.0</td>\n",
              "      <td>0.0</td>\n",
              "      <td>0.0</td>\n",
              "      <td>0.0</td>\n",
              "      <td>0.0</td>\n",
              "      <td>0.0</td>\n",
              "      <td>1.0</td>\n",
              "      <td>0.0</td>\n",
              "      <td>0.0</td>\n",
              "      <td>...</td>\n",
              "      <td>0.0</td>\n",
              "      <td>0.0</td>\n",
              "      <td>0.0</td>\n",
              "      <td>0.0</td>\n",
              "      <td>0.0</td>\n",
              "      <td>0.0</td>\n",
              "      <td>0.0</td>\n",
              "      <td>0.0</td>\n",
              "      <td>0.0</td>\n",
              "      <td>0.0</td>\n",
              "    </tr>\n",
              "    <tr>\n",
              "      <th>3</th>\n",
              "      <td>0.0</td>\n",
              "      <td>0.0</td>\n",
              "      <td>0.0</td>\n",
              "      <td>0.0</td>\n",
              "      <td>0.0</td>\n",
              "      <td>0.0</td>\n",
              "      <td>0.0</td>\n",
              "      <td>0.0</td>\n",
              "      <td>0.0</td>\n",
              "      <td>0.0</td>\n",
              "      <td>...</td>\n",
              "      <td>0.0</td>\n",
              "      <td>0.0</td>\n",
              "      <td>0.0</td>\n",
              "      <td>0.0</td>\n",
              "      <td>0.0</td>\n",
              "      <td>0.0</td>\n",
              "      <td>0.0</td>\n",
              "      <td>0.0</td>\n",
              "      <td>0.0</td>\n",
              "      <td>0.0</td>\n",
              "    </tr>\n",
              "    <tr>\n",
              "      <th>4</th>\n",
              "      <td>0.0</td>\n",
              "      <td>0.0</td>\n",
              "      <td>0.0</td>\n",
              "      <td>1.0</td>\n",
              "      <td>0.0</td>\n",
              "      <td>0.0</td>\n",
              "      <td>0.0</td>\n",
              "      <td>0.0</td>\n",
              "      <td>0.0</td>\n",
              "      <td>0.0</td>\n",
              "      <td>...</td>\n",
              "      <td>0.0</td>\n",
              "      <td>0.0</td>\n",
              "      <td>0.0</td>\n",
              "      <td>0.0</td>\n",
              "      <td>0.0</td>\n",
              "      <td>0.0</td>\n",
              "      <td>0.0</td>\n",
              "      <td>0.0</td>\n",
              "      <td>0.0</td>\n",
              "      <td>0.0</td>\n",
              "    </tr>\n",
              "    <tr>\n",
              "      <th>...</th>\n",
              "      <td>...</td>\n",
              "      <td>...</td>\n",
              "      <td>...</td>\n",
              "      <td>...</td>\n",
              "      <td>...</td>\n",
              "      <td>...</td>\n",
              "      <td>...</td>\n",
              "      <td>...</td>\n",
              "      <td>...</td>\n",
              "      <td>...</td>\n",
              "      <td>...</td>\n",
              "      <td>...</td>\n",
              "      <td>...</td>\n",
              "      <td>...</td>\n",
              "      <td>...</td>\n",
              "      <td>...</td>\n",
              "      <td>...</td>\n",
              "      <td>...</td>\n",
              "      <td>...</td>\n",
              "      <td>...</td>\n",
              "      <td>...</td>\n",
              "    </tr>\n",
              "    <tr>\n",
              "      <th>8044</th>\n",
              "      <td>0.0</td>\n",
              "      <td>0.0</td>\n",
              "      <td>0.0</td>\n",
              "      <td>0.0</td>\n",
              "      <td>0.0</td>\n",
              "      <td>0.0</td>\n",
              "      <td>0.0</td>\n",
              "      <td>0.0</td>\n",
              "      <td>0.0</td>\n",
              "      <td>0.0</td>\n",
              "      <td>...</td>\n",
              "      <td>0.0</td>\n",
              "      <td>0.0</td>\n",
              "      <td>0.0</td>\n",
              "      <td>0.0</td>\n",
              "      <td>0.0</td>\n",
              "      <td>0.0</td>\n",
              "      <td>0.0</td>\n",
              "      <td>0.0</td>\n",
              "      <td>0.0</td>\n",
              "      <td>0.0</td>\n",
              "    </tr>\n",
              "    <tr>\n",
              "      <th>8045</th>\n",
              "      <td>0.0</td>\n",
              "      <td>0.0</td>\n",
              "      <td>0.0</td>\n",
              "      <td>0.0</td>\n",
              "      <td>0.0</td>\n",
              "      <td>0.0</td>\n",
              "      <td>0.0</td>\n",
              "      <td>0.0</td>\n",
              "      <td>0.0</td>\n",
              "      <td>0.0</td>\n",
              "      <td>...</td>\n",
              "      <td>0.0</td>\n",
              "      <td>0.0</td>\n",
              "      <td>0.0</td>\n",
              "      <td>0.0</td>\n",
              "      <td>0.0</td>\n",
              "      <td>0.0</td>\n",
              "      <td>0.0</td>\n",
              "      <td>0.0</td>\n",
              "      <td>0.0</td>\n",
              "      <td>0.0</td>\n",
              "    </tr>\n",
              "    <tr>\n",
              "      <th>8046</th>\n",
              "      <td>0.0</td>\n",
              "      <td>0.0</td>\n",
              "      <td>0.0</td>\n",
              "      <td>0.0</td>\n",
              "      <td>0.0</td>\n",
              "      <td>1.0</td>\n",
              "      <td>0.0</td>\n",
              "      <td>0.0</td>\n",
              "      <td>0.0</td>\n",
              "      <td>0.0</td>\n",
              "      <td>...</td>\n",
              "      <td>0.0</td>\n",
              "      <td>0.0</td>\n",
              "      <td>0.0</td>\n",
              "      <td>0.0</td>\n",
              "      <td>0.0</td>\n",
              "      <td>0.0</td>\n",
              "      <td>0.0</td>\n",
              "      <td>0.0</td>\n",
              "      <td>0.0</td>\n",
              "      <td>0.0</td>\n",
              "    </tr>\n",
              "    <tr>\n",
              "      <th>8047</th>\n",
              "      <td>0.0</td>\n",
              "      <td>0.0</td>\n",
              "      <td>0.0</td>\n",
              "      <td>0.0</td>\n",
              "      <td>0.0</td>\n",
              "      <td>0.0</td>\n",
              "      <td>0.0</td>\n",
              "      <td>0.0</td>\n",
              "      <td>0.0</td>\n",
              "      <td>0.0</td>\n",
              "      <td>...</td>\n",
              "      <td>0.0</td>\n",
              "      <td>0.0</td>\n",
              "      <td>0.0</td>\n",
              "      <td>0.0</td>\n",
              "      <td>0.0</td>\n",
              "      <td>0.0</td>\n",
              "      <td>0.0</td>\n",
              "      <td>0.0</td>\n",
              "      <td>0.0</td>\n",
              "      <td>0.0</td>\n",
              "    </tr>\n",
              "    <tr>\n",
              "      <th>8048</th>\n",
              "      <td>0.0</td>\n",
              "      <td>0.0</td>\n",
              "      <td>0.0</td>\n",
              "      <td>0.0</td>\n",
              "      <td>0.0</td>\n",
              "      <td>0.0</td>\n",
              "      <td>0.0</td>\n",
              "      <td>0.0</td>\n",
              "      <td>0.0</td>\n",
              "      <td>0.0</td>\n",
              "      <td>...</td>\n",
              "      <td>0.0</td>\n",
              "      <td>0.0</td>\n",
              "      <td>0.0</td>\n",
              "      <td>0.0</td>\n",
              "      <td>0.0</td>\n",
              "      <td>0.0</td>\n",
              "      <td>0.0</td>\n",
              "      <td>0.0</td>\n",
              "      <td>0.0</td>\n",
              "      <td>0.0</td>\n",
              "    </tr>\n",
              "  </tbody>\n",
              "</table>\n",
              "<p>8049 rows × 210 columns</p>\n",
              "</div>\n",
              "      <button class=\"colab-df-convert\" onclick=\"convertToInteractive('df-087b12a7-1ffe-4e38-8ad8-991a8a21c0ad')\"\n",
              "              title=\"Convert this dataframe to an interactive table.\"\n",
              "              style=\"display:none;\">\n",
              "        \n",
              "  <svg xmlns=\"http://www.w3.org/2000/svg\" height=\"24px\"viewBox=\"0 0 24 24\"\n",
              "       width=\"24px\">\n",
              "    <path d=\"M0 0h24v24H0V0z\" fill=\"none\"/>\n",
              "    <path d=\"M18.56 5.44l.94 2.06.94-2.06 2.06-.94-2.06-.94-.94-2.06-.94 2.06-2.06.94zm-11 1L8.5 8.5l.94-2.06 2.06-.94-2.06-.94L8.5 2.5l-.94 2.06-2.06.94zm10 10l.94 2.06.94-2.06 2.06-.94-2.06-.94-.94-2.06-.94 2.06-2.06.94z\"/><path d=\"M17.41 7.96l-1.37-1.37c-.4-.4-.92-.59-1.43-.59-.52 0-1.04.2-1.43.59L10.3 9.45l-7.72 7.72c-.78.78-.78 2.05 0 2.83L4 21.41c.39.39.9.59 1.41.59.51 0 1.02-.2 1.41-.59l7.78-7.78 2.81-2.81c.8-.78.8-2.07 0-2.86zM5.41 20L4 18.59l7.72-7.72 1.47 1.35L5.41 20z\"/>\n",
              "  </svg>\n",
              "      </button>\n",
              "      \n",
              "  <style>\n",
              "    .colab-df-container {\n",
              "      display:flex;\n",
              "      flex-wrap:wrap;\n",
              "      gap: 12px;\n",
              "    }\n",
              "\n",
              "    .colab-df-convert {\n",
              "      background-color: #E8F0FE;\n",
              "      border: none;\n",
              "      border-radius: 50%;\n",
              "      cursor: pointer;\n",
              "      display: none;\n",
              "      fill: #1967D2;\n",
              "      height: 32px;\n",
              "      padding: 0 0 0 0;\n",
              "      width: 32px;\n",
              "    }\n",
              "\n",
              "    .colab-df-convert:hover {\n",
              "      background-color: #E2EBFA;\n",
              "      box-shadow: 0px 1px 2px rgba(60, 64, 67, 0.3), 0px 1px 3px 1px rgba(60, 64, 67, 0.15);\n",
              "      fill: #174EA6;\n",
              "    }\n",
              "\n",
              "    [theme=dark] .colab-df-convert {\n",
              "      background-color: #3B4455;\n",
              "      fill: #D2E3FC;\n",
              "    }\n",
              "\n",
              "    [theme=dark] .colab-df-convert:hover {\n",
              "      background-color: #434B5C;\n",
              "      box-shadow: 0px 1px 3px 1px rgba(0, 0, 0, 0.15);\n",
              "      filter: drop-shadow(0px 1px 2px rgba(0, 0, 0, 0.3));\n",
              "      fill: #FFFFFF;\n",
              "    }\n",
              "  </style>\n",
              "\n",
              "      <script>\n",
              "        const buttonEl =\n",
              "          document.querySelector('#df-087b12a7-1ffe-4e38-8ad8-991a8a21c0ad button.colab-df-convert');\n",
              "        buttonEl.style.display =\n",
              "          google.colab.kernel.accessAllowed ? 'block' : 'none';\n",
              "\n",
              "        async function convertToInteractive(key) {\n",
              "          const element = document.querySelector('#df-087b12a7-1ffe-4e38-8ad8-991a8a21c0ad');\n",
              "          const dataTable =\n",
              "            await google.colab.kernel.invokeFunction('convertToInteractive',\n",
              "                                                     [key], {});\n",
              "          if (!dataTable) return;\n",
              "\n",
              "          const docLinkHtml = 'Like what you see? Visit the ' +\n",
              "            '<a target=\"_blank\" href=https://colab.research.google.com/notebooks/data_table.ipynb>data table notebook</a>'\n",
              "            + ' to learn more about interactive tables.';\n",
              "          element.innerHTML = '';\n",
              "          dataTable['output_type'] = 'display_data';\n",
              "          await google.colab.output.renderOutput(dataTable, element);\n",
              "          const docLink = document.createElement('div');\n",
              "          docLink.innerHTML = docLinkHtml;\n",
              "          element.appendChild(docLink);\n",
              "        }\n",
              "      </script>\n",
              "    </div>\n",
              "  </div>\n",
              "  "
            ]
          },
          "metadata": {},
          "execution_count": 28
        }
      ]
    },
    {
      "cell_type": "code",
      "source": [
        "num_selector = make_column_selector(dtype_include = \"number\")\n",
        "train_nums = X_train[num_selector(X_train)].reset_index(drop = True)\n",
        "test_nums = X_test[num_selector(X_test)].reset_index(drop = True)\n",
        "X_train_processed = pd.concat([train_nums, train_ohe], axis = 1)\n",
        "X_test_processed = pd.concat([test_nums, test_ohe], axis = 1)\n",
        "X_train_processed"
      ],
      "metadata": {
        "colab": {
          "base_uri": "https://localhost:8080/",
          "height": 522
        },
        "id": "btpeX7C76BRR",
        "outputId": "c6d4feb3-9701-4ca8-c1a4-cd47f0c1a3b9"
      },
      "execution_count": 29,
      "outputs": [
        {
          "output_type": "execute_result",
          "data": {
            "text/plain": [
              "      schedule_season  schedule_week  schedule_playoff  score_home  \\\n",
              "0                2003              6                 0        13.0   \n",
              "1                2004              6                 0        30.0   \n",
              "2                2021              4                 0        24.0   \n",
              "3                2003              4                 0        20.0   \n",
              "4                2007              2                 0        20.0   \n",
              "...               ...            ...               ...         ...   \n",
              "8044             2003              7                 0        13.0   \n",
              "8045             2001              6                 0        35.0   \n",
              "8046             2002              2                 0        31.0   \n",
              "8047             1983              2                 0        26.0   \n",
              "8048             2009              2                 0        31.0   \n",
              "\n",
              "      score_away  spread_favorite  over_under_line  stadium_neutral  \\\n",
              "0            7.0             -3.5             43.5                0   \n",
              "1           20.0             -3.5             42.0                0   \n",
              "2           21.0             -7.5             46.0                0   \n",
              "3           16.0            -12.0             44.0                0   \n",
              "4           13.0            -10.0             33.0                0   \n",
              "...          ...              ...              ...              ...   \n",
              "8044        19.0             -6.5             37.0                0   \n",
              "8045        13.0             -3.0             47.5                0   \n",
              "8046         7.0             -3.0             35.5                0   \n",
              "8047        31.0             -3.0             39.0                0   \n",
              "8048        34.0             -7.0             40.5                0   \n",
              "\n",
              "      weather_temperature  weather_wind_mph  ...  \\\n",
              "0                    62.0              11.0  ...   \n",
              "1                    52.0              14.0  ...   \n",
              "2                    64.0               7.0  ...   \n",
              "3                    54.0               8.0  ...   \n",
              "4                    58.0               6.0  ...   \n",
              "...                   ...               ...  ...   \n",
              "8044                 78.0               6.0  ...   \n",
              "8045                 72.0               0.0  ...   \n",
              "8046                 70.0              10.0  ...   \n",
              "8047                 72.0               0.0  ...   \n",
              "8048                 76.0               9.0  ...   \n",
              "\n",
              "      stadium_Three Rivers Stadium  stadium_Tiger Stadium (LSU)  \\\n",
              "0                              0.0                          0.0   \n",
              "1                              0.0                          0.0   \n",
              "2                              0.0                          0.0   \n",
              "3                              0.0                          0.0   \n",
              "4                              0.0                          0.0   \n",
              "...                            ...                          ...   \n",
              "8044                           0.0                          0.0   \n",
              "8045                           0.0                          0.0   \n",
              "8046                           0.0                          0.0   \n",
              "8047                           0.0                          0.0   \n",
              "8048                           0.0                          0.0   \n",
              "\n",
              "      stadium_Tottenham Hotspur Stadium  stadium_Tottenham Stadium  \\\n",
              "0                                   0.0                        0.0   \n",
              "1                                   0.0                        0.0   \n",
              "2                                   0.0                        0.0   \n",
              "3                                   0.0                        0.0   \n",
              "4                                   0.0                        0.0   \n",
              "...                                 ...                        ...   \n",
              "8044                                0.0                        0.0   \n",
              "8045                                0.0                        0.0   \n",
              "8046                                0.0                        0.0   \n",
              "8047                                0.0                        0.0   \n",
              "8048                                0.0                        0.0   \n",
              "\n",
              "      stadium_Twickenham Stadium  stadium_U.S. Bank Stadium  \\\n",
              "0                            0.0                        0.0   \n",
              "1                            0.0                        0.0   \n",
              "2                            0.0                        0.0   \n",
              "3                            0.0                        0.0   \n",
              "4                            0.0                        0.0   \n",
              "...                          ...                        ...   \n",
              "8044                         0.0                        0.0   \n",
              "8045                         0.0                        0.0   \n",
              "8046                         0.0                        0.0   \n",
              "8047                         0.0                        0.0   \n",
              "8048                         0.0                        0.0   \n",
              "\n",
              "      stadium_University of Phoenix Stadium  stadium_Vanderbilt Stadium  \\\n",
              "0                                       0.0                         0.0   \n",
              "1                                       0.0                         0.0   \n",
              "2                                       0.0                         0.0   \n",
              "3                                       0.0                         0.0   \n",
              "4                                       0.0                         0.0   \n",
              "...                                     ...                         ...   \n",
              "8044                                    0.0                         0.0   \n",
              "8045                                    0.0                         0.0   \n",
              "8046                                    0.0                         0.0   \n",
              "8047                                    0.0                         0.0   \n",
              "8048                                    0.0                         0.0   \n",
              "\n",
              "      stadium_Veterans Stadium  stadium_Wembley Stadium  \n",
              "0                          0.0                      0.0  \n",
              "1                          0.0                      0.0  \n",
              "2                          0.0                      0.0  \n",
              "3                          0.0                      0.0  \n",
              "4                          0.0                      0.0  \n",
              "...                        ...                      ...  \n",
              "8044                       0.0                      0.0  \n",
              "8045                       0.0                      0.0  \n",
              "8046                       0.0                      0.0  \n",
              "8047                       0.0                      0.0  \n",
              "8048                       0.0                      0.0  \n",
              "\n",
              "[8049 rows x 221 columns]"
            ],
            "text/html": [
              "\n",
              "  <div id=\"df-aaa9bf5e-0f66-4cb9-b84e-11ee67ee3dc4\">\n",
              "    <div class=\"colab-df-container\">\n",
              "      <div>\n",
              "<style scoped>\n",
              "    .dataframe tbody tr th:only-of-type {\n",
              "        vertical-align: middle;\n",
              "    }\n",
              "\n",
              "    .dataframe tbody tr th {\n",
              "        vertical-align: top;\n",
              "    }\n",
              "\n",
              "    .dataframe thead th {\n",
              "        text-align: right;\n",
              "    }\n",
              "</style>\n",
              "<table border=\"1\" class=\"dataframe\">\n",
              "  <thead>\n",
              "    <tr style=\"text-align: right;\">\n",
              "      <th></th>\n",
              "      <th>schedule_season</th>\n",
              "      <th>schedule_week</th>\n",
              "      <th>schedule_playoff</th>\n",
              "      <th>score_home</th>\n",
              "      <th>score_away</th>\n",
              "      <th>spread_favorite</th>\n",
              "      <th>over_under_line</th>\n",
              "      <th>stadium_neutral</th>\n",
              "      <th>weather_temperature</th>\n",
              "      <th>weather_wind_mph</th>\n",
              "      <th>...</th>\n",
              "      <th>stadium_Three Rivers Stadium</th>\n",
              "      <th>stadium_Tiger Stadium (LSU)</th>\n",
              "      <th>stadium_Tottenham Hotspur Stadium</th>\n",
              "      <th>stadium_Tottenham Stadium</th>\n",
              "      <th>stadium_Twickenham Stadium</th>\n",
              "      <th>stadium_U.S. Bank Stadium</th>\n",
              "      <th>stadium_University of Phoenix Stadium</th>\n",
              "      <th>stadium_Vanderbilt Stadium</th>\n",
              "      <th>stadium_Veterans Stadium</th>\n",
              "      <th>stadium_Wembley Stadium</th>\n",
              "    </tr>\n",
              "  </thead>\n",
              "  <tbody>\n",
              "    <tr>\n",
              "      <th>0</th>\n",
              "      <td>2003</td>\n",
              "      <td>6</td>\n",
              "      <td>0</td>\n",
              "      <td>13.0</td>\n",
              "      <td>7.0</td>\n",
              "      <td>-3.5</td>\n",
              "      <td>43.5</td>\n",
              "      <td>0</td>\n",
              "      <td>62.0</td>\n",
              "      <td>11.0</td>\n",
              "      <td>...</td>\n",
              "      <td>0.0</td>\n",
              "      <td>0.0</td>\n",
              "      <td>0.0</td>\n",
              "      <td>0.0</td>\n",
              "      <td>0.0</td>\n",
              "      <td>0.0</td>\n",
              "      <td>0.0</td>\n",
              "      <td>0.0</td>\n",
              "      <td>0.0</td>\n",
              "      <td>0.0</td>\n",
              "    </tr>\n",
              "    <tr>\n",
              "      <th>1</th>\n",
              "      <td>2004</td>\n",
              "      <td>6</td>\n",
              "      <td>0</td>\n",
              "      <td>30.0</td>\n",
              "      <td>20.0</td>\n",
              "      <td>-3.5</td>\n",
              "      <td>42.0</td>\n",
              "      <td>0</td>\n",
              "      <td>52.0</td>\n",
              "      <td>14.0</td>\n",
              "      <td>...</td>\n",
              "      <td>0.0</td>\n",
              "      <td>0.0</td>\n",
              "      <td>0.0</td>\n",
              "      <td>0.0</td>\n",
              "      <td>0.0</td>\n",
              "      <td>0.0</td>\n",
              "      <td>0.0</td>\n",
              "      <td>0.0</td>\n",
              "      <td>0.0</td>\n",
              "      <td>0.0</td>\n",
              "    </tr>\n",
              "    <tr>\n",
              "      <th>2</th>\n",
              "      <td>2021</td>\n",
              "      <td>4</td>\n",
              "      <td>0</td>\n",
              "      <td>24.0</td>\n",
              "      <td>21.0</td>\n",
              "      <td>-7.5</td>\n",
              "      <td>46.0</td>\n",
              "      <td>0</td>\n",
              "      <td>64.0</td>\n",
              "      <td>7.0</td>\n",
              "      <td>...</td>\n",
              "      <td>0.0</td>\n",
              "      <td>0.0</td>\n",
              "      <td>0.0</td>\n",
              "      <td>0.0</td>\n",
              "      <td>0.0</td>\n",
              "      <td>0.0</td>\n",
              "      <td>0.0</td>\n",
              "      <td>0.0</td>\n",
              "      <td>0.0</td>\n",
              "      <td>0.0</td>\n",
              "    </tr>\n",
              "    <tr>\n",
              "      <th>3</th>\n",
              "      <td>2003</td>\n",
              "      <td>4</td>\n",
              "      <td>0</td>\n",
              "      <td>20.0</td>\n",
              "      <td>16.0</td>\n",
              "      <td>-12.0</td>\n",
              "      <td>44.0</td>\n",
              "      <td>0</td>\n",
              "      <td>54.0</td>\n",
              "      <td>8.0</td>\n",
              "      <td>...</td>\n",
              "      <td>0.0</td>\n",
              "      <td>0.0</td>\n",
              "      <td>0.0</td>\n",
              "      <td>0.0</td>\n",
              "      <td>0.0</td>\n",
              "      <td>0.0</td>\n",
              "      <td>0.0</td>\n",
              "      <td>0.0</td>\n",
              "      <td>0.0</td>\n",
              "      <td>0.0</td>\n",
              "    </tr>\n",
              "    <tr>\n",
              "      <th>4</th>\n",
              "      <td>2007</td>\n",
              "      <td>2</td>\n",
              "      <td>0</td>\n",
              "      <td>20.0</td>\n",
              "      <td>13.0</td>\n",
              "      <td>-10.0</td>\n",
              "      <td>33.0</td>\n",
              "      <td>0</td>\n",
              "      <td>58.0</td>\n",
              "      <td>6.0</td>\n",
              "      <td>...</td>\n",
              "      <td>0.0</td>\n",
              "      <td>0.0</td>\n",
              "      <td>0.0</td>\n",
              "      <td>0.0</td>\n",
              "      <td>0.0</td>\n",
              "      <td>0.0</td>\n",
              "      <td>0.0</td>\n",
              "      <td>0.0</td>\n",
              "      <td>0.0</td>\n",
              "      <td>0.0</td>\n",
              "    </tr>\n",
              "    <tr>\n",
              "      <th>...</th>\n",
              "      <td>...</td>\n",
              "      <td>...</td>\n",
              "      <td>...</td>\n",
              "      <td>...</td>\n",
              "      <td>...</td>\n",
              "      <td>...</td>\n",
              "      <td>...</td>\n",
              "      <td>...</td>\n",
              "      <td>...</td>\n",
              "      <td>...</td>\n",
              "      <td>...</td>\n",
              "      <td>...</td>\n",
              "      <td>...</td>\n",
              "      <td>...</td>\n",
              "      <td>...</td>\n",
              "      <td>...</td>\n",
              "      <td>...</td>\n",
              "      <td>...</td>\n",
              "      <td>...</td>\n",
              "      <td>...</td>\n",
              "      <td>...</td>\n",
              "    </tr>\n",
              "    <tr>\n",
              "      <th>8044</th>\n",
              "      <td>2003</td>\n",
              "      <td>7</td>\n",
              "      <td>0</td>\n",
              "      <td>13.0</td>\n",
              "      <td>19.0</td>\n",
              "      <td>-6.5</td>\n",
              "      <td>37.0</td>\n",
              "      <td>0</td>\n",
              "      <td>78.0</td>\n",
              "      <td>6.0</td>\n",
              "      <td>...</td>\n",
              "      <td>0.0</td>\n",
              "      <td>0.0</td>\n",
              "      <td>0.0</td>\n",
              "      <td>0.0</td>\n",
              "      <td>0.0</td>\n",
              "      <td>0.0</td>\n",
              "      <td>0.0</td>\n",
              "      <td>0.0</td>\n",
              "      <td>0.0</td>\n",
              "      <td>0.0</td>\n",
              "    </tr>\n",
              "    <tr>\n",
              "      <th>8045</th>\n",
              "      <td>2001</td>\n",
              "      <td>6</td>\n",
              "      <td>0</td>\n",
              "      <td>35.0</td>\n",
              "      <td>13.0</td>\n",
              "      <td>-3.0</td>\n",
              "      <td>47.5</td>\n",
              "      <td>0</td>\n",
              "      <td>72.0</td>\n",
              "      <td>0.0</td>\n",
              "      <td>...</td>\n",
              "      <td>0.0</td>\n",
              "      <td>0.0</td>\n",
              "      <td>0.0</td>\n",
              "      <td>0.0</td>\n",
              "      <td>0.0</td>\n",
              "      <td>0.0</td>\n",
              "      <td>0.0</td>\n",
              "      <td>0.0</td>\n",
              "      <td>0.0</td>\n",
              "      <td>0.0</td>\n",
              "    </tr>\n",
              "    <tr>\n",
              "      <th>8046</th>\n",
              "      <td>2002</td>\n",
              "      <td>2</td>\n",
              "      <td>0</td>\n",
              "      <td>31.0</td>\n",
              "      <td>7.0</td>\n",
              "      <td>-3.0</td>\n",
              "      <td>35.5</td>\n",
              "      <td>0</td>\n",
              "      <td>70.0</td>\n",
              "      <td>10.0</td>\n",
              "      <td>...</td>\n",
              "      <td>0.0</td>\n",
              "      <td>0.0</td>\n",
              "      <td>0.0</td>\n",
              "      <td>0.0</td>\n",
              "      <td>0.0</td>\n",
              "      <td>0.0</td>\n",
              "      <td>0.0</td>\n",
              "      <td>0.0</td>\n",
              "      <td>0.0</td>\n",
              "      <td>0.0</td>\n",
              "    </tr>\n",
              "    <tr>\n",
              "      <th>8047</th>\n",
              "      <td>1983</td>\n",
              "      <td>2</td>\n",
              "      <td>0</td>\n",
              "      <td>26.0</td>\n",
              "      <td>31.0</td>\n",
              "      <td>-3.0</td>\n",
              "      <td>39.0</td>\n",
              "      <td>0</td>\n",
              "      <td>72.0</td>\n",
              "      <td>0.0</td>\n",
              "      <td>...</td>\n",
              "      <td>0.0</td>\n",
              "      <td>0.0</td>\n",
              "      <td>0.0</td>\n",
              "      <td>0.0</td>\n",
              "      <td>0.0</td>\n",
              "      <td>0.0</td>\n",
              "      <td>0.0</td>\n",
              "      <td>0.0</td>\n",
              "      <td>0.0</td>\n",
              "      <td>0.0</td>\n",
              "    </tr>\n",
              "    <tr>\n",
              "      <th>8048</th>\n",
              "      <td>2009</td>\n",
              "      <td>2</td>\n",
              "      <td>0</td>\n",
              "      <td>31.0</td>\n",
              "      <td>34.0</td>\n",
              "      <td>-7.0</td>\n",
              "      <td>40.5</td>\n",
              "      <td>0</td>\n",
              "      <td>76.0</td>\n",
              "      <td>9.0</td>\n",
              "      <td>...</td>\n",
              "      <td>0.0</td>\n",
              "      <td>0.0</td>\n",
              "      <td>0.0</td>\n",
              "      <td>0.0</td>\n",
              "      <td>0.0</td>\n",
              "      <td>0.0</td>\n",
              "      <td>0.0</td>\n",
              "      <td>0.0</td>\n",
              "      <td>0.0</td>\n",
              "      <td>0.0</td>\n",
              "    </tr>\n",
              "  </tbody>\n",
              "</table>\n",
              "<p>8049 rows × 221 columns</p>\n",
              "</div>\n",
              "      <button class=\"colab-df-convert\" onclick=\"convertToInteractive('df-aaa9bf5e-0f66-4cb9-b84e-11ee67ee3dc4')\"\n",
              "              title=\"Convert this dataframe to an interactive table.\"\n",
              "              style=\"display:none;\">\n",
              "        \n",
              "  <svg xmlns=\"http://www.w3.org/2000/svg\" height=\"24px\"viewBox=\"0 0 24 24\"\n",
              "       width=\"24px\">\n",
              "    <path d=\"M0 0h24v24H0V0z\" fill=\"none\"/>\n",
              "    <path d=\"M18.56 5.44l.94 2.06.94-2.06 2.06-.94-2.06-.94-.94-2.06-.94 2.06-2.06.94zm-11 1L8.5 8.5l.94-2.06 2.06-.94-2.06-.94L8.5 2.5l-.94 2.06-2.06.94zm10 10l.94 2.06.94-2.06 2.06-.94-2.06-.94-.94-2.06-.94 2.06-2.06.94z\"/><path d=\"M17.41 7.96l-1.37-1.37c-.4-.4-.92-.59-1.43-.59-.52 0-1.04.2-1.43.59L10.3 9.45l-7.72 7.72c-.78.78-.78 2.05 0 2.83L4 21.41c.39.39.9.59 1.41.59.51 0 1.02-.2 1.41-.59l7.78-7.78 2.81-2.81c.8-.78.8-2.07 0-2.86zM5.41 20L4 18.59l7.72-7.72 1.47 1.35L5.41 20z\"/>\n",
              "  </svg>\n",
              "      </button>\n",
              "      \n",
              "  <style>\n",
              "    .colab-df-container {\n",
              "      display:flex;\n",
              "      flex-wrap:wrap;\n",
              "      gap: 12px;\n",
              "    }\n",
              "\n",
              "    .colab-df-convert {\n",
              "      background-color: #E8F0FE;\n",
              "      border: none;\n",
              "      border-radius: 50%;\n",
              "      cursor: pointer;\n",
              "      display: none;\n",
              "      fill: #1967D2;\n",
              "      height: 32px;\n",
              "      padding: 0 0 0 0;\n",
              "      width: 32px;\n",
              "    }\n",
              "\n",
              "    .colab-df-convert:hover {\n",
              "      background-color: #E2EBFA;\n",
              "      box-shadow: 0px 1px 2px rgba(60, 64, 67, 0.3), 0px 1px 3px 1px rgba(60, 64, 67, 0.15);\n",
              "      fill: #174EA6;\n",
              "    }\n",
              "\n",
              "    [theme=dark] .colab-df-convert {\n",
              "      background-color: #3B4455;\n",
              "      fill: #D2E3FC;\n",
              "    }\n",
              "\n",
              "    [theme=dark] .colab-df-convert:hover {\n",
              "      background-color: #434B5C;\n",
              "      box-shadow: 0px 1px 3px 1px rgba(0, 0, 0, 0.15);\n",
              "      filter: drop-shadow(0px 1px 2px rgba(0, 0, 0, 0.3));\n",
              "      fill: #FFFFFF;\n",
              "    }\n",
              "  </style>\n",
              "\n",
              "      <script>\n",
              "        const buttonEl =\n",
              "          document.querySelector('#df-aaa9bf5e-0f66-4cb9-b84e-11ee67ee3dc4 button.colab-df-convert');\n",
              "        buttonEl.style.display =\n",
              "          google.colab.kernel.accessAllowed ? 'block' : 'none';\n",
              "\n",
              "        async function convertToInteractive(key) {\n",
              "          const element = document.querySelector('#df-aaa9bf5e-0f66-4cb9-b84e-11ee67ee3dc4');\n",
              "          const dataTable =\n",
              "            await google.colab.kernel.invokeFunction('convertToInteractive',\n",
              "                                                     [key], {});\n",
              "          if (!dataTable) return;\n",
              "\n",
              "          const docLinkHtml = 'Like what you see? Visit the ' +\n",
              "            '<a target=\"_blank\" href=https://colab.research.google.com/notebooks/data_table.ipynb>data table notebook</a>'\n",
              "            + ' to learn more about interactive tables.';\n",
              "          element.innerHTML = '';\n",
              "          dataTable['output_type'] = 'display_data';\n",
              "          await google.colab.output.renderOutput(dataTable, element);\n",
              "          const docLink = document.createElement('div');\n",
              "          docLink.innerHTML = docLinkHtml;\n",
              "          element.appendChild(docLink);\n",
              "        }\n",
              "      </script>\n",
              "    </div>\n",
              "  </div>\n",
              "  "
            ]
          },
          "metadata": {},
          "execution_count": 29
        }
      ]
    },
    {
      "cell_type": "markdown",
      "source": [
        "# Regression"
      ],
      "metadata": {
        "id": "PQchZT2_7iFu"
      }
    },
    {
      "cell_type": "code",
      "source": [
        "from sklearn.neighbors import KNeighborsClassifier\n",
        "from sklearn.metrics import accuracy_score, classification_report, plot_confusion_matrix"
      ],
      "metadata": {
        "id": "79mm6QY07kfx"
      },
      "execution_count": 30,
      "outputs": []
    },
    {
      "cell_type": "code",
      "source": [
        "knn = KNeighborsClassifier(n_neighbors = 1)\n",
        "scaler = StandardScaler()\n",
        "knn_pipe = make_pipeline(scaler, knn)\n",
        "knn_pipe.fit(X_train_processed, y_train)"
      ],
      "metadata": {
        "colab": {
          "base_uri": "https://localhost:8080/"
        },
        "id": "SwS5monc7szS",
        "outputId": "34e72bc4-65ef-46b2-ada4-bae8a2cbc5c2"
      },
      "execution_count": 33,
      "outputs": [
        {
          "output_type": "execute_result",
          "data": {
            "text/plain": [
              "Pipeline(steps=[('standardscaler', StandardScaler()),\n",
              "                ('kneighborsclassifier', KNeighborsClassifier(n_neighbors=1))])"
            ]
          },
          "metadata": {},
          "execution_count": 33
        }
      ]
    },
    {
      "cell_type": "code",
      "source": [
        "acc_score_train = knn_pipe.score(X_train_processed, y_train)\n",
        "acc_score_test = knn_pipe.score(X_test_processed, y_test)\n",
        "print(f\"Training Accuracy: {acc_score_train:.3f}\")\n",
        "print(f\"Testing Accuracy: {acc_score_test:.3f}\")"
      ],
      "metadata": {
        "colab": {
          "base_uri": "https://localhost:8080/"
        },
        "id": "Vqbtf2QU8Rev",
        "outputId": "2e4c67e3-25de-4aea-d973-b6ab4d38f984"
      },
      "execution_count": 34,
      "outputs": [
        {
          "output_type": "stream",
          "name": "stdout",
          "text": [
            "Training Accuracy: 1.000\n",
            "Testing Accuracy: 0.028\n"
          ]
        }
      ]
    },
    {
      "cell_type": "code",
      "source": [
        "krange = (1, 1000)\n",
        "test_accuracies = []\n",
        "best_accuracy = 0\n",
        "best_k = 0\n",
        "for k in krange:\n",
        "  knn_pipe2 = make_pipeline(StandardScaler(), KNeighborsClassifier(n_neighbors = k))\n",
        "  knn_pipe2.fit(X_train_processed, y_train)\n",
        "  acc_score = accuracy_score(y_test, knn_pipe2.predict(X_test_processed))\n",
        "  if acc_score > best_accuracy:\n",
        "    best_accuracy = acc_score\n",
        "    bestk = k\n",
        "  test_accuracies.append(acc_score)\n",
        "plt.plot(krange, test_accuracies, label = \"Test K Scores\")\n",
        "plt.show()\n",
        "print(f\"Best K value is {bestk} with {acc_score} accuracy on the test set\")"
      ],
      "metadata": {
        "colab": {
          "base_uri": "https://localhost:8080/",
          "height": 282
        },
        "id": "G5YCkXEWAarT",
        "outputId": "27ee9a47-aae6-4485-b60f-89c7f7b70312"
      },
      "execution_count": 35,
      "outputs": [
        {
          "output_type": "display_data",
          "data": {
            "text/plain": [
              "<Figure size 432x288 with 1 Axes>"
            ],
            "image/png": "[encoded data removed]"
          },
          "metadata": {
            "needs_background": "light"
          }
        },
        {
          "output_type": "stream",
          "name": "stdout",
          "text": [
            "Best K value is 1000 with 0.04062616474096161 accuracy on the test set\n"
          ]
        }
      ]
    },
    {
      "cell_type": "markdown",
      "source": [
        "This model is perhaps overfit because the training accuracy is very high, but the testing accuracy is relatively low. The predictions are very poor on the testing data."
      ],
      "metadata": {
        "id": "Knp_O5g6CBbP"
      }
    },
    {
      "cell_type": "code",
      "source": [
        "from sklearn.tree import DecisionTreeRegressor"
      ],
      "metadata": {
        "id": "4MiYtYDCAcfn"
      },
      "execution_count": 36,
      "outputs": []
    },
    {
      "cell_type": "code",
      "source": [
        "dec_tree = DecisionTreeRegressor(random_state = 42)\n",
        "dec_tree.fit(X_train_processed, y_train)"
      ],
      "metadata": {
        "colab": {
          "base_uri": "https://localhost:8080/"
        },
        "id": "ciaVEaqQAj5o",
        "outputId": "008867d3-aced-4d77-9c33-6021e7a280db"
      },
      "execution_count": 38,
      "outputs": [
        {
          "output_type": "execute_result",
          "data": {
            "text/plain": [
              "DecisionTreeRegressor(random_state=42)"
            ]
          },
          "metadata": {},
          "execution_count": 38
        }
      ]
    },
    {
      "cell_type": "code",
      "source": [
        "train_preds = dec_tree.predict(X_train_processed)\n",
        "test_preds = dec_tree.predict(X_test_processed)"
      ],
      "metadata": {
        "id": "M3K3N92AAqv2"
      },
      "execution_count": 40,
      "outputs": []
    },
    {
      "cell_type": "code",
      "source": [
        "dec_tree_train_score = dec_tree.score(X_train_processed, y_train)\n",
        "dec_tree_test_score = dec_tree.score(X_test_processed, y_test)\n",
        "print(f\"Training Accuracy: {dec_tree_train_score:.3f}\")\n",
        "print(f\"Testing Accuracy: {dec_tree_test_score:.3f}\")"
      ],
      "metadata": {
        "colab": {
          "base_uri": "https://localhost:8080/"
        },
        "id": "9HGzWcXCAxuC",
        "outputId": "7e01cdf7-3e46-49c9-8ecb-0aa83ff57940"
      },
      "execution_count": 46,
      "outputs": [
        {
          "output_type": "stream",
          "name": "stdout",
          "text": [
            "Training Accuracy: 1.000\n",
            "Testing Accuracy: 0.998\n"
          ]
        }
      ]
    },
    {
      "cell_type": "code",
      "source": [
        "depths = list(range(2, 36))\n",
        "scores = pd.DataFrame(index=depths, columns=['Test Score','Train Score'])\n",
        "for depth in depths:\n",
        "    dec_tree = DecisionTreeRegressor(max_depth=depth, random_state=42)\n",
        "    dec_tree.fit(X_train_processed, y_train)\n",
        "    train_score = dec_tree.score(X_train_processed, y_train)\n",
        "    test_score = dec_tree.score(X_test_processed, y_test)\n",
        "    scores.loc[depth, 'Train Score'] = train_score\n",
        "    scores.loc[depth, 'Test Score'] = test_score"
      ],
      "metadata": {
        "id": "MOuBZ3ONBQln"
      },
      "execution_count": 49,
      "outputs": []
    },
    {
      "cell_type": "code",
      "source": [
        "plt.plot(depths, scores['Test Score'])\n",
        "plt.xlabel('max_depth')\n",
        "plt.ylabel('R2')"
      ],
      "metadata": {
        "colab": {
          "base_uri": "https://localhost:8080/",
          "height": 297
        },
        "id": "fqS94CDkB0_Y",
        "outputId": "69f404ee-79c2-416a-bf37-5537446db8b7"
      },
      "execution_count": 51,
      "outputs": [
        {
          "output_type": "execute_result",
          "data": {
            "text/plain": [
              "Text(0, 0.5, 'R2')"
            ]
          },
          "metadata": {},
          "execution_count": 51
        },
        {
          "output_type": "display_data",
          "data": {
            "text/plain": [
              "<Figure size 432x288 with 1 Axes>"
            ],
            "image/png": "[encoded data removed]"
          },
          "metadata": {
            "needs_background": "light"
          }
        }
      ]
    },
    {
      "cell_type": "markdown",
      "source": [
        "Both the testing and training accuracy are very high for this model. This is opposite to the previous model with a low test score with the model predicting very efficiently."
      ],
      "metadata": {
        "id": "mp6al_v3DGxf"
      }
    },
    {
      "cell_type": "code",
      "source": [
        "sorted_scores = scores.sort_values(by='Test Score', ascending=False)\n",
        "sorted_scores.head()"
      ],
      "metadata": {
        "colab": {
          "base_uri": "https://localhost:8080/",
          "height": 206
        },
        "id": "Cr4SE3_YB7cf",
        "outputId": "1450fd0c-80a2-4054-c267-4dd664d185b0"
      },
      "execution_count": 65,
      "outputs": [
        {
          "output_type": "execute_result",
          "data": {
            "text/plain": [
              "   Test Score Train Score\n",
              "14   0.998385    0.999999\n",
              "13   0.998053    0.999996\n",
              "19   0.998004         1.0\n",
              "20   0.998004         1.0\n",
              "22   0.998004         1.0"
            ],
            "text/html": [
              "\n",
              "  <div id=\"df-26c9adc4-544b-411b-ad36-94dee053cfd2\">\n",
              "    <div class=\"colab-df-container\">\n",
              "      <div>\n",
              "<style scoped>\n",
              "    .dataframe tbody tr th:only-of-type {\n",
              "        vertical-align: middle;\n",
              "    }\n",
              "\n",
              "    .dataframe tbody tr th {\n",
              "        vertical-align: top;\n",
              "    }\n",
              "\n",
              "    .dataframe thead th {\n",
              "        text-align: right;\n",
              "    }\n",
              "</style>\n",
              "<table border=\"1\" class=\"dataframe\">\n",
              "  <thead>\n",
              "    <tr style=\"text-align: right;\">\n",
              "      <th></th>\n",
              "      <th>Test Score</th>\n",
              "      <th>Train Score</th>\n",
              "    </tr>\n",
              "  </thead>\n",
              "  <tbody>\n",
              "    <tr>\n",
              "      <th>14</th>\n",
              "      <td>0.998385</td>\n",
              "      <td>0.999999</td>\n",
              "    </tr>\n",
              "    <tr>\n",
              "      <th>13</th>\n",
              "      <td>0.998053</td>\n",
              "      <td>0.999996</td>\n",
              "    </tr>\n",
              "    <tr>\n",
              "      <th>19</th>\n",
              "      <td>0.998004</td>\n",
              "      <td>1.0</td>\n",
              "    </tr>\n",
              "    <tr>\n",
              "      <th>20</th>\n",
              "      <td>0.998004</td>\n",
              "      <td>1.0</td>\n",
              "    </tr>\n",
              "    <tr>\n",
              "      <th>22</th>\n",
              "      <td>0.998004</td>\n",
              "      <td>1.0</td>\n",
              "    </tr>\n",
              "  </tbody>\n",
              "</table>\n",
              "</div>\n",
              "      <button class=\"colab-df-convert\" onclick=\"convertToInteractive('df-26c9adc4-544b-411b-ad36-94dee053cfd2')\"\n",
              "              title=\"Convert this dataframe to an interactive table.\"\n",
              "              style=\"display:none;\">\n",
              "        \n",
              "  <svg xmlns=\"http://www.w3.org/2000/svg\" height=\"24px\"viewBox=\"0 0 24 24\"\n",
              "       width=\"24px\">\n",
              "    <path d=\"M0 0h24v24H0V0z\" fill=\"none\"/>\n",
              "    <path d=\"M18.56 5.44l.94 2.06.94-2.06 2.06-.94-2.06-.94-.94-2.06-.94 2.06-2.06.94zm-11 1L8.5 8.5l.94-2.06 2.06-.94-2.06-.94L8.5 2.5l-.94 2.06-2.06.94zm10 10l.94 2.06.94-2.06 2.06-.94-2.06-.94-.94-2.06-.94 2.06-2.06.94z\"/><path d=\"M17.41 7.96l-1.37-1.37c-.4-.4-.92-.59-1.43-.59-.52 0-1.04.2-1.43.59L10.3 9.45l-7.72 7.72c-.78.78-.78 2.05 0 2.83L4 21.41c.39.39.9.59 1.41.59.51 0 1.02-.2 1.41-.59l7.78-7.78 2.81-2.81c.8-.78.8-2.07 0-2.86zM5.41 20L4 18.59l7.72-7.72 1.47 1.35L5.41 20z\"/>\n",
              "  </svg>\n",
              "      </button>\n",
              "      \n",
              "  <style>\n",
              "    .colab-df-container {\n",
              "      display:flex;\n",
              "      flex-wrap:wrap;\n",
              "      gap: 12px;\n",
              "    }\n",
              "\n",
              "    .colab-df-convert {\n",
              "      background-color: #E8F0FE;\n",
              "      border: none;\n",
              "      border-radius: 50%;\n",
              "      cursor: pointer;\n",
              "      display: none;\n",
              "      fill: #1967D2;\n",
              "      height: 32px;\n",
              "      padding: 0 0 0 0;\n",
              "      width: 32px;\n",
              "    }\n",
              "\n",
              "    .colab-df-convert:hover {\n",
              "      background-color: #E2EBFA;\n",
              "      box-shadow: 0px 1px 2px rgba(60, 64, 67, 0.3), 0px 1px 3px 1px rgba(60, 64, 67, 0.15);\n",
              "      fill: #174EA6;\n",
              "    }\n",
              "\n",
              "    [theme=dark] .colab-df-convert {\n",
              "      background-color: #3B4455;\n",
              "      fill: #D2E3FC;\n",
              "    }\n",
              "\n",
              "    [theme=dark] .colab-df-convert:hover {\n",
              "      background-color: #434B5C;\n",
              "      box-shadow: 0px 1px 3px 1px rgba(0, 0, 0, 0.15);\n",
              "      filter: drop-shadow(0px 1px 2px rgba(0, 0, 0, 0.3));\n",
              "      fill: #FFFFFF;\n",
              "    }\n",
              "  </style>\n",
              "\n",
              "      <script>\n",
              "        const buttonEl =\n",
              "          document.querySelector('#df-26c9adc4-544b-411b-ad36-94dee053cfd2 button.colab-df-convert');\n",
              "        buttonEl.style.display =\n",
              "          google.colab.kernel.accessAllowed ? 'block' : 'none';\n",
              "\n",
              "        async function convertToInteractive(key) {\n",
              "          const element = document.querySelector('#df-26c9adc4-544b-411b-ad36-94dee053cfd2');\n",
              "          const dataTable =\n",
              "            await google.colab.kernel.invokeFunction('convertToInteractive',\n",
              "                                                     [key], {});\n",
              "          if (!dataTable) return;\n",
              "\n",
              "          const docLinkHtml = 'Like what you see? Visit the ' +\n",
              "            '<a target=\"_blank\" href=https://colab.research.google.com/notebooks/data_table.ipynb>data table notebook</a>'\n",
              "            + ' to learn more about interactive tables.';\n",
              "          element.innerHTML = '';\n",
              "          dataTable['output_type'] = 'display_data';\n",
              "          await google.colab.output.renderOutput(dataTable, element);\n",
              "          const docLink = document.createElement('div');\n",
              "          docLink.innerHTML = docLinkHtml;\n",
              "          element.appendChild(docLink);\n",
              "        }\n",
              "      </script>\n",
              "    </div>\n",
              "  </div>\n",
              "  "
            ]
          },
          "metadata": {},
          "execution_count": 65
        }
      ]
    }
  ]
}