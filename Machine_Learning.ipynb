{
  "nbformat": 4,
  "nbformat_minor": 0,
  "metadata": {
    "colab": {
      "provenance": [],
      "mount_file_id": "1q3L4tEgusvzBTSd20_WZTLCoo6xBRNfJ",
      "authorship_tag": "ABX9TyM7rzgJqVTZy54imWYA0X5b",
      "include_colab_link": true
    },
    "kernelspec": {
      "name": "python3",
      "display_name": "Python 3"
    },
    "language_info": {
      "name": "python"
    }
  },
  "cells": [
    {
      "cell_type": "markdown",
      "metadata": {
        "id": "view-in-github",
        "colab_type": "text"
      },
      "source": [
        "<a href=\"https://colab.research.google.com/github/Agrave1/NFL_Scores/blob/main/Machine_Learning.ipynb\" target=\"_parent\"><img src=\"https://colab.research.google.com/assets/colab-badge.svg\" alt=\"Open In Colab\"/></a>"
      ]
    },
    {
      "cell_type": "code",
      "execution_count": 26,
      "metadata": {
        "id": "rvo95m_xrmnA"
      },
      "outputs": [],
      "source": [
        "import pandas as pd\n",
        "import numpy as np\n",
        "from sklearn.model_selection import train_test_split, GridSearchCV\n",
        "from sklearn.preprocessing import StandardScaler, OneHotEncoder\n",
        "from sklearn.pipeline import make_pipeline\n",
        "from sklearn.compose import make_column_selector, make_column_transformer\n",
        "from sklearn.impute import SimpleImputer\n",
        "from sklearn.metrics import mean_absolute_error, mean_squared_error, r2_score\n",
        "import matplotlib.pyplot as plt\n",
        "import seaborn as sns"
      ]
    },
    {
      "cell_type": "code",
      "source": [
        "betting_df = pd.read_csv(\"/content/drive/MyDrive/Project 2/Spread_Scores.csv\")\n",
        "betting_df.head()"
      ],
      "metadata": {
        "colab": {
          "base_uri": "https://localhost:8080/",
          "height": 357
        },
        "id": "wWmmrvZpsCN4",
        "outputId": "5711c136-4514-4752-f725-b6ffa2ab4227"
      },
      "execution_count": 27,
      "outputs": [
        {
          "output_type": "execute_result",
          "data": {
            "text/plain": [
              "  schedule_date  schedule_season schedule_week  schedule_playoff  \\\n",
              "0      9/2/1966             1966             1             False   \n",
              "1      9/3/1966             1966             1             False   \n",
              "2      9/4/1966             1966             1             False   \n",
              "3      9/9/1966             1966             2             False   \n",
              "4     9/10/1966             1966             1             False   \n",
              "\n",
              "            team_home  score_home  score_away  total_score        team_away  \\\n",
              "0      Miami Dolphins        14.0        23.0           37  Oakland Raiders   \n",
              "1      Houston Oilers        45.0         7.0           52   Denver Broncos   \n",
              "2  San Diego Chargers        27.0         7.0           34    Buffalo Bills   \n",
              "3      Miami Dolphins        14.0        19.0           33    New York Jets   \n",
              "4   Green Bay Packers        24.0         3.0           27  Baltimore Colts   \n",
              "\n",
              "  team_favorite_id  spread_favorite over_under_line         stadium  \\\n",
              "0              NaN              NaN             NaN     Orange Bowl   \n",
              "1              NaN              NaN             NaN    Rice Stadium   \n",
              "2              NaN              NaN             NaN  Balboa Stadium   \n",
              "3              NaN              NaN             NaN     Orange Bowl   \n",
              "4              NaN              NaN             NaN   Lambeau Field   \n",
              "\n",
              "   stadium_neutral  weather_temperature  weather_wind_mph  weather_humidity  \\\n",
              "0            False                 83.0               6.0              71.0   \n",
              "1            False                 81.0               7.0              70.0   \n",
              "2            False                 70.0               7.0              82.0   \n",
              "3            False                 82.0              11.0              78.0   \n",
              "4            False                 64.0               8.0              62.0   \n",
              "\n",
              "  weather_detail  \n",
              "0            NaN  \n",
              "1            NaN  \n",
              "2            NaN  \n",
              "3            NaN  \n",
              "4            NaN  "
            ],
            "text/html": [
              "\n",
              "  <div id=\"df-505d4152-a6d4-4673-acd8-175a9335e0e7\">\n",
              "    <div class=\"colab-df-container\">\n",
              "      <div>\n",
              "<style scoped>\n",
              "    .dataframe tbody tr th:only-of-type {\n",
              "        vertical-align: middle;\n",
              "    }\n",
              "\n",
              "    .dataframe tbody tr th {\n",
              "        vertical-align: top;\n",
              "    }\n",
              "\n",
              "    .dataframe thead th {\n",
              "        text-align: right;\n",
              "    }\n",
              "</style>\n",
              "<table border=\"1\" class=\"dataframe\">\n",
              "  <thead>\n",
              "    <tr style=\"text-align: right;\">\n",
              "      <th></th>\n",
              "      <th>schedule_date</th>\n",
              "      <th>schedule_season</th>\n",
              "      <th>schedule_week</th>\n",
              "      <th>schedule_playoff</th>\n",
              "      <th>team_home</th>\n",
              "      <th>score_home</th>\n",
              "      <th>score_away</th>\n",
              "      <th>total_score</th>\n",
              "      <th>team_away</th>\n",
              "      <th>team_favorite_id</th>\n",
              "      <th>spread_favorite</th>\n",
              "      <th>over_under_line</th>\n",
              "      <th>stadium</th>\n",
              "      <th>stadium_neutral</th>\n",
              "      <th>weather_temperature</th>\n",
              "      <th>weather_wind_mph</th>\n",
              "      <th>weather_humidity</th>\n",
              "      <th>weather_detail</th>\n",
              "    </tr>\n",
              "  </thead>\n",
              "  <tbody>\n",
              "    <tr>\n",
              "      <th>0</th>\n",
              "      <td>9/2/1966</td>\n",
              "      <td>1966</td>\n",
              "      <td>1</td>\n",
              "      <td>False</td>\n",
              "      <td>Miami Dolphins</td>\n",
              "      <td>14.0</td>\n",
              "      <td>23.0</td>\n",
              "      <td>37</td>\n",
              "      <td>Oakland Raiders</td>\n",
              "      <td>NaN</td>\n",
              "      <td>NaN</td>\n",
              "      <td>NaN</td>\n",
              "      <td>Orange Bowl</td>\n",
              "      <td>False</td>\n",
              "      <td>83.0</td>\n",
              "      <td>6.0</td>\n",
              "      <td>71.0</td>\n",
              "      <td>NaN</td>\n",
              "    </tr>\n",
              "    <tr>\n",
              "      <th>1</th>\n",
              "      <td>9/3/1966</td>\n",
              "      <td>1966</td>\n",
              "      <td>1</td>\n",
              "      <td>False</td>\n",
              "      <td>Houston Oilers</td>\n",
              "      <td>45.0</td>\n",
              "      <td>7.0</td>\n",
              "      <td>52</td>\n",
              "      <td>Denver Broncos</td>\n",
              "      <td>NaN</td>\n",
              "      <td>NaN</td>\n",
              "      <td>NaN</td>\n",
              "      <td>Rice Stadium</td>\n",
              "      <td>False</td>\n",
              "      <td>81.0</td>\n",
              "      <td>7.0</td>\n",
              "      <td>70.0</td>\n",
              "      <td>NaN</td>\n",
              "    </tr>\n",
              "    <tr>\n",
              "      <th>2</th>\n",
              "      <td>9/4/1966</td>\n",
              "      <td>1966</td>\n",
              "      <td>1</td>\n",
              "      <td>False</td>\n",
              "      <td>San Diego Chargers</td>\n",
              "      <td>27.0</td>\n",
              "      <td>7.0</td>\n",
              "      <td>34</td>\n",
              "      <td>Buffalo Bills</td>\n",
              "      <td>NaN</td>\n",
              "      <td>NaN</td>\n",
              "      <td>NaN</td>\n",
              "      <td>Balboa Stadium</td>\n",
              "      <td>False</td>\n",
              "      <td>70.0</td>\n",
              "      <td>7.0</td>\n",
              "      <td>82.0</td>\n",
              "      <td>NaN</td>\n",
              "    </tr>\n",
              "    <tr>\n",
              "      <th>3</th>\n",
              "      <td>9/9/1966</td>\n",
              "      <td>1966</td>\n",
              "      <td>2</td>\n",
              "      <td>False</td>\n",
              "      <td>Miami Dolphins</td>\n",
              "      <td>14.0</td>\n",
              "      <td>19.0</td>\n",
              "      <td>33</td>\n",
              "      <td>New York Jets</td>\n",
              "      <td>NaN</td>\n",
              "      <td>NaN</td>\n",
              "      <td>NaN</td>\n",
              "      <td>Orange Bowl</td>\n",
              "      <td>False</td>\n",
              "      <td>82.0</td>\n",
              "      <td>11.0</td>\n",
              "      <td>78.0</td>\n",
              "      <td>NaN</td>\n",
              "    </tr>\n",
              "    <tr>\n",
              "      <th>4</th>\n",
              "      <td>9/10/1966</td>\n",
              "      <td>1966</td>\n",
              "      <td>1</td>\n",
              "      <td>False</td>\n",
              "      <td>Green Bay Packers</td>\n",
              "      <td>24.0</td>\n",
              "      <td>3.0</td>\n",
              "      <td>27</td>\n",
              "      <td>Baltimore Colts</td>\n",
              "      <td>NaN</td>\n",
              "      <td>NaN</td>\n",
              "      <td>NaN</td>\n",
              "      <td>Lambeau Field</td>\n",
              "      <td>False</td>\n",
              "      <td>64.0</td>\n",
              "      <td>8.0</td>\n",
              "      <td>62.0</td>\n",
              "      <td>NaN</td>\n",
              "    </tr>\n",
              "  </tbody>\n",
              "</table>\n",
              "</div>\n",
              "      <button class=\"colab-df-convert\" onclick=\"convertToInteractive('df-505d4152-a6d4-4673-acd8-175a9335e0e7')\"\n",
              "              title=\"Convert this dataframe to an interactive table.\"\n",
              "              style=\"display:none;\">\n",
              "        \n",
              "  <svg xmlns=\"http://www.w3.org/2000/svg\" height=\"24px\"viewBox=\"0 0 24 24\"\n",
              "       width=\"24px\">\n",
              "    <path d=\"M0 0h24v24H0V0z\" fill=\"none\"/>\n",
              "    <path d=\"M18.56 5.44l.94 2.06.94-2.06 2.06-.94-2.06-.94-.94-2.06-.94 2.06-2.06.94zm-11 1L8.5 8.5l.94-2.06 2.06-.94-2.06-.94L8.5 2.5l-.94 2.06-2.06.94zm10 10l.94 2.06.94-2.06 2.06-.94-2.06-.94-.94-2.06-.94 2.06-2.06.94z\"/><path d=\"M17.41 7.96l-1.37-1.37c-.4-.4-.92-.59-1.43-.59-.52 0-1.04.2-1.43.59L10.3 9.45l-7.72 7.72c-.78.78-.78 2.05 0 2.83L4 21.41c.39.39.9.59 1.41.59.51 0 1.02-.2 1.41-.59l7.78-7.78 2.81-2.81c.8-.78.8-2.07 0-2.86zM5.41 20L4 18.59l7.72-7.72 1.47 1.35L5.41 20z\"/>\n",
              "  </svg>\n",
              "      </button>\n",
              "      \n",
              "  <style>\n",
              "    .colab-df-container {\n",
              "      display:flex;\n",
              "      flex-wrap:wrap;\n",
              "      gap: 12px;\n",
              "    }\n",
              "\n",
              "    .colab-df-convert {\n",
              "      background-color: #E8F0FE;\n",
              "      border: none;\n",
              "      border-radius: 50%;\n",
              "      cursor: pointer;\n",
              "      display: none;\n",
              "      fill: #1967D2;\n",
              "      height: 32px;\n",
              "      padding: 0 0 0 0;\n",
              "      width: 32px;\n",
              "    }\n",
              "\n",
              "    .colab-df-convert:hover {\n",
              "      background-color: #E2EBFA;\n",
              "      box-shadow: 0px 1px 2px rgba(60, 64, 67, 0.3), 0px 1px 3px 1px rgba(60, 64, 67, 0.15);\n",
              "      fill: #174EA6;\n",
              "    }\n",
              "\n",
              "    [theme=dark] .colab-df-convert {\n",
              "      background-color: #3B4455;\n",
              "      fill: #D2E3FC;\n",
              "    }\n",
              "\n",
              "    [theme=dark] .colab-df-convert:hover {\n",
              "      background-color: #434B5C;\n",
              "      box-shadow: 0px 1px 3px 1px rgba(0, 0, 0, 0.15);\n",
              "      filter: drop-shadow(0px 1px 2px rgba(0, 0, 0, 0.3));\n",
              "      fill: #FFFFFF;\n",
              "    }\n",
              "  </style>\n",
              "\n",
              "      <script>\n",
              "        const buttonEl =\n",
              "          document.querySelector('#df-505d4152-a6d4-4673-acd8-175a9335e0e7 button.colab-df-convert');\n",
              "        buttonEl.style.display =\n",
              "          google.colab.kernel.accessAllowed ? 'block' : 'none';\n",
              "\n",
              "        async function convertToInteractive(key) {\n",
              "          const element = document.querySelector('#df-505d4152-a6d4-4673-acd8-175a9335e0e7');\n",
              "          const dataTable =\n",
              "            await google.colab.kernel.invokeFunction('convertToInteractive',\n",
              "                                                     [key], {});\n",
              "          if (!dataTable) return;\n",
              "\n",
              "          const docLinkHtml = 'Like what you see? Visit the ' +\n",
              "            '<a target=\"_blank\" href=https://colab.research.google.com/notebooks/data_table.ipynb>data table notebook</a>'\n",
              "            + ' to learn more about interactive tables.';\n",
              "          element.innerHTML = '';\n",
              "          dataTable['output_type'] = 'display_data';\n",
              "          await google.colab.output.renderOutput(dataTable, element);\n",
              "          const docLink = document.createElement('div');\n",
              "          docLink.innerHTML = docLinkHtml;\n",
              "          element.appendChild(docLink);\n",
              "        }\n",
              "      </script>\n",
              "    </div>\n",
              "  </div>\n",
              "  "
            ]
          },
          "metadata": {},
          "execution_count": 27
        }
      ]
    },
    {
      "cell_type": "markdown",
      "source": [
        "## Data Cleaning"
      ],
      "metadata": {
        "id": "1-vRdlWjsQC9"
      }
    },
    {
      "cell_type": "code",
      "source": [
        "betting_df.duplicated().sum()"
      ],
      "metadata": {
        "colab": {
          "base_uri": "https://localhost:8080/"
        },
        "id": "aIVPWWpCsMA-",
        "outputId": "37be5b9c-0877-4ea1-eab5-5c1c75021c00"
      },
      "execution_count": 28,
      "outputs": [
        {
          "output_type": "execute_result",
          "data": {
            "text/plain": [
              "0"
            ]
          },
          "metadata": {},
          "execution_count": 28
        }
      ]
    },
    {
      "cell_type": "code",
      "source": [
        "betting_df.info()"
      ],
      "metadata": {
        "colab": {
          "base_uri": "https://localhost:8080/"
        },
        "id": "OmRnsPxNsWNu",
        "outputId": "3d4d76e8-8359-46c9-a22b-3101ccb0b81f"
      },
      "execution_count": 29,
      "outputs": [
        {
          "output_type": "stream",
          "name": "stdout",
          "text": [
            "<class 'pandas.core.frame.DataFrame'>\n",
            "RangeIndex: 13232 entries, 0 to 13231\n",
            "Data columns (total 18 columns):\n",
            " #   Column               Non-Null Count  Dtype  \n",
            "---  ------               --------------  -----  \n",
            " 0   schedule_date        13232 non-null  object \n",
            " 1   schedule_season      13232 non-null  int64  \n",
            " 2   schedule_week        13232 non-null  object \n",
            " 3   schedule_playoff     13232 non-null  bool   \n",
            " 4   team_home            13232 non-null  object \n",
            " 5   score_home           13231 non-null  float64\n",
            " 6   score_away           13231 non-null  float64\n",
            " 7   total_score          13232 non-null  int64  \n",
            " 8   team_away            13232 non-null  object \n",
            " 9   team_favorite_id     10753 non-null  object \n",
            " 10  spread_favorite      10753 non-null  float64\n",
            " 11  over_under_line      10743 non-null  object \n",
            " 12  stadium              13232 non-null  object \n",
            " 13  stadium_neutral      13232 non-null  bool   \n",
            " 14  weather_temperature  12189 non-null  float64\n",
            " 15  weather_wind_mph     12172 non-null  float64\n",
            " 16  weather_humidity     8441 non-null   float64\n",
            " 17  weather_detail       2822 non-null   object \n",
            "dtypes: bool(2), float64(6), int64(2), object(8)\n",
            "memory usage: 1.6+ MB\n"
          ]
        }
      ]
    },
    {
      "cell_type": "code",
      "source": [
        "betting_df = betting_df.drop(labels = range(0, 2500), axis = 0)\n",
        "#Dropped those rows because all the missing values were at the start of the dataset\n",
        "#Didn't impute because these betting statistics can't be imputed or they would skew the results for the games with accurate betting data"
      ],
      "metadata": {
        "id": "xUkrT7ewsYvP"
      },
      "execution_count": 30,
      "outputs": []
    },
    {
      "cell_type": "code",
      "source": [
        "betting_df[\"schedule_week\"].replace({\"SuperBowl\" : \"Superbowl\", \"WildCard\" : \"Wildcard\"}, inplace = True)\n",
        "betting_df[\"schedule_week\"].value_counts()\n",
        "#Fixed inconsistencies in the naming of object data"
      ],
      "metadata": {
        "colab": {
          "base_uri": "https://localhost:8080/"
        },
        "id": "lV4QtGC_slHy",
        "outputId": "c553f500-e65c-4532-f309-cfe5669307a1"
      },
      "execution_count": 31,
      "outputs": [
        {
          "output_type": "execute_result",
          "data": {
            "text/plain": [
              "16            649\n",
              "15            649\n",
              "1             647\n",
              "2             647\n",
              "13            645\n",
              "14            644\n",
              "12            641\n",
              "11            625\n",
              "3             598\n",
              "10            589\n",
              "9             572\n",
              "4             572\n",
              "7             569\n",
              "8             567\n",
              "5             560\n",
              "6             557\n",
              "17            509\n",
              "Division      172\n",
              "Wildcard      160\n",
              "Conference     86\n",
              "Superbowl      44\n",
              "18             30\n",
              "Name: schedule_week, dtype: int64"
            ]
          },
          "metadata": {},
          "execution_count": 31
        }
      ]
    },
    {
      "cell_type": "code",
      "source": [
        "betting_df[\"score_home\"].fillna(23, inplace = True)\n",
        "betting_df[\"score_away\"].fillna(20, inplace = True)\n",
        "#Filled in missing values for Superbowl 2021 season with correct score after google searching"
      ],
      "metadata": {
        "id": "dr8jXlDns9yx"
      },
      "execution_count": 32,
      "outputs": []
    },
    {
      "cell_type": "code",
      "source": [
        "betting_df = betting_df.drop(columns = [\"weather_detail\"])\n",
        "#Too many categorical values and too many missing values to input based on most frequent\n",
        "#Most frequent was dome and many stadiums and games would be incorrectly classified as dome if imputed"
      ],
      "metadata": {
        "id": "3HtK00xXtyyb"
      },
      "execution_count": 33,
      "outputs": []
    },
    {
      "cell_type": "code",
      "source": [
        "betting_df.isna().sum()"
      ],
      "metadata": {
        "colab": {
          "base_uri": "https://localhost:8080/"
        },
        "id": "PzIr1cugt1Eo",
        "outputId": "c4aed8a3-dead-4388-e586-e4ee46e2c974"
      },
      "execution_count": 34,
      "outputs": [
        {
          "output_type": "execute_result",
          "data": {
            "text/plain": [
              "schedule_date             0\n",
              "schedule_season           0\n",
              "schedule_week             0\n",
              "schedule_playoff          0\n",
              "team_home                 0\n",
              "score_home                0\n",
              "score_away                0\n",
              "total_score               0\n",
              "team_away                 0\n",
              "team_favorite_id          0\n",
              "spread_favorite           0\n",
              "over_under_line           0\n",
              "stadium                   0\n",
              "stadium_neutral           0\n",
              "weather_temperature     813\n",
              "weather_wind_mph        830\n",
              "weather_humidity       4400\n",
              "dtype: int64"
            ]
          },
          "metadata": {},
          "execution_count": 34
        }
      ]
    },
    {
      "cell_type": "markdown",
      "source": [
        "# Preprocessing"
      ],
      "metadata": {
        "id": "QGLzyDPZt4X_"
      }
    },
    {
      "cell_type": "code",
      "source": [
        "betting_df[\"schedule_week\"].value_counts()\n",
        "betting_df.replace({\"Wildcard\" : 19, \"Division\" : 20, \"Conference\" : 21, \"Superbowl\" : 22}, inplace = True)\n",
        "betting_df[\"schedule_week\"] = betting_df[\"schedule_week\"].astype(int)\n",
        "betting_df[\"schedule_week\"].value_counts()"
      ],
      "metadata": {
        "colab": {
          "base_uri": "https://localhost:8080/"
        },
        "id": "okbzRtGst33R",
        "outputId": "bf66f693-81ae-473b-9725-10fdbaf182d0"
      },
      "execution_count": 35,
      "outputs": [
        {
          "output_type": "execute_result",
          "data": {
            "text/plain": [
              "16    649\n",
              "15    649\n",
              "1     647\n",
              "2     647\n",
              "13    645\n",
              "14    644\n",
              "12    641\n",
              "11    625\n",
              "3     598\n",
              "10    589\n",
              "9     572\n",
              "4     572\n",
              "7     569\n",
              "8     567\n",
              "5     560\n",
              "6     557\n",
              "17    509\n",
              "20    172\n",
              "19    160\n",
              "21     86\n",
              "22     44\n",
              "18     30\n",
              "Name: schedule_week, dtype: int64"
            ]
          },
          "metadata": {},
          "execution_count": 35
        }
      ]
    },
    {
      "cell_type": "code",
      "source": [
        "betting_df[\"schedule_playoff\"].value_counts()\n",
        "betting_df[\"schedule_playoff\"].replace({False : 0, True : 1}, inplace = True)\n",
        "betting_df[\"schedule_playoff\"].value_counts()"
      ],
      "metadata": {
        "colab": {
          "base_uri": "https://localhost:8080/"
        },
        "id": "bmvm1KLxt-4s",
        "outputId": "c4986da7-e7fa-426b-ef48-6943a4306fc3"
      },
      "execution_count": 36,
      "outputs": [
        {
          "output_type": "execute_result",
          "data": {
            "text/plain": [
              "0    10270\n",
              "1      462\n",
              "Name: schedule_playoff, dtype: int64"
            ]
          },
          "metadata": {},
          "execution_count": 36
        }
      ]
    },
    {
      "cell_type": "code",
      "source": [
        "betting_df[\"stadium_neutral\"].value_counts()\n",
        "betting_df[\"stadium_neutral\"].replace({False : 0, True : 1}, inplace = True)\n",
        "betting_df[\"stadium_neutral\"].value_counts()"
      ],
      "metadata": {
        "colab": {
          "base_uri": "https://localhost:8080/"
        },
        "id": "Zydwu4EDuAmp",
        "outputId": "8648c72c-e21d-4358-ab61-dc46a28a5c6c"
      },
      "execution_count": 37,
      "outputs": [
        {
          "output_type": "execute_result",
          "data": {
            "text/plain": [
              "0    10642\n",
              "1       90\n",
              "Name: stadium_neutral, dtype: int64"
            ]
          },
          "metadata": {},
          "execution_count": 37
        }
      ]
    },
    {
      "cell_type": "code",
      "source": [
        "betting_df2 = betting_df.copy()"
      ],
      "metadata": {
        "id": "hSInOQAHuCBi"
      },
      "execution_count": 38,
      "outputs": []
    },
    {
      "cell_type": "code",
      "source": [
        "X = betting_df2.drop(columns = [\"total_score\", \"schedule_date\", \"score_home\", \"score_away\"])\n",
        "y = betting_df2[\"total_score\"]\n",
        "X_train, X_test, y_train, y_test = train_test_split(X, y, random_state = 42)"
      ],
      "metadata": {
        "id": "5NyEFFZauDxs"
      },
      "execution_count": 39,
      "outputs": []
    },
    {
      "cell_type": "code",
      "source": [
        "num_selector = make_column_selector(dtype_include = \"number\")\n",
        "cat_selector = make_column_selector(dtype_include = \"object\")"
      ],
      "metadata": {
        "id": "oSnlziiyuFJJ"
      },
      "execution_count": 40,
      "outputs": []
    },
    {
      "cell_type": "code",
      "source": [
        "median_imputer = SimpleImputer(strategy = \"median\")\n",
        "freq_imputer = SimpleImputer(strategy = \"most_frequent\")\n",
        "scaler = StandardScaler()\n",
        "ohe = OneHotEncoder(handle_unknown = \"ignore\", sparse = False)"
      ],
      "metadata": {
        "id": "do6H3wn1BGTc"
      },
      "execution_count": 41,
      "outputs": []
    },
    {
      "cell_type": "code",
      "source": [
        "num_pipe = make_pipeline(median_imputer, scaler)\n",
        "cat_pipe = make_pipeline(freq_imputer, ohe)"
      ],
      "metadata": {
        "id": "wXigoby3BKH5"
      },
      "execution_count": 42,
      "outputs": []
    },
    {
      "cell_type": "code",
      "source": [
        "num_tuple = (num_pipe, num_selector)\n",
        "cat_tuple = (cat_pipe, cat_selector)\n",
        "preprocessor = make_column_transformer(num_tuple, cat_tuple)\n",
        "preprocessor"
      ],
      "metadata": {
        "colab": {
          "base_uri": "https://localhost:8080/"
        },
        "id": "eXNVboAXBNiu",
        "outputId": "e3f31317-7afb-463b-8605-ff0969c4253c"
      },
      "execution_count": 43,
      "outputs": [
        {
          "output_type": "execute_result",
          "data": {
            "text/plain": [
              "ColumnTransformer(transformers=[('pipeline-1',\n",
              "                                 Pipeline(steps=[('simpleimputer',\n",
              "                                                  SimpleImputer(strategy='median')),\n",
              "                                                 ('standardscaler',\n",
              "                                                  StandardScaler())]),\n",
              "                                 <sklearn.compose._column_transformer.make_column_selector object at 0x7f838d202f90>),\n",
              "                                ('pipeline-2',\n",
              "                                 Pipeline(steps=[('simpleimputer',\n",
              "                                                  SimpleImputer(strategy='most_frequent')),\n",
              "                                                 ('onehotencoder',\n",
              "                                                  OneHotEncoder(handle_unknown='ignore',\n",
              "                                                                sparse=False))]),\n",
              "                                 <sklearn.compose._column_transformer.make_column_selector object at 0x7f838d202f50>)])"
            ]
          },
          "metadata": {},
          "execution_count": 43
        }
      ]
    },
    {
      "cell_type": "code",
      "source": [
        "preprocessor.fit(X_train)"
      ],
      "metadata": {
        "colab": {
          "base_uri": "https://localhost:8080/"
        },
        "id": "QzKU80WBBih4",
        "outputId": "0eaff301-f17d-497f-b079-d5ae98a5b0a5"
      },
      "execution_count": 44,
      "outputs": [
        {
          "output_type": "execute_result",
          "data": {
            "text/plain": [
              "ColumnTransformer(transformers=[('pipeline-1',\n",
              "                                 Pipeline(steps=[('simpleimputer',\n",
              "                                                  SimpleImputer(strategy='median')),\n",
              "                                                 ('standardscaler',\n",
              "                                                  StandardScaler())]),\n",
              "                                 <sklearn.compose._column_transformer.make_column_selector object at 0x7f838d202f90>),\n",
              "                                ('pipeline-2',\n",
              "                                 Pipeline(steps=[('simpleimputer',\n",
              "                                                  SimpleImputer(strategy='most_frequent')),\n",
              "                                                 ('onehotencoder',\n",
              "                                                  OneHotEncoder(handle_unknown='ignore',\n",
              "                                                                sparse=False))]),\n",
              "                                 <sklearn.compose._column_transformer.make_column_selector object at 0x7f838d202f50>)])"
            ]
          },
          "metadata": {},
          "execution_count": 44
        }
      ]
    },
    {
      "cell_type": "code",
      "source": [
        "X_train_processed = preprocessor.transform(X_train)\n",
        "X_test_processed = preprocessor.transform(X_test)\n",
        "X_train_processed"
      ],
      "metadata": {
        "colab": {
          "base_uri": "https://localhost:8080/"
        },
        "id": "HFwsQUM0Bk9u",
        "outputId": "ec31a577-e71d-450d-ee73-9805925d0a1f"
      },
      "execution_count": 45,
      "outputs": [
        {
          "output_type": "execute_result",
          "data": {
            "text/plain": [
              "array([[ 0.16479826, -0.66724938, -0.21225747, ...,  0.        ,\n",
              "         0.        ,  0.        ],\n",
              "       [ 0.24626621, -0.66724938, -0.21225747, ...,  0.        ,\n",
              "         0.        ,  0.        ],\n",
              "       [ 1.63122137, -1.04284839, -0.21225747, ...,  0.        ,\n",
              "         0.        ,  0.        ],\n",
              "       ...,\n",
              "       [ 0.08333031, -1.41844741, -0.21225747, ...,  0.        ,\n",
              "         0.        ,  0.        ],\n",
              "       [-1.46456075, -1.41844741, -0.21225747, ...,  0.        ,\n",
              "         0.        ,  0.        ],\n",
              "       [ 0.65360596, -1.41844741, -0.21225747, ...,  0.        ,\n",
              "         0.        ,  0.        ]])"
            ]
          },
          "metadata": {},
          "execution_count": 45
        }
      ]
    },
    {
      "cell_type": "markdown",
      "source": [
        "# Machine Learning Models"
      ],
      "metadata": {
        "id": "S1SqqkfqDDrr"
      }
    },
    {
      "cell_type": "code",
      "source": [
        "from sklearn.tree import DecisionTreeRegressor\n",
        "import matplotlib.pyplot as plt\n",
        "from sklearn.ensemble import BaggingRegressor"
      ],
      "metadata": {
        "id": "qnBTmtx2Bm-B"
      },
      "execution_count": 104,
      "outputs": []
    },
    {
      "cell_type": "code",
      "source": [
        "def model_pipeline(model, X_train, X_test, y_train, y_test):\n",
        "  model_pipe = make_pipeline(preprocessor, model)\n",
        "  model_pipe.fit(X_train, y_train)\n",
        "  train_preds = model_pipe.predict(X_train)\n",
        "  test_preds = model_pipe.predict(X_test)\n",
        "  print(f\"Model Training MAE: {mean_absolute_error(y_train, train_preds):.3f}\")\n",
        "  print(f\"Model Testing MAE: {mean_absolute_error(y_test, test_preds):.3f}\")\n",
        "  print(f\"Model Training RMSE: {np.sqrt(mean_squared_error(y_train, train_preds)):.3f}\")\n",
        "  print(f\"Model Testing RMSE: {np.sqrt(mean_squared_error(y_test, test_preds)):.3f}\")\n",
        "  print(f\"Training R2 Score: {model_pipe.score(X_train,y_train):.3f}\")\n",
        "  print(f\"Test R2 Score: {model_pipe.score(X_test,y_test):.3f}\")"
      ],
      "metadata": {
        "id": "fJuWHMXE1fwV"
      },
      "execution_count": 112,
      "outputs": []
    },
    {
      "cell_type": "code",
      "source": [
        "dec_tree = DecisionTreeRegressor(random_state = 42)\n",
        "model_pipeline(dec_tree, X_train, X_test, y_train, y_test)"
      ],
      "metadata": {
        "colab": {
          "base_uri": "https://localhost:8080/"
        },
        "id": "xp8cA5wzdh19",
        "outputId": "92de2e71-6dca-475c-a8c5-786a57747ba3"
      },
      "execution_count": 113,
      "outputs": [
        {
          "output_type": "stream",
          "name": "stdout",
          "text": [
            "Model Training MAE: 0.000\n",
            "Model Testing MAE: 15.305\n",
            "Model Training RMSE: 0.000\n",
            "Model Testing RMSE: 19.461\n",
            "Training R2 Score: 1.000\n",
            "Test R2 Score: -0.895\n"
          ]
        }
      ]
    },
    {
      "cell_type": "code",
      "source": [
        "dec_tree.get_params()"
      ],
      "metadata": {
        "colab": {
          "base_uri": "https://localhost:8080/"
        },
        "id": "osvPCQLAsMjQ",
        "outputId": "84da2eae-19cd-4748-a510-6c35331a346a"
      },
      "execution_count": 114,
      "outputs": [
        {
          "output_type": "execute_result",
          "data": {
            "text/plain": [
              "{'ccp_alpha': 0.0,\n",
              " 'criterion': 'squared_error',\n",
              " 'max_depth': None,\n",
              " 'max_features': None,\n",
              " 'max_leaf_nodes': None,\n",
              " 'min_impurity_decrease': 0.0,\n",
              " 'min_samples_leaf': 1,\n",
              " 'min_samples_split': 2,\n",
              " 'min_weight_fraction_leaf': 0.0,\n",
              " 'random_state': 42,\n",
              " 'splitter': 'best'}"
            ]
          },
          "metadata": {},
          "execution_count": 114
        }
      ]
    },
    {
      "cell_type": "code",
      "source": [
        "param_grid_tree = {\"max_depth\" : [1, 2, 3], \"min_samples_leaf\" : [3, 15, 20], \"min_samples_split\" : [2, 20, 200]}"
      ],
      "metadata": {
        "id": "lxUrqYc9ESjn"
      },
      "execution_count": 132,
      "outputs": []
    },
    {
      "cell_type": "code",
      "source": [
        "dt_grid_search = GridSearchCV(dec_tree, param_grid_tree)\n",
        "dt_grid_search.fit(X_train_processed, y_train)"
      ],
      "metadata": {
        "colab": {
          "base_uri": "https://localhost:8080/"
        },
        "id": "Q02zP__csYQs",
        "outputId": "db88a61a-0bcf-40ac-e870-c1338977585f"
      },
      "execution_count": 133,
      "outputs": [
        {
          "output_type": "execute_result",
          "data": {
            "text/plain": [
              "GridSearchCV(estimator=DecisionTreeRegressor(max_depth=14, random_state=42),\n",
              "             param_grid={'max_depth': [1, 2, 3],\n",
              "                         'min_samples_leaf': [3, 15, 20],\n",
              "                         'min_samples_split': [2, 20, 200]})"
            ]
          },
          "metadata": {},
          "execution_count": 133
        }
      ]
    },
    {
      "cell_type": "code",
      "source": [
        "dt_grid_search.best_params_"
      ],
      "metadata": {
        "colab": {
          "base_uri": "https://localhost:8080/"
        },
        "id": "XP-HEHIZsYMD",
        "outputId": "26a49cc0-14b2-4179-c2a0-1f3da916dde1"
      },
      "execution_count": 134,
      "outputs": [
        {
          "output_type": "execute_result",
          "data": {
            "text/plain": [
              "{'max_depth': 3, 'min_samples_leaf': 3, 'min_samples_split': 200}"
            ]
          },
          "metadata": {},
          "execution_count": 134
        }
      ]
    },
    {
      "cell_type": "code",
      "source": [
        "param_grid_tree2 = {\"max_depth\" : [3, 5, 7], \"min_samples_leaf\" : [1, 2, 3], \"min_samples_split\" : [400, 500, 600]}"
      ],
      "metadata": {
        "id": "IDKZw8JhsYHC"
      },
      "execution_count": 135,
      "outputs": []
    },
    {
      "cell_type": "code",
      "source": [
        "dt_grid_search2 = GridSearchCV(dec_tree, param_grid_tree2)\n",
        "dt_grid_search2.fit(X_train_processed, y_train)"
      ],
      "metadata": {
        "colab": {
          "base_uri": "https://localhost:8080/"
        },
        "id": "sYm1oIBztf71",
        "outputId": "30f8768d-894d-4156-aa2f-92acee115d13"
      },
      "execution_count": 136,
      "outputs": [
        {
          "output_type": "execute_result",
          "data": {
            "text/plain": [
              "GridSearchCV(estimator=DecisionTreeRegressor(max_depth=14, random_state=42),\n",
              "             param_grid={'max_depth': [3, 5, 7], 'min_samples_leaf': [1, 2, 3],\n",
              "                         'min_samples_split': [400, 500, 600]})"
            ]
          },
          "metadata": {},
          "execution_count": 136
        }
      ]
    },
    {
      "cell_type": "code",
      "source": [
        "dt_grid_search2.best_params_"
      ],
      "metadata": {
        "colab": {
          "base_uri": "https://localhost:8080/"
        },
        "id": "v98jjBgKtf5e",
        "outputId": "af4e1cfb-9bf7-40d8-d846-b4c95ab08dd8"
      },
      "execution_count": 137,
      "outputs": [
        {
          "output_type": "execute_result",
          "data": {
            "text/plain": [
              "{'max_depth': 5, 'min_samples_leaf': 2, 'min_samples_split': 500}"
            ]
          },
          "metadata": {},
          "execution_count": 137
        }
      ]
    },
    {
      "cell_type": "code",
      "source": [
        "best_model_tree = dt_grid_search2.best_estimator_\n",
        "model_pipeline(best_model_tree, X_train, X_test, y_train, y_test)"
      ],
      "metadata": {
        "colab": {
          "base_uri": "https://localhost:8080/"
        },
        "id": "tSKxuOtmtvDG",
        "outputId": "5d5de8c4-dec8-47b6-ed48-76924bce3981"
      },
      "execution_count": 170,
      "outputs": [
        {
          "output_type": "stream",
          "name": "stdout",
          "text": [
            "Model Training MAE: 11.239\n",
            "Model Testing MAE: 11.101\n",
            "Model Training RMSE: 14.072\n",
            "Model Testing RMSE: 13.878\n",
            "Training R2 Score: 0.041\n",
            "Test R2 Score: 0.036\n"
          ]
        }
      ]
    },
    {
      "cell_type": "code",
      "source": [
        "from sklearn.ensemble import BaggingRegressor"
      ],
      "metadata": {
        "id": "pnFxFsJ6FwOY"
      },
      "execution_count": 139,
      "outputs": []
    },
    {
      "cell_type": "code",
      "source": [
        "bagreg = BaggingRegressor(random_state = 42)\n",
        "model_pipeline(bagreg, X_train, X_test, y_train, y_test)"
      ],
      "metadata": {
        "colab": {
          "base_uri": "https://localhost:8080/"
        },
        "id": "rMLFkYu-F_7b",
        "outputId": "3133818e-0de6-4b3e-8aa0-00400ba5bc67"
      },
      "execution_count": 144,
      "outputs": [
        {
          "output_type": "stream",
          "name": "stdout",
          "text": [
            "Model Training MAE: 4.576\n",
            "Model Testing MAE: 11.645\n",
            "Model Training RMSE: 6.143\n",
            "Model Testing RMSE: 14.583\n",
            "Training R2 Score: 0.817\n",
            "Test R2 Score: -0.064\n"
          ]
        }
      ]
    },
    {
      "cell_type": "code",
      "source": [
        "bagreg.get_params()"
      ],
      "metadata": {
        "colab": {
          "base_uri": "https://localhost:8080/"
        },
        "id": "hYo26UkY8pXx",
        "outputId": "66b252d6-3966-4480-b7a7-10db84b4d555"
      },
      "execution_count": 146,
      "outputs": [
        {
          "output_type": "execute_result",
          "data": {
            "text/plain": [
              "{'base_estimator': None,\n",
              " 'bootstrap': True,\n",
              " 'bootstrap_features': False,\n",
              " 'max_features': 1.0,\n",
              " 'max_samples': 1.0,\n",
              " 'n_estimators': 10,\n",
              " 'n_jobs': None,\n",
              " 'oob_score': False,\n",
              " 'random_state': 42,\n",
              " 'verbose': 0,\n",
              " 'warm_start': False}"
            ]
          },
          "metadata": {},
          "execution_count": 146
        }
      ]
    },
    {
      "cell_type": "code",
      "source": [
        "param_grid_bag = {\"n_estimators\" : [10, 20, 30]}"
      ],
      "metadata": {
        "id": "t6NjWyur8yZ7"
      },
      "execution_count": 152,
      "outputs": []
    },
    {
      "cell_type": "code",
      "source": [
        "br_grid_search = GridSearchCV(bagreg, param_grid_bag)\n",
        "br_grid_search.fit(X_train_processed, y_train)"
      ],
      "metadata": {
        "colab": {
          "base_uri": "https://localhost:8080/"
        },
        "id": "XFgO2lS68yVV",
        "outputId": "80fe4fc4-6eee-4587-ff4b-fad5bd539c2d"
      },
      "execution_count": 155,
      "outputs": [
        {
          "output_type": "execute_result",
          "data": {
            "text/plain": [
              "GridSearchCV(estimator=BaggingRegressor(random_state=42),\n",
              "             param_grid={'n_estimators': [10, 20, 30]})"
            ]
          },
          "metadata": {},
          "execution_count": 155
        }
      ]
    },
    {
      "cell_type": "code",
      "source": [
        "br_grid_search.best_params_"
      ],
      "metadata": {
        "colab": {
          "base_uri": "https://localhost:8080/"
        },
        "id": "3g4PT1p28yRB",
        "outputId": "754e0f71-a94c-4ee2-d169-d9aa1a6f1bee"
      },
      "execution_count": 156,
      "outputs": [
        {
          "output_type": "execute_result",
          "data": {
            "text/plain": [
              "{'n_estimators': 30}"
            ]
          },
          "metadata": {},
          "execution_count": 156
        }
      ]
    },
    {
      "cell_type": "code",
      "source": [
        "param_grid_bag2 = {\"n_estimators\" : [50, 75, 100]}"
      ],
      "metadata": {
        "id": "UgNivxkv8yKv"
      },
      "execution_count": 167,
      "outputs": []
    },
    {
      "cell_type": "code",
      "source": [
        "br_grid_search2 = GridSearchCV(bagreg, param_grid_bag2)\n",
        "br_grid_search2.fit(X_train_processed, y_train)"
      ],
      "metadata": {
        "colab": {
          "base_uri": "https://localhost:8080/"
        },
        "id": "k3brXQfGAvgp",
        "outputId": "ce26ea30-8944-4507-d9f1-226b8d298c59"
      },
      "execution_count": 168,
      "outputs": [
        {
          "output_type": "execute_result",
          "data": {
            "text/plain": [
              "GridSearchCV(estimator=BaggingRegressor(random_state=42),\n",
              "             param_grid={'n_estimators': [50, 75, 100]})"
            ]
          },
          "metadata": {},
          "execution_count": 168
        }
      ]
    },
    {
      "cell_type": "code",
      "source": [
        "br_grid_search2.best_params_"
      ],
      "metadata": {
        "colab": {
          "base_uri": "https://localhost:8080/"
        },
        "id": "IXn29bgRAv3J",
        "outputId": "7ab53151-3fbe-451a-9a9d-54eb7914fbdd"
      },
      "execution_count": 169,
      "outputs": [
        {
          "output_type": "execute_result",
          "data": {
            "text/plain": [
              "{'n_estimators': 100}"
            ]
          },
          "metadata": {},
          "execution_count": 169
        }
      ]
    },
    {
      "cell_type": "code",
      "source": [
        "best_model_bag = br_grid_search2.best_estimator_\n",
        "model_pipeline(best_model_bag, X_train, X_test, y_train, y_test)"
      ],
      "metadata": {
        "colab": {
          "base_uri": "https://localhost:8080/"
        },
        "id": "4YQhw8IKGUWA",
        "outputId": "dcc5d193-34bd-4c09-bd7f-7f913f9b5d65"
      },
      "execution_count": 171,
      "outputs": [
        {
          "output_type": "stream",
          "name": "stdout",
          "text": [
            "Model Training MAE: 4.152\n",
            "Model Testing MAE: 11.103\n",
            "Model Training RMSE: 5.272\n",
            "Model Testing RMSE: 13.969\n",
            "Training R2 Score: 0.865\n",
            "Test R2 Score: 0.024\n"
          ]
        }
      ]
    },
    {
      "cell_type": "markdown",
      "source": [
        "# Feature Engineering"
      ],
      "metadata": {
        "id": "Bdi9DgfQ9609"
      }
    },
    {
      "cell_type": "code",
      "source": [
        "from sklearn.decomposition import PCA\n",
        "from sklearn.linear_model import LinearRegression"
      ],
      "metadata": {
        "id": "Y_HCBHM6Swlh"
      },
      "execution_count": 175,
      "outputs": []
    },
    {
      "cell_type": "code",
      "source": [
        "scaled_df = scaler.fit_transform(X_train_processed)\n",
        "pca = PCA()\n",
        "pca.fit(scaled_df)"
      ],
      "metadata": {
        "colab": {
          "base_uri": "https://localhost:8080/"
        },
        "id": "3BfMOmwvUkGU",
        "outputId": "8de17eb7-0c34-4bc7-92ff-e39ff367759d"
      },
      "execution_count": 176,
      "outputs": [
        {
          "output_type": "execute_result",
          "data": {
            "text/plain": [
              "PCA()"
            ]
          },
          "metadata": {},
          "execution_count": 176
        }
      ]
    },
    {
      "cell_type": "code",
      "source": [
        "fig, axes = plt.subplots(figsize = (10, 10))\n",
        "plt.plot(range(1, 286), pca.explained_variance_ratio_.cumsum(), marker = '.')\n",
        "plt.xticks(ticks=range(1, 286), fontsize = 1);"
      ],
      "metadata": {
        "colab": {
          "base_uri": "https://localhost:8080/",
          "height": 583
        },
        "id": "8BW1EOfPVH-_",
        "outputId": "d7c5fb8e-02a6-4f60-cd0f-bee5e3954c41"
      },
      "execution_count": 177,
      "outputs": [
        {
          "output_type": "display_data",
          "data": {
            "text/plain": [
              "<Figure size 720x720 with 1 Axes>"
            ],
            "image/png": "[encoded data removed]"
          },
          "metadata": {
            "needs_background": "light"
          }
        }
      ]
    },
    {
      "cell_type": "code",
      "source": [
        "pca_transformer = make_pipeline(scaler, PCA(n_components = .95))\n",
        "#Chose .95 because 95% of the variance is explained and looking at the graph excludes many points that are relatively\n",
        "#insignificant in increasing the overall variance"
      ],
      "metadata": {
        "id": "DyDFxgekRJi_"
      },
      "execution_count": 178,
      "outputs": []
    },
    {
      "cell_type": "code",
      "source": [
        "linreg = LinearRegression()\n",
        "linreg_pipe = make_pipeline(pca_transformer, linreg)\n",
        "linreg_pipe.fit(X_train_processed, y_train)"
      ],
      "metadata": {
        "colab": {
          "base_uri": "https://localhost:8080/"
        },
        "id": "YONnRsKBUD5f",
        "outputId": "9a0ca720-9f3e-4f42-8572-64c761391dfe"
      },
      "execution_count": 180,
      "outputs": [
        {
          "output_type": "execute_result",
          "data": {
            "text/plain": [
              "Pipeline(steps=[('pipeline',\n",
              "                 Pipeline(steps=[('standardscaler', StandardScaler()),\n",
              "                                 ('pca', PCA(n_components=0.95))])),\n",
              "                ('linearregression', LinearRegression())])"
            ]
          },
          "metadata": {},
          "execution_count": 180
        }
      ]
    },
    {
      "cell_type": "code",
      "source": [
        "train_pred_lin = linreg_pipe.predict(X_train_processed)\n",
        "test_pred_lin = linreg_pipe.predict(X_test_processed)"
      ],
      "metadata": {
        "id": "u9Fp84Q91wMM"
      },
      "execution_count": 181,
      "outputs": []
    },
    {
      "cell_type": "code",
      "source": [
        "print(f\"Model Training MAE: {mean_absolute_error(y_train, train_pred_lin):.3f}\")\n",
        "print(f\"Model Testing MAE: {mean_absolute_error(y_test, test_pred_lin):.3f}\")\n",
        "print(f\"Model Training RMSE: {np.sqrt(mean_squared_error(y_train, train_pred_lin)):.3f}\")\n",
        "print(f\"Model Testing RMSE: {np.sqrt(mean_squared_error(y_test, test_pred_lin)):.3f}\")\n",
        "print(f\"Training R2 Score: {linreg_pipe.score(X_train_processed,y_train):.3f}\")\n",
        "print(f\"Test R2 Score: {linreg_pipe.score(X_test_processed,y_test):.3f}\")"
      ],
      "metadata": {
        "colab": {
          "base_uri": "https://localhost:8080/"
        },
        "id": "M-Mv-ijlI1jD",
        "outputId": "9b26c3c9-aea6-4c95-c174-5fdedf2d6cce"
      },
      "execution_count": 189,
      "outputs": [
        {
          "output_type": "stream",
          "name": "stdout",
          "text": [
            "Model Training MAE: 10.842\n",
            "Model Testing MAE: 11.064\n",
            "Model Training RMSE: 13.622\n",
            "Model Testing RMSE: 13.893\n",
            "Training R2 Score: 0.101\n",
            "Test R2 Score: 0.034\n"
          ]
        }
      ]
    },
    {
      "cell_type": "markdown",
      "source": [
        "The production model I will choose is the linear regression model. For predicting the total score of an NFL game, the error is the most important metric. The linear regression model has both the lowest mean absolute error and root mean squared error."
      ],
      "metadata": {
        "id": "mex1v7n3Wp5_"
      }
    }
  ]
}